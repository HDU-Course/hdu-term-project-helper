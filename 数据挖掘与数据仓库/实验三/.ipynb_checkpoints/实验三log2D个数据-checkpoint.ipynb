{
 "cells": [
  {
   "cell_type": "code",
   "execution_count": 2,
   "metadata": {
    "collapsed": true
   },
   "outputs": [],
   "source": [
    "import pandas as pd\n",
    "from scipy.io import arff\n",
    "import numpy as np\n",
    "import math\n",
    "from sklearn.svm import SVC\n",
    "from sklearn.model_selection import GridSearchCV, train_test_split,cross_val_score,cross_validate\n",
    "from sklearn.preprocessing import StandardScaler\n",
    "from sklearn.metrics import accuracy_score\n",
    "from sklearn.naive_bayes import MultinomialNB\n",
    "from sklearn.tree import DecisionTreeClassifier\n",
    "import os\n",
    "import time\n",
    "from tqdm import tqdm"
   ]
  },
  {
   "cell_type": "code",
   "execution_count": 3,
   "metadata": {
    "collapsed": true
   },
   "outputs": [],
   "source": [
    "import warnings \n",
    "warnings.filterwarnings('ignore')"
   ]
  },
  {
   "cell_type": "code",
   "execution_count": 4,
   "metadata": {},
   "outputs": [
    {
     "data": {
      "text/plain": [
       "['CM1.arff',\n",
       " 'JM1.arff',\n",
       " 'KC1.arff',\n",
       " 'KC3.arff',\n",
       " 'MC1.arff',\n",
       " 'MC2.arff',\n",
       " 'MW1.arff',\n",
       " 'PC1.arff',\n",
       " 'PC2.arff',\n",
       " 'PC3.arff',\n",
       " 'PC4.arff',\n",
       " 'PC5.arff']"
      ]
     },
     "execution_count": 4,
     "metadata": {},
     "output_type": "execute_result"
    }
   ],
   "source": [
    "file_pwd = os.getcwd() + \"\\Data\"\n",
    "res = os.walk(file_pwd)\n",
    "file_list = [i[2] for i in res][0]\n",
    "file_list"
   ]
  },
  {
   "cell_type": "code",
   "execution_count": 5,
   "metadata": {
    "collapsed": true
   },
   "outputs": [],
   "source": [
    "#输入data,输出log2D列的数据\n",
    "def preprocess(df):\n",
    "    head_list = df.columns.values.tolist()\n",
    "    #标准化\n",
    "    data_without_YN = df.drop(\"Defective\",axis = 1)\n",
    "    data_normalize = (data_without_YN-data_without_YN.mean())/(data_without_YN.std())\n",
    "    data_normalize['Defective'] = df.Defective\n",
    "    \n",
    "    row_yes_data = df[df.Defective == b'Y']\n",
    "    row_yes_data = row_yes_data.drop(\"Defective\",axis = 1).values\n",
    "    row_no_data =  df[df.Defective == b'N']\n",
    "    row_no_data = row_no_data.drop(\"Defective\",axis = 1).values\n",
    "    \n",
    "    yes_samples = data_normalize[data_normalize.Defective == b\"Y\"]\n",
    "    yes_samples = yes_samples.drop(\"Defective\",axis = 1)\n",
    "    no_samples = data_normalize[data_normalize.Defective == b\"N\"]\n",
    "    no_samples = no_samples.drop(\"Defective\",axis = 1)\n",
    "    k = len(no_samples)//len(yes_samples)\n",
    "    \n",
    "    yes_samples_array = yes_samples.values\n",
    "    no_samples_array = no_samples.values\n",
    "    array = [[np.sqrt(np.sum(np.square(x-y))) for y in no_samples_array]for x in yes_samples_array]\n",
    "    array = np.array(array).argsort()[:,:k]\n",
    "    w = {i:0 for i in range(yes_samples.shape[1])}\n",
    "\n",
    "    for i in range(array.shape[0]):\n",
    "        for j in array[i]:\n",
    "            ds = np.abs(row_yes_data[i,:] - row_no_data[j,:])\n",
    "            ds = pd.Series(ds).rank(method='min')\n",
    "            for index in range(len(ds)):\n",
    "                w[index] += ds[index]\n",
    "    \n",
    "    a = sorted(w.items(),key=lambda x:x[1],reverse=True)\n",
    "    b = [i[0] for i in a ]\n",
    "    c = np.array(head_list)\n",
    "    column = list(c[b])\n",
    "    df2 = df.loc[:,column].copy()\n",
    "    \n",
    "    d = df2.shape[1]\n",
    "    log2d = math.ceil(math.log2(d))\n",
    "    df2 = df2.iloc[:,:log2d]\n",
    "    return df2"
   ]
  },
  {
   "cell_type": "code",
   "execution_count": 6,
   "metadata": {
    "collapsed": true
   },
   "outputs": [],
   "source": [
    "#返回十次十折交叉验证的平均auc\n",
    "def SVM(data,label):\n",
    "    clf = SVC(gamma='auto')\n",
    "    auc_list = []\n",
    "    data[\"label\"] = label\n",
    "    for i in tqdm(range(10)):\n",
    "        data = data.sample(frac=1)\n",
    "        scores = cross_val_score(clf,data.iloc[:,:-1],data.label,cv=10,scoring=\"roc_auc\")\n",
    "        auc_list.append(scores.mean())\n",
    "    return np.mean(auc_list)"
   ]
  },
  {
   "cell_type": "code",
   "execution_count": 7,
   "metadata": {
    "collapsed": true
   },
   "outputs": [],
   "source": [
    "#贝叶斯分类\n",
    "def NB(data,label):\n",
    "    clf = MultinomialNB()\n",
    "    auc_list = []\n",
    "    data[\"label\"] = label\n",
    "    for i in tqdm(range(10)):\n",
    "        data = data.sample(frac=1)\n",
    "        scores = cross_val_score(clf,data.iloc[:,:-1],data.label,cv=10,scoring=\"roc_auc\")\n",
    "        auc_list.append(scores.mean())\n",
    "    return np.mean(auc_list)"
   ]
  },
  {
   "cell_type": "code",
   "execution_count": 8,
   "metadata": {
    "collapsed": true
   },
   "outputs": [],
   "source": [
    "#决策树分类\n",
    "def DT(data,label):\n",
    "    clf = DecisionTreeClassifier()\n",
    "    auc_list = []\n",
    "    data[\"label\"] = label\n",
    "    for i in tqdm(range(10)):\n",
    "        data = data.sample(frac=1)\n",
    "        scores = cross_val_score(clf,data.iloc[:,:-1],data.label,cv=10,scoring=\"roc_auc\")\n",
    "        auc_list.append(scores.mean())\n",
    "    return np.mean(auc_list)\n"
   ]
  },
  {
   "cell_type": "code",
   "execution_count": 9,
   "metadata": {
    "scrolled": false
   },
   "outputs": [
    {
     "name": "stderr",
     "output_type": "stream",
     "text": [
      "100%|███████████████████████████████| 10/10 [00:01<00:00,  5.92it/s]\n",
      "100%|███████████████████████████████| 10/10 [00:00<00:00, 13.53it/s]\n",
      "100%|███████████████████████████████| 10/10 [00:00<00:00, 14.24it/s]\n"
     ]
    },
    {
     "name": "stdout",
     "output_type": "stream",
     "text": [
      "********************\n",
      "数据尺寸:(344, 7)\n",
      "文件名:CM1.arff\n",
      "log2D:7\n",
      "SVM--->0.555752688172043:\n",
      "决策树--->0.5071263440860214:\n",
      "贝叶斯--->0.3505497311827957\n",
      "use time:3.7558976\n",
      "====================\n"
     ]
    },
    {
     "name": "stderr",
     "output_type": "stream",
     "text": [
      "100%|███████████████████████████████| 10/10 [09:39<00:00, 57.98s/it]\n",
      "100%|███████████████████████████████| 10/10 [00:05<00:00,  1.77it/s]\n",
      "100%|███████████████████████████████| 10/10 [00:00<00:00, 10.01it/s]\n"
     ]
    },
    {
     "name": "stdout",
     "output_type": "stream",
     "text": [
      "********************\n",
      "数据尺寸:(9593, 6)\n",
      "文件名:JM1.arff\n",
      "log2D:6\n",
      "SVM--->0.6664491639691839:\n",
      "决策树--->0.5637473672868878:\n",
      "贝叶斯--->0.3707869263276976\n",
      "use time:776.067861\n",
      "====================\n"
     ]
    },
    {
     "name": "stderr",
     "output_type": "stream",
     "text": [
      "100%|███████████████████████████████| 10/10 [00:18<00:00,  1.88s/it]\n",
      "100%|███████████████████████████████| 10/10 [00:01<00:00,  6.91it/s]\n",
      "100%|███████████████████████████████| 10/10 [00:00<00:00, 13.75it/s]\n"
     ]
    },
    {
     "name": "stdout",
     "output_type": "stream",
     "text": [
      "********************\n",
      "数据尺寸:(2096, 6)\n",
      "文件名:KC1.arff\n",
      "log2D:6\n",
      "SVM--->0.796422445508215:\n",
      "决策树--->0.521384014877397:\n",
      "贝叶斯--->0.4403760890782708\n",
      "use time:29.531004800000005\n",
      "====================\n"
     ]
    },
    {
     "name": "stderr",
     "output_type": "stream",
     "text": [
      "100%|███████████████████████████████| 10/10 [00:00<00:00, 10.69it/s]\n",
      "100%|███████████████████████████████| 10/10 [00:00<00:00, 14.81it/s]\n",
      "100%|███████████████████████████████| 10/10 [00:00<00:00, 14.39it/s]\n"
     ]
    },
    {
     "name": "stdout",
     "output_type": "stream",
     "text": [
      "********************\n",
      "数据尺寸:(200, 7)\n",
      "文件名:KC3.arff\n",
      "log2D:7\n",
      "SVM--->0.5135539215686274:\n",
      "决策树--->0.5246001838235295:\n",
      "贝叶斯--->0.4723268995098039\n",
      "use time:2.6541952000000038\n",
      "====================\n"
     ]
    },
    {
     "name": "stderr",
     "output_type": "stream",
     "text": [
      "100%|███████████████████████████████| 10/10 [01:53<00:00, 11.31s/it]\n",
      "100%|███████████████████████████████| 10/10 [00:01<00:00,  5.31it/s]\n",
      "100%|███████████████████████████████| 10/10 [00:00<00:00, 10.24it/s]\n"
     ]
    },
    {
     "name": "stdout",
     "output_type": "stream",
     "text": [
      "********************\n",
      "数据尺寸:(9277, 7)\n",
      "文件名:MC1.arff\n",
      "log2D:7\n",
      "SVM--->0.8835570262991663:\n",
      "决策树--->0.8005816733375596:\n",
      "贝叶斯--->0.6387463614972023\n",
      "use time:133.29019879999998\n",
      "====================\n"
     ]
    },
    {
     "name": "stderr",
     "output_type": "stream",
     "text": [
      "100%|███████████████████████████████| 10/10 [00:00<00:00, 11.55it/s]\n",
      "100%|███████████████████████████████| 10/10 [00:00<00:00, 14.75it/s]\n",
      "100%|███████████████████████████████| 10/10 [00:00<00:00, 16.09it/s]\n"
     ]
    },
    {
     "name": "stdout",
     "output_type": "stream",
     "text": [
      "********************\n",
      "数据尺寸:(127, 7)\n",
      "文件名:MC2.arff\n",
      "log2D:7\n",
      "SVM--->0.5302777777777777:\n",
      "决策树--->0.5499583333333333:\n",
      "贝叶斯--->0.5976770833333334\n",
      "use time:2.4511095999999952\n",
      "====================\n"
     ]
    },
    {
     "name": "stderr",
     "output_type": "stream",
     "text": [
      "100%|███████████████████████████████| 10/10 [00:01<00:00,  8.64it/s]\n",
      "100%|███████████████████████████████| 10/10 [00:00<00:00, 15.24it/s]\n",
      "100%|███████████████████████████████| 10/10 [00:00<00:00, 14.04it/s]\n"
     ]
    },
    {
     "name": "stdout",
     "output_type": "stream",
     "text": [
      "********************\n",
      "数据尺寸:(264, 7)\n",
      "文件名:MW1.arff\n",
      "log2D:7\n",
      "SVM--->0.5096195652173913:\n",
      "决策树--->0.6037349033816425:\n",
      "贝叶斯--->0.4241455314009661\n",
      "use time:2.885296999999923\n",
      "====================\n"
     ]
    },
    {
     "name": "stderr",
     "output_type": "stream",
     "text": [
      "100%|███████████████████████████████| 10/10 [00:04<00:00,  2.14it/s]\n",
      "100%|███████████████████████████████| 10/10 [00:00<00:00, 12.94it/s]\n",
      "100%|███████████████████████████████| 10/10 [00:00<00:00, 16.02it/s]\n"
     ]
    },
    {
     "name": "stdout",
     "output_type": "stream",
     "text": [
      "********************\n",
      "数据尺寸:(759, 7)\n",
      "文件名:PC1.arff\n",
      "log2D:7\n",
      "SVM--->0.5583918712412501:\n",
      "决策树--->0.5563629103815438:\n",
      "贝叶斯--->0.3184344868382135\n",
      "use time:7.1608764000000065\n",
      "====================\n"
     ]
    },
    {
     "name": "stderr",
     "output_type": "stream",
     "text": [
      "100%|███████████████████████████████| 10/10 [00:08<00:00,  1.14it/s]\n",
      "100%|███████████████████████████████| 10/10 [00:00<00:00, 12.84it/s]\n",
      "100%|███████████████████████████████| 10/10 [00:00<00:00, 14.97it/s]\n"
     ]
    },
    {
     "name": "stdout",
     "output_type": "stream",
     "text": [
      "********************\n",
      "数据尺寸:(1585, 7)\n",
      "文件名:PC2.arff\n",
      "log2D:7\n",
      "SVM--->0.8841944308345582:\n",
      "决策树--->0.5088165523436224:\n",
      "贝叶斯--->0.2988535031847134\n",
      "use time:11.744186200000058\n",
      "====================\n"
     ]
    },
    {
     "name": "stderr",
     "output_type": "stream",
     "text": [
      "100%|███████████████████████████████| 10/10 [00:10<00:00,  1.05s/it]\n",
      "100%|███████████████████████████████| 10/10 [00:01<00:00,  9.10it/s]\n",
      "100%|███████████████████████████████| 10/10 [00:00<00:00, 14.32it/s]\n"
     ]
    },
    {
     "name": "stdout",
     "output_type": "stream",
     "text": [
      "********************\n",
      "数据尺寸:(1125, 7)\n",
      "文件名:PC3.arff\n",
      "log2D:7\n",
      "SVM--->0.6355518008069029:\n",
      "决策树--->0.6040268574962452:\n",
      "贝叶斯--->0.509480593103042\n",
      "use time:15.032965600000011\n",
      "====================\n"
     ]
    },
    {
     "name": "stderr",
     "output_type": "stream",
     "text": [
      "100%|███████████████████████████████| 10/10 [00:13<00:00,  1.37s/it]\n",
      "100%|███████████████████████████████| 10/10 [00:01<00:00,  8.43it/s]\n",
      "100%|███████████████████████████████| 10/10 [00:00<00:00, 14.62it/s]\n"
     ]
    },
    {
     "name": "stdout",
     "output_type": "stream",
     "text": [
      "********************\n",
      "数据尺寸:(1399, 7)\n",
      "文件名:PC4.arff\n",
      "log2D:7\n",
      "SVM--->0.6249232964766163:\n",
      "决策树--->0.5518660640319035:\n",
      "贝叶斯--->0.41187264636629006\n",
      "use time:18.954724599999963\n",
      "====================\n"
     ]
    },
    {
     "name": "stderr",
     "output_type": "stream",
     "text": [
      "100%|███████████████████████████████| 10/10 [03:04<00:00, 18.50s/it]\n",
      "100%|███████████████████████████████| 10/10 [00:02<00:00,  3.85it/s]\n",
      "100%|███████████████████████████████| 10/10 [00:01<00:00,  9.03it/s]\n"
     ]
    },
    {
     "name": "stdout",
     "output_type": "stream",
     "text": [
      "********************\n",
      "数据尺寸:(17001, 7)\n",
      "文件名:PC5.arff\n",
      "log2D:7\n",
      "SVM--->0.9492571822775971:\n",
      "决策树--->0.6204143409351244:\n",
      "贝叶斯--->0.19727954325547778\n",
      "use time:299.4676970999999\n",
      "====================\n",
      "总共耗时: 1305.5131313\n",
      "[{'size': (344, 7), 'name': 'CM1.arff', 'log2D': 7, 'SVM': 0.555752688172043, 'tree': 0.5071263440860214, 'nb': 0.3505497311827957}, {'size': (9593, 6), 'name': 'JM1.arff', 'log2D': 6, 'SVM': 0.6664491639691839, 'tree': 0.5637473672868878, 'nb': 0.3707869263276976}, {'size': (2096, 6), 'name': 'KC1.arff', 'log2D': 6, 'SVM': 0.796422445508215, 'tree': 0.521384014877397, 'nb': 0.4403760890782708}, {'size': (200, 7), 'name': 'KC3.arff', 'log2D': 7, 'SVM': 0.5135539215686274, 'tree': 0.5246001838235295, 'nb': 0.4723268995098039}, {'size': (9277, 7), 'name': 'MC1.arff', 'log2D': 7, 'SVM': 0.8835570262991663, 'tree': 0.8005816733375596, 'nb': 0.6387463614972023}, {'size': (127, 7), 'name': 'MC2.arff', 'log2D': 7, 'SVM': 0.5302777777777777, 'tree': 0.5499583333333333, 'nb': 0.5976770833333334}, {'size': (264, 7), 'name': 'MW1.arff', 'log2D': 7, 'SVM': 0.5096195652173913, 'tree': 0.6037349033816425, 'nb': 0.4241455314009661}, {'size': (759, 7), 'name': 'PC1.arff', 'log2D': 7, 'SVM': 0.5583918712412501, 'tree': 0.5563629103815438, 'nb': 0.3184344868382135}, {'size': (1585, 7), 'name': 'PC2.arff', 'log2D': 7, 'SVM': 0.8841944308345582, 'tree': 0.5088165523436224, 'nb': 0.2988535031847134}, {'size': (1125, 7), 'name': 'PC3.arff', 'log2D': 7, 'SVM': 0.6355518008069029, 'tree': 0.6040268574962452, 'nb': 0.509480593103042}, {'size': (1399, 7), 'name': 'PC4.arff', 'log2D': 7, 'SVM': 0.6249232964766163, 'tree': 0.5518660640319035, 'nb': 0.41187264636629006}, {'size': (17001, 7), 'name': 'PC5.arff', 'log2D': 7, 'SVM': 0.9492571822775971, 'tree': 0.6204143409351244, 'nb': 0.19727954325547778}]\n"
     ]
    }
   ],
   "source": [
    "real_start = time.clock()\n",
    "res_list = []\n",
    "for each in file_list:\n",
    "    data = arff.loadarff('./data/{}'.format(each))\n",
    "    df = pd.DataFrame(data[0])\n",
    "    if df.columns[-1] == \"label\":\n",
    "        df.rename(columns={'label':'Defective'},inplace=True) \n",
    "    defective = df.Defective.copy()\n",
    "    defective[defective==b'N'] = 0\n",
    "    defective[defective==b'Y'] = 1\n",
    "    \n",
    "    start = time.clock()\n",
    "    #分为数据和标签\n",
    "    data = preprocess(df)\n",
    "    label = defective.astype(int)\n",
    "    svm_auc = SVM(data,label)\n",
    "    destree_auc = DT(data,label)\n",
    "    nb_auc = NB(data,label)\n",
    "    print(\"*\"*20)\n",
    "    print(\"数据尺寸:{}\".format(data.shape))\n",
    "    print(\"文件名:{}\".format(each))\n",
    "    print(\"log2D:{}\".format(data.shape[1]))\n",
    "    print(\"SVM--->{}:\".format(svm_auc))\n",
    "    print(\"决策树--->{}:\".format(destree_auc))\n",
    "    print(\"贝叶斯--->{}\".format(nb_auc))\n",
    "    spend = (time.clock()-start)\n",
    "    print(\"use time:{}\".format(spend))\n",
    "    print(\"=\"*20)\n",
    "    make_dic = {\n",
    "        \"size\":data.shape,\n",
    "        \"name\":each,\n",
    "        \"log2D\":data.shape[1],\n",
    "        \"SVM\":svm_auc,\n",
    "        \"tree\":destree_auc,\n",
    "        \"nb\":nb_auc\n",
    "    }\n",
    "    res_list.append(make_dic)\n",
    "print(\"总共耗时:\",(time.clock()-real_start))\n",
    "print(res_list)"
   ]
  },
  {
   "cell_type": "code",
   "execution_count": 10,
   "metadata": {},
   "outputs": [
    {
     "data": {
      "text/html": [
       "<div>\n",
       "<style scoped>\n",
       "    .dataframe tbody tr th:only-of-type {\n",
       "        vertical-align: middle;\n",
       "    }\n",
       "\n",
       "    .dataframe tbody tr th {\n",
       "        vertical-align: top;\n",
       "    }\n",
       "\n",
       "    .dataframe thead th {\n",
       "        text-align: right;\n",
       "    }\n",
       "</style>\n",
       "<table border=\"1\" class=\"dataframe\">\n",
       "  <thead>\n",
       "    <tr style=\"text-align: right;\">\n",
       "      <th></th>\n",
       "      <th>name</th>\n",
       "      <th>log2D</th>\n",
       "      <th>SVM</th>\n",
       "      <th>tree</th>\n",
       "      <th>nb</th>\n",
       "    </tr>\n",
       "  </thead>\n",
       "  <tbody>\n",
       "    <tr>\n",
       "      <th>1</th>\n",
       "      <td>CM1.arff</td>\n",
       "      <td>7</td>\n",
       "      <td>0.555753</td>\n",
       "      <td>0.507126</td>\n",
       "      <td>0.350550</td>\n",
       "    </tr>\n",
       "    <tr>\n",
       "      <th>2</th>\n",
       "      <td>JM1.arff</td>\n",
       "      <td>6</td>\n",
       "      <td>0.666449</td>\n",
       "      <td>0.563747</td>\n",
       "      <td>0.370787</td>\n",
       "    </tr>\n",
       "    <tr>\n",
       "      <th>3</th>\n",
       "      <td>KC1.arff</td>\n",
       "      <td>6</td>\n",
       "      <td>0.796422</td>\n",
       "      <td>0.521384</td>\n",
       "      <td>0.440376</td>\n",
       "    </tr>\n",
       "    <tr>\n",
       "      <th>4</th>\n",
       "      <td>KC3.arff</td>\n",
       "      <td>7</td>\n",
       "      <td>0.513554</td>\n",
       "      <td>0.524600</td>\n",
       "      <td>0.472327</td>\n",
       "    </tr>\n",
       "    <tr>\n",
       "      <th>5</th>\n",
       "      <td>MC1.arff</td>\n",
       "      <td>7</td>\n",
       "      <td>0.883557</td>\n",
       "      <td>0.800582</td>\n",
       "      <td>0.638746</td>\n",
       "    </tr>\n",
       "    <tr>\n",
       "      <th>6</th>\n",
       "      <td>MC2.arff</td>\n",
       "      <td>7</td>\n",
       "      <td>0.530278</td>\n",
       "      <td>0.549958</td>\n",
       "      <td>0.597677</td>\n",
       "    </tr>\n",
       "    <tr>\n",
       "      <th>7</th>\n",
       "      <td>MW1.arff</td>\n",
       "      <td>7</td>\n",
       "      <td>0.509620</td>\n",
       "      <td>0.603735</td>\n",
       "      <td>0.424146</td>\n",
       "    </tr>\n",
       "    <tr>\n",
       "      <th>8</th>\n",
       "      <td>PC1.arff</td>\n",
       "      <td>7</td>\n",
       "      <td>0.558392</td>\n",
       "      <td>0.556363</td>\n",
       "      <td>0.318434</td>\n",
       "    </tr>\n",
       "    <tr>\n",
       "      <th>9</th>\n",
       "      <td>PC2.arff</td>\n",
       "      <td>7</td>\n",
       "      <td>0.884194</td>\n",
       "      <td>0.508817</td>\n",
       "      <td>0.298854</td>\n",
       "    </tr>\n",
       "    <tr>\n",
       "      <th>10</th>\n",
       "      <td>PC3.arff</td>\n",
       "      <td>7</td>\n",
       "      <td>0.635552</td>\n",
       "      <td>0.604027</td>\n",
       "      <td>0.509481</td>\n",
       "    </tr>\n",
       "    <tr>\n",
       "      <th>11</th>\n",
       "      <td>PC4.arff</td>\n",
       "      <td>7</td>\n",
       "      <td>0.624923</td>\n",
       "      <td>0.551866</td>\n",
       "      <td>0.411873</td>\n",
       "    </tr>\n",
       "    <tr>\n",
       "      <th>12</th>\n",
       "      <td>PC5.arff</td>\n",
       "      <td>7</td>\n",
       "      <td>0.949257</td>\n",
       "      <td>0.620414</td>\n",
       "      <td>0.197280</td>\n",
       "    </tr>\n",
       "  </tbody>\n",
       "</table>\n",
       "</div>"
      ],
      "text/plain": [
       "        name  log2D       SVM      tree        nb\n",
       "1   CM1.arff      7  0.555753  0.507126  0.350550\n",
       "2   JM1.arff      6  0.666449  0.563747  0.370787\n",
       "3   KC1.arff      6  0.796422  0.521384  0.440376\n",
       "4   KC3.arff      7  0.513554  0.524600  0.472327\n",
       "5   MC1.arff      7  0.883557  0.800582  0.638746\n",
       "6   MC2.arff      7  0.530278  0.549958  0.597677\n",
       "7   MW1.arff      7  0.509620  0.603735  0.424146\n",
       "8   PC1.arff      7  0.558392  0.556363  0.318434\n",
       "9   PC2.arff      7  0.884194  0.508817  0.298854\n",
       "10  PC3.arff      7  0.635552  0.604027  0.509481\n",
       "11  PC4.arff      7  0.624923  0.551866  0.411873\n",
       "12  PC5.arff      7  0.949257  0.620414  0.197280"
      ]
     },
     "execution_count": 10,
     "metadata": {},
     "output_type": "execute_result"
    }
   ],
   "source": [
    "data = {key:[]for key in res_list[0].keys()}\n",
    "for one in res_list:\n",
    "    for key,value in one.items():\n",
    "        data[key].append(value)\n",
    "data.pop(\"size\")\n",
    "data = pd.DataFrame(data,index=range(1,13))\n",
    "data"
   ]
  },
  {
   "cell_type": "code",
   "execution_count": null,
   "metadata": {
    "collapsed": true
   },
   "outputs": [],
   "source": []
  },
  {
   "cell_type": "code",
   "execution_count": null,
   "metadata": {
    "collapsed": true
   },
   "outputs": [],
   "source": []
  }
 ],
 "metadata": {
  "kernelspec": {
   "display_name": "Python 3",
   "language": "python",
   "name": "python3"
  },
  "language_info": {
   "codemirror_mode": {
    "name": "ipython",
    "version": 3
   },
   "file_extension": ".py",
   "mimetype": "text/x-python",
   "name": "python",
   "nbconvert_exporter": "python",
   "pygments_lexer": "ipython3",
   "version": "3.6.2"
  }
 },
 "nbformat": 4,
 "nbformat_minor": 2
}
