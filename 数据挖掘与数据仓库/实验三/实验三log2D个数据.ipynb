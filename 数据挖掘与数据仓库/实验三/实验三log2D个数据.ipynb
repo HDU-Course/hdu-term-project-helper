{
 "cells": [
  {
   "cell_type": "code",
   "execution_count": 1,
   "metadata": {
    "collapsed": true
   },
   "outputs": [],
   "source": [
    "import pandas as pd\n",
    "from scipy.io import arff\n",
    "import numpy as np\n",
    "import math\n",
    "from sklearn.svm import SVC\n",
    "from sklearn.model_selection import GridSearchCV, train_test_split,cross_val_score,cross_validate\n",
    "from sklearn.preprocessing import StandardScaler\n",
    "from sklearn.metrics import accuracy_score\n",
    "from sklearn.naive_bayes import MultinomialNB\n",
    "from sklearn.tree import DecisionTreeClassifier\n",
    "import os\n",
    "import time\n",
    "from tqdm.notebook import trange, tqdm"
   ]
  },
  {
   "cell_type": "code",
   "execution_count": 2,
   "metadata": {
    "collapsed": true
   },
   "outputs": [],
   "source": [
    "import warnings \n",
    "warnings.filterwarnings('ignore')"
   ]
  },
  {
   "cell_type": "code",
   "execution_count": 3,
   "metadata": {},
   "outputs": [
    {
     "data": {
      "text/plain": [
       "['CM1.arff',\n",
       " 'JM1.arff',\n",
       " 'KC1.arff',\n",
       " 'KC3.arff',\n",
       " 'MC1.arff',\n",
       " 'MC2.arff',\n",
       " 'MW1.arff',\n",
       " 'PC1.arff',\n",
       " 'PC2.arff',\n",
       " 'PC3.arff',\n",
       " 'PC4.arff',\n",
       " 'PC5.arff']"
      ]
     },
     "execution_count": 3,
     "metadata": {},
     "output_type": "execute_result"
    }
   ],
   "source": [
    "file_pwd = os.getcwd() + \"\\Data\"\n",
    "res = os.walk(file_pwd)\n",
    "file_list = [i[2] for i in res][0]\n",
    "file_list"
   ]
  },
  {
   "cell_type": "code",
   "execution_count": 4,
   "metadata": {
    "collapsed": true
   },
   "outputs": [],
   "source": [
    "#输入data,输出log2D列的数据,不带标签的\n",
    "def preprocess(df):\n",
    "    head_list = df.columns.values.tolist()\n",
    "    #标准化\n",
    "    data_without_YN = df.drop(\"Defective\",axis = 1)\n",
    "    data_normalize = (data_without_YN-data_without_YN.mean())/(data_without_YN.std())\n",
    "    data_normalize['Defective'] = df.Defective\n",
    "    \n",
    "    row_yes_data = df[df.Defective == b'Y']\n",
    "    row_yes_data = row_yes_data.drop(\"Defective\",axis = 1).values\n",
    "    row_no_data =  df[df.Defective == b'N']\n",
    "    row_no_data = row_no_data.drop(\"Defective\",axis = 1).values\n",
    "    \n",
    "    yes_samples = data_normalize[data_normalize.Defective == b\"Y\"]\n",
    "    yes_samples = yes_samples.drop(\"Defective\",axis = 1)\n",
    "    no_samples = data_normalize[data_normalize.Defective == b\"N\"]\n",
    "    no_samples = no_samples.drop(\"Defective\",axis = 1)\n",
    "    k = len(no_samples)//len(yes_samples)\n",
    "    \n",
    "    yes_samples_array = yes_samples.values\n",
    "    no_samples_array = no_samples.values\n",
    "    array = [[np.sqrt(np.sum(np.square(x-y))) for y in no_samples_array]for x in yes_samples_array]\n",
    "    array = np.array(array).argsort()[:,:k]\n",
    "    w = {i:0 for i in range(yes_samples.shape[1])}\n",
    "\n",
    "    for i in range(array.shape[0]):\n",
    "        for j in array[i]:\n",
    "            ds = np.abs(row_yes_data[i,:] - row_no_data[j,:])\n",
    "            ds = pd.Series(ds).rank(method='min')\n",
    "            for index in range(len(ds)):\n",
    "                w[index] += ds[index]\n",
    "    \n",
    "    a = sorted(w.items(),key=lambda x:x[1],reverse=True)\n",
    "    b = [i[0] for i in a ]\n",
    "    c = np.array(head_list)\n",
    "    column = list(c[b])\n",
    "    df2 = df.loc[:,column].copy()\n",
    "    \n",
    "    d = df2.shape[1]\n",
    "    log2d = math.ceil(math.log2(d))\n",
    "    df2 = df2.iloc[:,:log2d]\n",
    "    return df2"
   ]
  },
  {
   "cell_type": "code",
   "execution_count": 5,
   "metadata": {
    "collapsed": true
   },
   "outputs": [],
   "source": [
    "#返回十次十折交叉验证的平均auc\n",
    "def SVM(data,label):\n",
    "    clf = SVC(gamma='auto')\n",
    "    auc_list = []\n",
    "    data[\"label\"] = label\n",
    "    for i in tqdm(range(10)):\n",
    "        data = data.sample(frac=1)\n",
    "        scores = cross_val_score(clf,data.iloc[:,:-1],data.label,cv=10,scoring=\"roc_auc\")\n",
    "        auc_list.append(scores.mean())\n",
    "    return np.mean(auc_list)"
   ]
  },
  {
   "cell_type": "code",
   "execution_count": 6,
   "metadata": {
    "collapsed": true
   },
   "outputs": [],
   "source": [
    "#贝叶斯分类\n",
    "def NB(data,label):\n",
    "    clf = MultinomialNB()\n",
    "    auc_list = []\n",
    "    data[\"label\"] = label\n",
    "    for i in tqdm(range(10)):\n",
    "        data = data.sample(frac=1)\n",
    "        scores = cross_val_score(clf,data.iloc[:,:-1],data.label,cv=10,scoring=\"roc_auc\")\n",
    "        auc_list.append(scores.mean())\n",
    "    return np.mean(auc_list)"
   ]
  },
  {
   "cell_type": "code",
   "execution_count": 7,
   "metadata": {
    "collapsed": true
   },
   "outputs": [],
   "source": [
    "#决策树分类\n",
    "def DT(data,label):\n",
    "    clf = DecisionTreeClassifier()\n",
    "    auc_list = []\n",
    "    data[\"label\"] = label\n",
    "    for i in tqdm(range(10)):\n",
    "        data = data.sample(frac=1)\n",
    "        scores = cross_val_score(clf,data.iloc[:,:-1],data.label,cv=10,scoring=\"roc_auc\")\n",
    "        auc_list.append(scores.mean())\n",
    "    return np.mean(auc_list)\n"
   ]
  },
  {
   "cell_type": "code",
   "execution_count": 8,
   "metadata": {
    "scrolled": false
   },
   "outputs": [
    {
     "data": {
      "application/vnd.jupyter.widget-view+json": {
       "model_id": "403d8aa023b542b9be871fdcad25f9b1",
       "version_major": 2,
       "version_minor": 0
      },
      "text/plain": [
       "HBox(children=(IntProgress(value=0, max=10), HTML(value='')))"
      ]
     },
     "metadata": {},
     "output_type": "display_data"
    },
    {
     "name": "stdout",
     "output_type": "stream",
     "text": [
      "\n"
     ]
    },
    {
     "data": {
      "application/vnd.jupyter.widget-view+json": {
       "model_id": "642d86e89f854b6f9084a79f1a9a7968",
       "version_major": 2,
       "version_minor": 0
      },
      "text/plain": [
       "HBox(children=(IntProgress(value=0, max=10), HTML(value='')))"
      ]
     },
     "metadata": {},
     "output_type": "display_data"
    },
    {
     "name": "stdout",
     "output_type": "stream",
     "text": [
      "\n"
     ]
    },
    {
     "data": {
      "application/vnd.jupyter.widget-view+json": {
       "model_id": "f9087be2ab894e1e8bea590c5926875c",
       "version_major": 2,
       "version_minor": 0
      },
      "text/plain": [
       "HBox(children=(IntProgress(value=0, max=10), HTML(value='')))"
      ]
     },
     "metadata": {},
     "output_type": "display_data"
    },
    {
     "name": "stdout",
     "output_type": "stream",
     "text": [
      "\n",
      "********************\n",
      "数据尺寸:(344, 6)\n",
      "文件名:CM1.arff\n",
      "log2D:6\n",
      "SVM--->0.5576451612903226:\n",
      "决策树--->0.4961478494623656:\n",
      "贝叶斯--->0.38238844086021506\n",
      "use time:3.6591262999999996\n",
      "====================\n"
     ]
    },
    {
     "data": {
      "application/vnd.jupyter.widget-view+json": {
       "model_id": "e429415a56b24986bae48249543921c0",
       "version_major": 2,
       "version_minor": 0
      },
      "text/plain": [
       "HBox(children=(IntProgress(value=0, max=10), HTML(value='')))"
      ]
     },
     "metadata": {},
     "output_type": "display_data"
    },
    {
     "name": "stdout",
     "output_type": "stream",
     "text": [
      "\n"
     ]
    },
    {
     "data": {
      "application/vnd.jupyter.widget-view+json": {
       "model_id": "fa9c213b4ee44f0ca22dba75ea17ac31",
       "version_major": 2,
       "version_minor": 0
      },
      "text/plain": [
       "HBox(children=(IntProgress(value=0, max=10), HTML(value='')))"
      ]
     },
     "metadata": {},
     "output_type": "display_data"
    },
    {
     "name": "stdout",
     "output_type": "stream",
     "text": [
      "\n"
     ]
    },
    {
     "data": {
      "application/vnd.jupyter.widget-view+json": {
       "model_id": "c8c994cad56d479c93f2c2a6e886aab6",
       "version_major": 2,
       "version_minor": 0
      },
      "text/plain": [
       "HBox(children=(IntProgress(value=0, max=10), HTML(value='')))"
      ]
     },
     "metadata": {},
     "output_type": "display_data"
    },
    {
     "name": "stdout",
     "output_type": "stream",
     "text": [
      "\n",
      "********************\n",
      "数据尺寸:(9593, 5)\n",
      "文件名:JM1.arff\n",
      "log2D:5\n",
      "SVM--->0.6675134583042334:\n",
      "决策树--->0.5662707816031978:\n",
      "贝叶斯--->0.3712714770120866\n",
      "use time:799.9691903\n",
      "====================\n"
     ]
    },
    {
     "data": {
      "application/vnd.jupyter.widget-view+json": {
       "model_id": "fb018689a437490595de1e386a131bd9",
       "version_major": 2,
       "version_minor": 0
      },
      "text/plain": [
       "HBox(children=(IntProgress(value=0, max=10), HTML(value='')))"
      ]
     },
     "metadata": {},
     "output_type": "display_data"
    },
    {
     "name": "stdout",
     "output_type": "stream",
     "text": [
      "\n"
     ]
    },
    {
     "data": {
      "application/vnd.jupyter.widget-view+json": {
       "model_id": "4fea6fb37cc64333b1b8a0ca63971e40",
       "version_major": 2,
       "version_minor": 0
      },
      "text/plain": [
       "HBox(children=(IntProgress(value=0, max=10), HTML(value='')))"
      ]
     },
     "metadata": {},
     "output_type": "display_data"
    },
    {
     "name": "stdout",
     "output_type": "stream",
     "text": [
      "\n"
     ]
    },
    {
     "data": {
      "application/vnd.jupyter.widget-view+json": {
       "model_id": "663adf73093b4f4f9464b1404cd99b9a",
       "version_major": 2,
       "version_minor": 0
      },
      "text/plain": [
       "HBox(children=(IntProgress(value=0, max=10), HTML(value='')))"
      ]
     },
     "metadata": {},
     "output_type": "display_data"
    },
    {
     "name": "stdout",
     "output_type": "stream",
     "text": [
      "\n",
      "********************\n",
      "数据尺寸:(2096, 5)\n",
      "文件名:KC1.arff\n",
      "log2D:5\n",
      "SVM--->0.7981115664115925:\n",
      "决策树--->0.5271977737165022:\n",
      "贝叶斯--->0.4407297194113099\n",
      "use time:31.112286499999982\n",
      "====================\n"
     ]
    },
    {
     "data": {
      "application/vnd.jupyter.widget-view+json": {
       "model_id": "d3b59923631443a2836d8fe34360f8ae",
       "version_major": 2,
       "version_minor": 0
      },
      "text/plain": [
       "HBox(children=(IntProgress(value=0, max=10), HTML(value='')))"
      ]
     },
     "metadata": {},
     "output_type": "display_data"
    },
    {
     "name": "stdout",
     "output_type": "stream",
     "text": [
      "\n"
     ]
    },
    {
     "data": {
      "application/vnd.jupyter.widget-view+json": {
       "model_id": "a7732d694a45447788c0ab32b39c7269",
       "version_major": 2,
       "version_minor": 0
      },
      "text/plain": [
       "HBox(children=(IntProgress(value=0, max=10), HTML(value='')))"
      ]
     },
     "metadata": {},
     "output_type": "display_data"
    },
    {
     "name": "stdout",
     "output_type": "stream",
     "text": [
      "\n"
     ]
    },
    {
     "data": {
      "application/vnd.jupyter.widget-view+json": {
       "model_id": "8256a93307994bc2bdcbb737447b00a8",
       "version_major": 2,
       "version_minor": 0
      },
      "text/plain": [
       "HBox(children=(IntProgress(value=0, max=10), HTML(value='')))"
      ]
     },
     "metadata": {},
     "output_type": "display_data"
    },
    {
     "name": "stdout",
     "output_type": "stream",
     "text": [
      "\n",
      "********************\n",
      "数据尺寸:(200, 6)\n",
      "文件名:KC3.arff\n",
      "log2D:6\n",
      "SVM--->0.5157904411764707:\n",
      "决策树--->0.5330989583333333:\n",
      "贝叶斯--->0.47273897058823533\n",
      "use time:2.6175397999999177\n",
      "====================\n"
     ]
    },
    {
     "data": {
      "application/vnd.jupyter.widget-view+json": {
       "model_id": "8ca0b31b9b7b4ec7a73ff314570b46f8",
       "version_major": 2,
       "version_minor": 0
      },
      "text/plain": [
       "HBox(children=(IntProgress(value=0, max=10), HTML(value='')))"
      ]
     },
     "metadata": {},
     "output_type": "display_data"
    },
    {
     "name": "stdout",
     "output_type": "stream",
     "text": [
      "\n"
     ]
    },
    {
     "data": {
      "application/vnd.jupyter.widget-view+json": {
       "model_id": "5145b510580d4e3aa731802db8d20cab",
       "version_major": 2,
       "version_minor": 0
      },
      "text/plain": [
       "HBox(children=(IntProgress(value=0, max=10), HTML(value='')))"
      ]
     },
     "metadata": {},
     "output_type": "display_data"
    },
    {
     "name": "stdout",
     "output_type": "stream",
     "text": [
      "\n"
     ]
    },
    {
     "data": {
      "application/vnd.jupyter.widget-view+json": {
       "model_id": "1bd81d06323b4c0285dd810aefa88cd2",
       "version_major": 2,
       "version_minor": 0
      },
      "text/plain": [
       "HBox(children=(IntProgress(value=0, max=10), HTML(value='')))"
      ]
     },
     "metadata": {},
     "output_type": "display_data"
    },
    {
     "name": "stdout",
     "output_type": "stream",
     "text": [
      "\n",
      "********************\n",
      "数据尺寸:(9277, 6)\n",
      "文件名:MC1.arff\n",
      "log2D:6\n",
      "SVM--->0.8804181680390609:\n",
      "决策树--->0.8112091376901513:\n",
      "贝叶斯--->0.6709705630694425\n",
      "use time:147.92433070000004\n",
      "====================\n"
     ]
    },
    {
     "data": {
      "application/vnd.jupyter.widget-view+json": {
       "model_id": "0ec5a80040024af6bbf7a03171edc2b8",
       "version_major": 2,
       "version_minor": 0
      },
      "text/plain": [
       "HBox(children=(IntProgress(value=0, max=10), HTML(value='')))"
      ]
     },
     "metadata": {},
     "output_type": "display_data"
    },
    {
     "name": "stdout",
     "output_type": "stream",
     "text": [
      "\n"
     ]
    },
    {
     "data": {
      "application/vnd.jupyter.widget-view+json": {
       "model_id": "65686d1270fc464595ca14f4697dc1b0",
       "version_major": 2,
       "version_minor": 0
      },
      "text/plain": [
       "HBox(children=(IntProgress(value=0, max=10), HTML(value='')))"
      ]
     },
     "metadata": {},
     "output_type": "display_data"
    },
    {
     "name": "stdout",
     "output_type": "stream",
     "text": [
      "\n"
     ]
    },
    {
     "data": {
      "application/vnd.jupyter.widget-view+json": {
       "model_id": "59f8ec074df445d0976aa2dbb9b5174a",
       "version_major": 2,
       "version_minor": 0
      },
      "text/plain": [
       "HBox(children=(IntProgress(value=0, max=10), HTML(value='')))"
      ]
     },
     "metadata": {},
     "output_type": "display_data"
    },
    {
     "name": "stdout",
     "output_type": "stream",
     "text": [
      "\n",
      "********************\n",
      "数据尺寸:(127, 6)\n",
      "文件名:MC2.arff\n",
      "log2D:6\n",
      "SVM--->0.5338194444444444:\n",
      "决策树--->0.5520694444444445:\n",
      "贝叶斯--->0.6011180555555556\n",
      "use time:2.5809107999999696\n",
      "====================\n"
     ]
    },
    {
     "data": {
      "application/vnd.jupyter.widget-view+json": {
       "model_id": "697ed90e396d4c22bd4297fd05928f87",
       "version_major": 2,
       "version_minor": 0
      },
      "text/plain": [
       "HBox(children=(IntProgress(value=0, max=10), HTML(value='')))"
      ]
     },
     "metadata": {},
     "output_type": "display_data"
    },
    {
     "name": "stdout",
     "output_type": "stream",
     "text": [
      "\n"
     ]
    },
    {
     "data": {
      "application/vnd.jupyter.widget-view+json": {
       "model_id": "19ed4711bf7d4569881362619b493eab",
       "version_major": 2,
       "version_minor": 0
      },
      "text/plain": [
       "HBox(children=(IntProgress(value=0, max=10), HTML(value='')))"
      ]
     },
     "metadata": {},
     "output_type": "display_data"
    },
    {
     "name": "stdout",
     "output_type": "stream",
     "text": [
      "\n"
     ]
    },
    {
     "data": {
      "application/vnd.jupyter.widget-view+json": {
       "model_id": "52db9841fe5b48118b2099f0ade82a5a",
       "version_major": 2,
       "version_minor": 0
      },
      "text/plain": [
       "HBox(children=(IntProgress(value=0, max=10), HTML(value='')))"
      ]
     },
     "metadata": {},
     "output_type": "display_data"
    },
    {
     "name": "stdout",
     "output_type": "stream",
     "text": [
      "\n",
      "********************\n",
      "数据尺寸:(264, 6)\n",
      "文件名:MW1.arff\n",
      "log2D:6\n",
      "SVM--->0.5131853864734299:\n",
      "决策树--->0.6145833333333334:\n",
      "贝叶斯--->0.4178109903381643\n",
      "use time:3.2987233999999717\n",
      "====================\n"
     ]
    },
    {
     "data": {
      "application/vnd.jupyter.widget-view+json": {
       "model_id": "530cde0599ec4892917d72ffda002598",
       "version_major": 2,
       "version_minor": 0
      },
      "text/plain": [
       "HBox(children=(IntProgress(value=0, max=10), HTML(value='')))"
      ]
     },
     "metadata": {},
     "output_type": "display_data"
    },
    {
     "name": "stdout",
     "output_type": "stream",
     "text": [
      "\n"
     ]
    },
    {
     "data": {
      "application/vnd.jupyter.widget-view+json": {
       "model_id": "006aefd5fe804f4cbdfb21e0da3a4ce4",
       "version_major": 2,
       "version_minor": 0
      },
      "text/plain": [
       "HBox(children=(IntProgress(value=0, max=10), HTML(value='')))"
      ]
     },
     "metadata": {},
     "output_type": "display_data"
    },
    {
     "name": "stdout",
     "output_type": "stream",
     "text": [
      "\n"
     ]
    },
    {
     "data": {
      "application/vnd.jupyter.widget-view+json": {
       "model_id": "615630ba5f35460888fead352682ffbe",
       "version_major": 2,
       "version_minor": 0
      },
      "text/plain": [
       "HBox(children=(IntProgress(value=0, max=10), HTML(value='')))"
      ]
     },
     "metadata": {},
     "output_type": "display_data"
    },
    {
     "name": "stdout",
     "output_type": "stream",
     "text": [
      "\n",
      "********************\n",
      "数据尺寸:(759, 6)\n",
      "文件名:PC1.arff\n",
      "log2D:6\n",
      "SVM--->0.560062629399586:\n",
      "决策树--->0.567280045351474:\n",
      "贝叶斯--->0.31155237602287295\n",
      "use time:9.505013900000108\n",
      "====================\n"
     ]
    },
    {
     "data": {
      "application/vnd.jupyter.widget-view+json": {
       "model_id": "0a6b4314f0384768b0d93800ffb4ec21",
       "version_major": 2,
       "version_minor": 0
      },
      "text/plain": [
       "HBox(children=(IntProgress(value=0, max=10), HTML(value='')))"
      ]
     },
     "metadata": {},
     "output_type": "display_data"
    },
    {
     "name": "stdout",
     "output_type": "stream",
     "text": [
      "\n"
     ]
    },
    {
     "data": {
      "application/vnd.jupyter.widget-view+json": {
       "model_id": "57ecd922423a458eac76e7caf6bea66e",
       "version_major": 2,
       "version_minor": 0
      },
      "text/plain": [
       "HBox(children=(IntProgress(value=0, max=10), HTML(value='')))"
      ]
     },
     "metadata": {},
     "output_type": "display_data"
    },
    {
     "name": "stdout",
     "output_type": "stream",
     "text": [
      "\n"
     ]
    },
    {
     "data": {
      "application/vnd.jupyter.widget-view+json": {
       "model_id": "7e4db110d2a24d238205b0e47ecb5977",
       "version_major": 2,
       "version_minor": 0
      },
      "text/plain": [
       "HBox(children=(IntProgress(value=0, max=10), HTML(value='')))"
      ]
     },
     "metadata": {},
     "output_type": "display_data"
    },
    {
     "name": "stdout",
     "output_type": "stream",
     "text": [
      "\n",
      "********************\n",
      "数据尺寸:(1585, 6)\n",
      "文件名:PC2.arff\n",
      "log2D:6\n",
      "SVM--->0.8837767434264251:\n",
      "决策树--->0.5144543116119549:\n",
      "贝叶斯--->0.3258476237138658\n",
      "use time:14.621963599999958\n",
      "====================\n"
     ]
    },
    {
     "data": {
      "application/vnd.jupyter.widget-view+json": {
       "model_id": "1fd74c0fa2dc44b9ad860bfea9b4db28",
       "version_major": 2,
       "version_minor": 0
      },
      "text/plain": [
       "HBox(children=(IntProgress(value=0, max=10), HTML(value='')))"
      ]
     },
     "metadata": {},
     "output_type": "display_data"
    },
    {
     "name": "stdout",
     "output_type": "stream",
     "text": [
      "\n"
     ]
    },
    {
     "data": {
      "application/vnd.jupyter.widget-view+json": {
       "model_id": "5a922a6fe6734eac8be29a5e1af81403",
       "version_major": 2,
       "version_minor": 0
      },
      "text/plain": [
       "HBox(children=(IntProgress(value=0, max=10), HTML(value='')))"
      ]
     },
     "metadata": {},
     "output_type": "display_data"
    },
    {
     "name": "stdout",
     "output_type": "stream",
     "text": [
      "\n"
     ]
    },
    {
     "data": {
      "application/vnd.jupyter.widget-view+json": {
       "model_id": "c89397d13164468982014fb742ceebf7",
       "version_major": 2,
       "version_minor": 0
      },
      "text/plain": [
       "HBox(children=(IntProgress(value=0, max=10), HTML(value='')))"
      ]
     },
     "metadata": {},
     "output_type": "display_data"
    },
    {
     "name": "stdout",
     "output_type": "stream",
     "text": [
      "\n",
      "********************\n",
      "数据尺寸:(1125, 6)\n",
      "文件名:PC3.arff\n",
      "log2D:6\n",
      "SVM--->0.6306164413817477:\n",
      "决策树--->0.6037578039873959:\n",
      "贝叶斯--->0.5068995715169183\n",
      "use time:18.335934199999997\n",
      "====================\n"
     ]
    },
    {
     "data": {
      "application/vnd.jupyter.widget-view+json": {
       "model_id": "c364b9d707b04b77bca98f1410f5a4c1",
       "version_major": 2,
       "version_minor": 0
      },
      "text/plain": [
       "HBox(children=(IntProgress(value=0, max=10), HTML(value='')))"
      ]
     },
     "metadata": {},
     "output_type": "display_data"
    },
    {
     "name": "stdout",
     "output_type": "stream",
     "text": [
      "\n"
     ]
    },
    {
     "data": {
      "application/vnd.jupyter.widget-view+json": {
       "model_id": "ae7f51d9bcee452da3d72b7bdaf5ab87",
       "version_major": 2,
       "version_minor": 0
      },
      "text/plain": [
       "HBox(children=(IntProgress(value=0, max=10), HTML(value='')))"
      ]
     },
     "metadata": {},
     "output_type": "display_data"
    },
    {
     "name": "stdout",
     "output_type": "stream",
     "text": [
      "\n"
     ]
    },
    {
     "data": {
      "application/vnd.jupyter.widget-view+json": {
       "model_id": "535255ead6e54621b30f94e6cf0a62ef",
       "version_major": 2,
       "version_minor": 0
      },
      "text/plain": [
       "HBox(children=(IntProgress(value=0, max=10), HTML(value='')))"
      ]
     },
     "metadata": {},
     "output_type": "display_data"
    },
    {
     "name": "stdout",
     "output_type": "stream",
     "text": [
      "\n",
      "********************\n",
      "数据尺寸:(1399, 6)\n",
      "文件名:PC4.arff\n",
      "log2D:6\n",
      "SVM--->0.6245920618680632:\n",
      "决策树--->0.5579236889122348:\n",
      "贝叶斯--->0.4201077412172386\n",
      "use time:36.83919190000006\n",
      "====================\n"
     ]
    },
    {
     "data": {
      "application/vnd.jupyter.widget-view+json": {
       "model_id": "dd6e0c08900147f0b2aa55e08db67f56",
       "version_major": 2,
       "version_minor": 0
      },
      "text/plain": [
       "HBox(children=(IntProgress(value=0, max=10), HTML(value='')))"
      ]
     },
     "metadata": {},
     "output_type": "display_data"
    },
    {
     "name": "stdout",
     "output_type": "stream",
     "text": [
      "\n"
     ]
    },
    {
     "data": {
      "application/vnd.jupyter.widget-view+json": {
       "model_id": "a622dfe72a27426d8a7be784bc93f6af",
       "version_major": 2,
       "version_minor": 0
      },
      "text/plain": [
       "HBox(children=(IntProgress(value=0, max=10), HTML(value='')))"
      ]
     },
     "metadata": {},
     "output_type": "display_data"
    },
    {
     "name": "stdout",
     "output_type": "stream",
     "text": [
      "\n"
     ]
    },
    {
     "data": {
      "application/vnd.jupyter.widget-view+json": {
       "model_id": "808bdbc8a11c41729c45c9fa70da7178",
       "version_major": 2,
       "version_minor": 0
      },
      "text/plain": [
       "HBox(children=(IntProgress(value=0, max=10), HTML(value='')))"
      ]
     },
     "metadata": {},
     "output_type": "display_data"
    },
    {
     "name": "stdout",
     "output_type": "stream",
     "text": [
      "\n",
      "********************\n",
      "数据尺寸:(17001, 6)\n",
      "文件名:PC5.arff\n",
      "log2D:6\n",
      "SVM--->0.9510261653159858:\n",
      "决策树--->0.6133271620143215:\n",
      "贝叶斯--->0.19612663173885608\n",
      "use time:476.00137889999996\n",
      "====================\n",
      "总共耗时: 1549.4492114\n",
      "[{'size': (344, 6), 'name': 'CM1.arff', 'log2D': 6, 'SVM': 0.5576451612903226, 'tree': 0.4961478494623656, 'nb': 0.38238844086021506}, {'size': (9593, 5), 'name': 'JM1.arff', 'log2D': 5, 'SVM': 0.6675134583042334, 'tree': 0.5662707816031978, 'nb': 0.3712714770120866}, {'size': (2096, 5), 'name': 'KC1.arff', 'log2D': 5, 'SVM': 0.7981115664115925, 'tree': 0.5271977737165022, 'nb': 0.4407297194113099}, {'size': (200, 6), 'name': 'KC3.arff', 'log2D': 6, 'SVM': 0.5157904411764707, 'tree': 0.5330989583333333, 'nb': 0.47273897058823533}, {'size': (9277, 6), 'name': 'MC1.arff', 'log2D': 6, 'SVM': 0.8804181680390609, 'tree': 0.8112091376901513, 'nb': 0.6709705630694425}, {'size': (127, 6), 'name': 'MC2.arff', 'log2D': 6, 'SVM': 0.5338194444444444, 'tree': 0.5520694444444445, 'nb': 0.6011180555555556}, {'size': (264, 6), 'name': 'MW1.arff', 'log2D': 6, 'SVM': 0.5131853864734299, 'tree': 0.6145833333333334, 'nb': 0.4178109903381643}, {'size': (759, 6), 'name': 'PC1.arff', 'log2D': 6, 'SVM': 0.560062629399586, 'tree': 0.567280045351474, 'nb': 0.31155237602287295}, {'size': (1585, 6), 'name': 'PC2.arff', 'log2D': 6, 'SVM': 0.8837767434264251, 'tree': 0.5144543116119549, 'nb': 0.3258476237138658}, {'size': (1125, 6), 'name': 'PC3.arff', 'log2D': 6, 'SVM': 0.6306164413817477, 'tree': 0.6037578039873959, 'nb': 0.5068995715169183}, {'size': (1399, 6), 'name': 'PC4.arff', 'log2D': 6, 'SVM': 0.6245920618680632, 'tree': 0.5579236889122348, 'nb': 0.4201077412172386}, {'size': (17001, 6), 'name': 'PC5.arff', 'log2D': 6, 'SVM': 0.9510261653159858, 'tree': 0.6133271620143215, 'nb': 0.19612663173885608}]\n"
     ]
    }
   ],
   "source": [
    "real_start = time.clock()\n",
    "res_list = []\n",
    "for each in file_list:\n",
    "    data = arff.loadarff('./data/{}'.format(each))\n",
    "    df = pd.DataFrame(data[0])\n",
    "    if df.columns[-1] == \"label\":\n",
    "        df.rename(columns={'label':'Defective'},inplace=True) \n",
    "    defective = df.Defective.copy()\n",
    "    defective[defective==b'N'] = 0\n",
    "    defective[defective==b'Y'] = 1\n",
    "    \n",
    "    start = time.clock()\n",
    "    #分为数据和标签\n",
    "    data = preprocess(df)\n",
    "    label = defective.astype(int)\n",
    "    #带入训练\n",
    "    svm_auc = SVM(data.copy(),label)\n",
    "    destree_auc = DT(data.copy(),label)\n",
    "    nb_auc = NB(data.copy(),label)\n",
    "    print(\"*\"*20)\n",
    "    print(\"数据尺寸:{}\".format(data.shape))\n",
    "    print(\"文件名:{}\".format(each))\n",
    "    print(\"log2D:{}\".format(data.shape[1]))\n",
    "    print(\"SVM--->{}:\".format(svm_auc))\n",
    "    print(\"决策树--->{}:\".format(destree_auc))\n",
    "    print(\"贝叶斯--->{}\".format(nb_auc))\n",
    "    spend = (time.clock()-start)\n",
    "    print(\"use time:{}\".format(spend))\n",
    "    print(\"=\"*20)\n",
    "    make_dic = {\n",
    "        \"size\":data.shape,\n",
    "        \"name\":each,\n",
    "        \"log2D\":data.shape[1],\n",
    "        \"SVM\":svm_auc,\n",
    "        \"tree\":destree_auc,\n",
    "        \"nb\":nb_auc\n",
    "    }\n",
    "    res_list.append(make_dic)\n",
    "print(\"总共耗时:\",(time.clock()-real_start))\n",
    "print(res_list)"
   ]
  },
  {
   "cell_type": "code",
   "execution_count": 9,
   "metadata": {
    "collapsed": true
   },
   "outputs": [],
   "source": [
    "data = {key:[]for key in res_list[0].keys()}\n",
    "for one in res_list:\n",
    "    for key,value in one.items():\n",
    "        data[key].append(value)\n",
    "data.pop(\"size\")\n",
    "data = pd.DataFrame(data,index=range(1,13))\n",
    "data.to_csv(\"log2D_2.csv\")"
   ]
  },
  {
   "cell_type": "code",
   "execution_count": null,
   "metadata": {
    "collapsed": true
   },
   "outputs": [],
   "source": []
  },
  {
   "cell_type": "code",
   "execution_count": null,
   "metadata": {
    "collapsed": true
   },
   "outputs": [],
   "source": []
  }
 ],
 "metadata": {
  "kernelspec": {
   "display_name": "Python 3",
   "language": "python",
   "name": "python3"
  },
  "language_info": {
   "codemirror_mode": {
    "name": "ipython",
    "version": 3
   },
   "file_extension": ".py",
   "mimetype": "text/x-python",
   "name": "python",
   "nbconvert_exporter": "python",
   "pygments_lexer": "ipython3",
   "version": "3.6.2"
  },
  "toc": {
   "base_numbering": 1,
   "nav_menu": {},
   "number_sections": true,
   "sideBar": true,
   "skip_h1_title": false,
   "title_cell": "Table of Contents",
   "title_sidebar": "Contents",
   "toc_cell": false,
   "toc_position": {},
   "toc_section_display": true,
   "toc_window_display": false
  },
  "varInspector": {
   "cols": {
    "lenName": 16,
    "lenType": 16,
    "lenVar": 40
   },
   "kernels_config": {
    "python": {
     "delete_cmd_postfix": "",
     "delete_cmd_prefix": "del ",
     "library": "var_list.py",
     "varRefreshCmd": "print(var_dic_list())"
    },
    "r": {
     "delete_cmd_postfix": ") ",
     "delete_cmd_prefix": "rm(",
     "library": "var_list.r",
     "varRefreshCmd": "cat(var_dic_list()) "
    }
   },
   "types_to_exclude": [
    "module",
    "function",
    "builtin_function_or_method",
    "instance",
    "_Feature"
   ],
   "window_display": false
  }
 },
 "nbformat": 4,
 "nbformat_minor": 2
}
