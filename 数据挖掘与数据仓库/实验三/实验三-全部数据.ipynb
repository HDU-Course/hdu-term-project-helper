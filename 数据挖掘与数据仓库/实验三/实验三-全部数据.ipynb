{
 "cells": [
  {
   "cell_type": "code",
   "execution_count": 12,
   "metadata": {
    "collapsed": true
   },
   "outputs": [],
   "source": [
    "import pandas as pd\n",
    "from scipy.io import arff\n",
    "import numpy as np\n",
    "import math\n",
    "from sklearn.svm import SVC\n",
    "from sklearn.model_selection import GridSearchCV, train_test_split,cross_val_score,cross_validate\n",
    "from sklearn.preprocessing import StandardScaler\n",
    "from sklearn.metrics import accuracy_score\n",
    "from sklearn.naive_bayes import MultinomialNB\n",
    "from sklearn.tree import DecisionTreeClassifier\n",
    "import os\n",
    "import time\n",
    "from tqdm.notebook import trange, tqdm"
   ]
  },
  {
   "cell_type": "code",
   "execution_count": 13,
   "metadata": {
    "collapsed": true
   },
   "outputs": [],
   "source": [
    "import warnings \n",
    "warnings.filterwarnings('ignore')"
   ]
  },
  {
   "cell_type": "code",
   "execution_count": 14,
   "metadata": {},
   "outputs": [
    {
     "data": {
      "text/plain": [
       "['CM1.arff',\n",
       " 'JM1.arff',\n",
       " 'KC1.arff',\n",
       " 'KC3.arff',\n",
       " 'MC1.arff',\n",
       " 'MC2.arff',\n",
       " 'MW1.arff',\n",
       " 'PC1.arff',\n",
       " 'PC2.arff',\n",
       " 'PC3.arff',\n",
       " 'PC4.arff',\n",
       " 'PC5.arff']"
      ]
     },
     "execution_count": 14,
     "metadata": {},
     "output_type": "execute_result"
    }
   ],
   "source": [
    "file_pwd = os.getcwd() + \"\\Data\"\n",
    "res = os.walk(file_pwd)\n",
    "file_list = [i[2] for i in res][0]\n",
    "file_list"
   ]
  },
  {
   "cell_type": "code",
   "execution_count": 15,
   "metadata": {
    "collapsed": true
   },
   "outputs": [],
   "source": [
    "#返回十次十折交叉验证的平均auc\n",
    "def SVM(data,label):\n",
    "    clf = SVC(gamma='auto')\n",
    "    auc_list = []\n",
    "    data[\"label\"] = label\n",
    "    for i in tqdm(range(10)):\n",
    "        data = data.sample(frac=1)\n",
    "        scores = cross_val_score(clf,data.iloc[:,:-1],data.label,cv=10,scoring=\"roc_auc\")\n",
    "        auc_list.append(scores.mean())\n",
    "    return np.mean(auc_list)"
   ]
  },
  {
   "cell_type": "code",
   "execution_count": 16,
   "metadata": {
    "collapsed": true
   },
   "outputs": [],
   "source": [
    "#贝叶斯分类\n",
    "def NB(data,label):\n",
    "    clf = MultinomialNB()\n",
    "    auc_list = []\n",
    "    data[\"label\"] = label\n",
    "    for i in tqdm(range(10)):\n",
    "        data = data.sample(frac=1)\n",
    "        scores = cross_val_score(clf,data.iloc[:,:-1],data.label,cv=10,scoring=\"roc_auc\")\n",
    "        auc_list.append(scores.mean())\n",
    "    return np.mean(auc_list)"
   ]
  },
  {
   "cell_type": "code",
   "execution_count": 17,
   "metadata": {
    "collapsed": true
   },
   "outputs": [],
   "source": [
    "#决策树分类\n",
    "def DT(data,label):\n",
    "    clf = DecisionTreeClassifier()\n",
    "    auc_list = []\n",
    "    data[\"label\"] = label\n",
    "    for i in tqdm(range(10)):\n",
    "        data = data.sample(frac=1)\n",
    "        scores = cross_val_score(clf,data.iloc[:,:-1],data.label,cv=10,scoring=\"roc_auc\")\n",
    "        auc_list.append(scores.mean())\n",
    "    return np.mean(auc_list)\n"
   ]
  },
  {
   "cell_type": "code",
   "execution_count": 18,
   "metadata": {
    "scrolled": false
   },
   "outputs": [
    {
     "data": {
      "application/vnd.jupyter.widget-view+json": {
       "model_id": "52b9a07db81741a3a6bfb5450dbdddbb",
       "version_major": 2,
       "version_minor": 0
      },
      "text/plain": [
       "HBox(children=(IntProgress(value=0, max=10), HTML(value='')))"
      ]
     },
     "metadata": {},
     "output_type": "display_data"
    },
    {
     "name": "stdout",
     "output_type": "stream",
     "text": [
      "\n"
     ]
    },
    {
     "data": {
      "application/vnd.jupyter.widget-view+json": {
       "model_id": "c2d62195188140fb8370955aa2e7e7c4",
       "version_major": 2,
       "version_minor": 0
      },
      "text/plain": [
       "HBox(children=(IntProgress(value=0, max=10), HTML(value='')))"
      ]
     },
     "metadata": {},
     "output_type": "display_data"
    },
    {
     "name": "stdout",
     "output_type": "stream",
     "text": [
      "\n"
     ]
    },
    {
     "data": {
      "application/vnd.jupyter.widget-view+json": {
       "model_id": "a82f9846d47a4625a94f32804f7739c6",
       "version_major": 2,
       "version_minor": 0
      },
      "text/plain": [
       "HBox(children=(IntProgress(value=0, max=10), HTML(value='')))"
      ]
     },
     "metadata": {},
     "output_type": "display_data"
    },
    {
     "name": "stdout",
     "output_type": "stream",
     "text": [
      "\n",
      "********************\n",
      "数据尺寸:(344, 37)\n",
      "文件名:CM1.arff\n",
      "SVM--->0.5864274193548387:\n",
      "决策树--->0.5657876344086022:\n",
      "贝叶斯--->0.44510080645161293\n",
      "use time:4.759242799999811\n",
      "====================\n"
     ]
    },
    {
     "data": {
      "application/vnd.jupyter.widget-view+json": {
       "model_id": "0db61b5f75b243e7bfcbd4619dd17b37",
       "version_major": 2,
       "version_minor": 0
      },
      "text/plain": [
       "HBox(children=(IntProgress(value=0, max=10), HTML(value='')))"
      ]
     },
     "metadata": {},
     "output_type": "display_data"
    },
    {
     "name": "stdout",
     "output_type": "stream",
     "text": [
      "\n"
     ]
    },
    {
     "data": {
      "application/vnd.jupyter.widget-view+json": {
       "model_id": "c5e7e28108f54527b1088d643ab71061",
       "version_major": 2,
       "version_minor": 0
      },
      "text/plain": [
       "HBox(children=(IntProgress(value=0, max=10), HTML(value='')))"
      ]
     },
     "metadata": {},
     "output_type": "display_data"
    },
    {
     "name": "stdout",
     "output_type": "stream",
     "text": [
      "\n"
     ]
    },
    {
     "data": {
      "application/vnd.jupyter.widget-view+json": {
       "model_id": "30d8122885a74b0998bc3b8d66831b4a",
       "version_major": 2,
       "version_minor": 0
      },
      "text/plain": [
       "HBox(children=(IntProgress(value=0, max=10), HTML(value='')))"
      ]
     },
     "metadata": {},
     "output_type": "display_data"
    },
    {
     "name": "stdout",
     "output_type": "stream",
     "text": [
      "\n",
      "********************\n",
      "数据尺寸:(9593, 21)\n",
      "文件名:JM1.arff\n",
      "SVM--->0.6903996352548769:\n",
      "决策树--->0.5949248742094146:\n",
      "贝叶斯--->0.3791161399818766\n",
      "use time:1145.7284157999998\n",
      "====================\n"
     ]
    },
    {
     "data": {
      "application/vnd.jupyter.widget-view+json": {
       "model_id": "211cc849ccd7451487d0b6edaabfd474",
       "version_major": 2,
       "version_minor": 0
      },
      "text/plain": [
       "HBox(children=(IntProgress(value=0, max=10), HTML(value='')))"
      ]
     },
     "metadata": {},
     "output_type": "display_data"
    },
    {
     "name": "stdout",
     "output_type": "stream",
     "text": [
      "\n"
     ]
    },
    {
     "data": {
      "application/vnd.jupyter.widget-view+json": {
       "model_id": "866fbf398b954bcab2d6b0e895fd3b32",
       "version_major": 2,
       "version_minor": 0
      },
      "text/plain": [
       "HBox(children=(IntProgress(value=0, max=10), HTML(value='')))"
      ]
     },
     "metadata": {},
     "output_type": "display_data"
    },
    {
     "name": "stdout",
     "output_type": "stream",
     "text": [
      "\n"
     ]
    },
    {
     "data": {
      "application/vnd.jupyter.widget-view+json": {
       "model_id": "fd5a3be70eb441c2a80689c1c9d9d658",
       "version_major": 2,
       "version_minor": 0
      },
      "text/plain": [
       "HBox(children=(IntProgress(value=0, max=10), HTML(value='')))"
      ]
     },
     "metadata": {},
     "output_type": "display_data"
    },
    {
     "name": "stdout",
     "output_type": "stream",
     "text": [
      "\n",
      "********************\n",
      "数据尺寸:(2096, 21)\n",
      "文件名:KC1.arff\n",
      "SVM--->0.8114974089831855:\n",
      "决策树--->0.6210018585324777:\n",
      "贝叶斯--->0.44940302015585293\n",
      "use time:33.40991310000027\n",
      "====================\n"
     ]
    },
    {
     "data": {
      "application/vnd.jupyter.widget-view+json": {
       "model_id": "f52bbf2b1c22436d8b6374147d571089",
       "version_major": 2,
       "version_minor": 0
      },
      "text/plain": [
       "HBox(children=(IntProgress(value=0, max=10), HTML(value='')))"
      ]
     },
     "metadata": {},
     "output_type": "display_data"
    },
    {
     "name": "stdout",
     "output_type": "stream",
     "text": [
      "\n"
     ]
    },
    {
     "data": {
      "application/vnd.jupyter.widget-view+json": {
       "model_id": "be545d6e9b2f41298364ec864c847be1",
       "version_major": 2,
       "version_minor": 0
      },
      "text/plain": [
       "HBox(children=(IntProgress(value=0, max=10), HTML(value='')))"
      ]
     },
     "metadata": {},
     "output_type": "display_data"
    },
    {
     "name": "stdout",
     "output_type": "stream",
     "text": [
      "\n"
     ]
    },
    {
     "data": {
      "application/vnd.jupyter.widget-view+json": {
       "model_id": "280ca79e83f6422db3d4af480b7221f2",
       "version_major": 2,
       "version_minor": 0
      },
      "text/plain": [
       "HBox(children=(IntProgress(value=0, max=10), HTML(value='')))"
      ]
     },
     "metadata": {},
     "output_type": "display_data"
    },
    {
     "name": "stdout",
     "output_type": "stream",
     "text": [
      "\n",
      "********************\n",
      "数据尺寸:(200, 39)\n",
      "文件名:KC3.arff\n",
      "SVM--->0.5381112132352941:\n",
      "决策树--->0.6256066176470588:\n",
      "贝叶斯--->0.4711917892156863\n",
      "use time:3.0980022000003373\n",
      "====================\n"
     ]
    },
    {
     "data": {
      "application/vnd.jupyter.widget-view+json": {
       "model_id": "e978cad5ec8346c1a99b383c1aad7723",
       "version_major": 2,
       "version_minor": 0
      },
      "text/plain": [
       "HBox(children=(IntProgress(value=0, max=10), HTML(value='')))"
      ]
     },
     "metadata": {},
     "output_type": "display_data"
    },
    {
     "name": "stdout",
     "output_type": "stream",
     "text": [
      "\n"
     ]
    },
    {
     "data": {
      "application/vnd.jupyter.widget-view+json": {
       "model_id": "92af9832abc243e8940799395e4bb345",
       "version_major": 2,
       "version_minor": 0
      },
      "text/plain": [
       "HBox(children=(IntProgress(value=0, max=10), HTML(value='')))"
      ]
     },
     "metadata": {},
     "output_type": "display_data"
    },
    {
     "name": "stdout",
     "output_type": "stream",
     "text": [
      "\n"
     ]
    },
    {
     "data": {
      "application/vnd.jupyter.widget-view+json": {
       "model_id": "79c7c207d72247949bda838aee03ff9d",
       "version_major": 2,
       "version_minor": 0
      },
      "text/plain": [
       "HBox(children=(IntProgress(value=0, max=10), HTML(value='')))"
      ]
     },
     "metadata": {},
     "output_type": "display_data"
    },
    {
     "name": "stdout",
     "output_type": "stream",
     "text": [
      "\n",
      "********************\n",
      "数据尺寸:(9277, 38)\n",
      "文件名:MC1.arff\n",
      "SVM--->0.9171829506421366:\n",
      "决策树--->0.8045451827948288:\n",
      "贝叶斯--->0.3041561729362944\n",
      "use time:283.0249772999996\n",
      "====================\n"
     ]
    },
    {
     "data": {
      "application/vnd.jupyter.widget-view+json": {
       "model_id": "f8650b5dc91745368dca6700dcae4e95",
       "version_major": 2,
       "version_minor": 0
      },
      "text/plain": [
       "HBox(children=(IntProgress(value=0, max=10), HTML(value='')))"
      ]
     },
     "metadata": {},
     "output_type": "display_data"
    },
    {
     "name": "stdout",
     "output_type": "stream",
     "text": [
      "\n"
     ]
    },
    {
     "data": {
      "application/vnd.jupyter.widget-view+json": {
       "model_id": "b955f6603218402bb9d4e2ec214dad2e",
       "version_major": 2,
       "version_minor": 0
      },
      "text/plain": [
       "HBox(children=(IntProgress(value=0, max=10), HTML(value='')))"
      ]
     },
     "metadata": {},
     "output_type": "display_data"
    },
    {
     "name": "stdout",
     "output_type": "stream",
     "text": [
      "\n"
     ]
    },
    {
     "data": {
      "application/vnd.jupyter.widget-view+json": {
       "model_id": "db4e51b9b7574c48a138c8d563fbcd0a",
       "version_major": 2,
       "version_minor": 0
      },
      "text/plain": [
       "HBox(children=(IntProgress(value=0, max=10), HTML(value='')))"
      ]
     },
     "metadata": {},
     "output_type": "display_data"
    },
    {
     "name": "stdout",
     "output_type": "stream",
     "text": [
      "\n",
      "********************\n",
      "数据尺寸:(127, 39)\n",
      "文件名:MC2.arff\n",
      "SVM--->0.5342777777777777:\n",
      "决策树--->0.6195416666666667:\n",
      "贝叶斯--->0.5764201388888889\n",
      "use time:2.5601404000008188\n",
      "====================\n"
     ]
    },
    {
     "data": {
      "application/vnd.jupyter.widget-view+json": {
       "model_id": "2ca6a40b4b1f4ab1869570f6a4d2ecff",
       "version_major": 2,
       "version_minor": 0
      },
      "text/plain": [
       "HBox(children=(IntProgress(value=0, max=10), HTML(value='')))"
      ]
     },
     "metadata": {},
     "output_type": "display_data"
    },
    {
     "name": "stdout",
     "output_type": "stream",
     "text": [
      "\n"
     ]
    },
    {
     "data": {
      "application/vnd.jupyter.widget-view+json": {
       "model_id": "e2da3ee8a9ea4585babbad879cd1d34c",
       "version_major": 2,
       "version_minor": 0
      },
      "text/plain": [
       "HBox(children=(IntProgress(value=0, max=10), HTML(value='')))"
      ]
     },
     "metadata": {},
     "output_type": "display_data"
    },
    {
     "name": "stdout",
     "output_type": "stream",
     "text": [
      "\n"
     ]
    },
    {
     "data": {
      "application/vnd.jupyter.widget-view+json": {
       "model_id": "990007810bb649e78938e88dd0c07663",
       "version_major": 2,
       "version_minor": 0
      },
      "text/plain": [
       "HBox(children=(IntProgress(value=0, max=10), HTML(value='')))"
      ]
     },
     "metadata": {},
     "output_type": "display_data"
    },
    {
     "name": "stdout",
     "output_type": "stream",
     "text": [
      "\n",
      "********************\n",
      "数据尺寸:(264, 37)\n",
      "文件名:MW1.arff\n",
      "SVM--->0.523052536231884:\n",
      "决策树--->0.589453502415459:\n",
      "贝叶斯--->0.4882820048309179\n",
      "use time:3.3880380000000514\n",
      "====================\n"
     ]
    },
    {
     "data": {
      "application/vnd.jupyter.widget-view+json": {
       "model_id": "cdbde274013c41028bcdf0ede18a595d",
       "version_major": 2,
       "version_minor": 0
      },
      "text/plain": [
       "HBox(children=(IntProgress(value=0, max=10), HTML(value='')))"
      ]
     },
     "metadata": {},
     "output_type": "display_data"
    },
    {
     "name": "stdout",
     "output_type": "stream",
     "text": [
      "\n"
     ]
    },
    {
     "data": {
      "application/vnd.jupyter.widget-view+json": {
       "model_id": "7e779c9fce1644a6808ebc9ade1ec53d",
       "version_major": 2,
       "version_minor": 0
      },
      "text/plain": [
       "HBox(children=(IntProgress(value=0, max=10), HTML(value='')))"
      ]
     },
     "metadata": {},
     "output_type": "display_data"
    },
    {
     "name": "stdout",
     "output_type": "stream",
     "text": [
      "\n"
     ]
    },
    {
     "data": {
      "application/vnd.jupyter.widget-view+json": {
       "model_id": "aef1d450a982464fa7db0b25df70783e",
       "version_major": 2,
       "version_minor": 0
      },
      "text/plain": [
       "HBox(children=(IntProgress(value=0, max=10), HTML(value='')))"
      ]
     },
     "metadata": {},
     "output_type": "display_data"
    },
    {
     "name": "stdout",
     "output_type": "stream",
     "text": [
      "\n",
      "********************\n",
      "数据尺寸:(759, 37)\n",
      "文件名:PC1.arff\n",
      "SVM--->0.6272077541161392:\n",
      "决策树--->0.6252457359755497:\n",
      "贝叶斯--->0.34929791481810113\n",
      "use time:10.601287499999671\n",
      "====================\n"
     ]
    },
    {
     "data": {
      "application/vnd.jupyter.widget-view+json": {
       "model_id": "5ebbc7a64b92436ea7b089b75a6c8c52",
       "version_major": 2,
       "version_minor": 0
      },
      "text/plain": [
       "HBox(children=(IntProgress(value=0, max=10), HTML(value='')))"
      ]
     },
     "metadata": {},
     "output_type": "display_data"
    },
    {
     "name": "stdout",
     "output_type": "stream",
     "text": [
      "\n"
     ]
    },
    {
     "data": {
      "application/vnd.jupyter.widget-view+json": {
       "model_id": "f9c3f087f18b49378166efe1cd7a6d90",
       "version_major": 2,
       "version_minor": 0
      },
      "text/plain": [
       "HBox(children=(IntProgress(value=0, max=10), HTML(value='')))"
      ]
     },
     "metadata": {},
     "output_type": "display_data"
    },
    {
     "name": "stdout",
     "output_type": "stream",
     "text": [
      "\n"
     ]
    },
    {
     "data": {
      "application/vnd.jupyter.widget-view+json": {
       "model_id": "be8c451420dc4346abdee4d45257308f",
       "version_major": 2,
       "version_minor": 0
      },
      "text/plain": [
       "HBox(children=(IntProgress(value=0, max=10), HTML(value='')))"
      ]
     },
     "metadata": {},
     "output_type": "display_data"
    },
    {
     "name": "stdout",
     "output_type": "stream",
     "text": [
      "\n",
      "********************\n",
      "数据尺寸:(1585, 36)\n",
      "文件名:PC2.arff\n",
      "SVM--->0.8965047770700636:\n",
      "决策树--->0.5322111301649518:\n",
      "贝叶斯--->0.4852966274701943\n",
      "use time:17.9797451000004\n",
      "====================\n"
     ]
    },
    {
     "data": {
      "application/vnd.jupyter.widget-view+json": {
       "model_id": "1471793b63144565ae20c92b9e01ea46",
       "version_major": 2,
       "version_minor": 0
      },
      "text/plain": [
       "HBox(children=(IntProgress(value=0, max=10), HTML(value='')))"
      ]
     },
     "metadata": {},
     "output_type": "display_data"
    },
    {
     "name": "stdout",
     "output_type": "stream",
     "text": [
      "\n"
     ]
    },
    {
     "data": {
      "application/vnd.jupyter.widget-view+json": {
       "model_id": "4f2e0013a1c047f19252dc93cc8d3730",
       "version_major": 2,
       "version_minor": 0
      },
      "text/plain": [
       "HBox(children=(IntProgress(value=0, max=10), HTML(value='')))"
      ]
     },
     "metadata": {},
     "output_type": "display_data"
    },
    {
     "name": "stdout",
     "output_type": "stream",
     "text": [
      "\n"
     ]
    },
    {
     "data": {
      "application/vnd.jupyter.widget-view+json": {
       "model_id": "f8357cdf2cf541ed983912c84709da1a",
       "version_major": 2,
       "version_minor": 0
      },
      "text/plain": [
       "HBox(children=(IntProgress(value=0, max=10), HTML(value='')))"
      ]
     },
     "metadata": {},
     "output_type": "display_data"
    },
    {
     "name": "stdout",
     "output_type": "stream",
     "text": [
      "\n",
      "********************\n",
      "数据尺寸:(1125, 37)\n",
      "文件名:PC3.arff\n",
      "SVM--->0.7005988455988457:\n",
      "决策树--->0.6468022425420384:\n",
      "贝叶斯--->0.49431435344700647\n",
      "use time:21.839447199999995\n",
      "====================\n"
     ]
    },
    {
     "data": {
      "application/vnd.jupyter.widget-view+json": {
       "model_id": "ca3bbfab5a2d49b284883781a831ef0a",
       "version_major": 2,
       "version_minor": 0
      },
      "text/plain": [
       "HBox(children=(IntProgress(value=0, max=10), HTML(value='')))"
      ]
     },
     "metadata": {},
     "output_type": "display_data"
    },
    {
     "name": "stdout",
     "output_type": "stream",
     "text": [
      "\n"
     ]
    },
    {
     "data": {
      "application/vnd.jupyter.widget-view+json": {
       "model_id": "bcc23ae389e64773974f0eb256f5e12c",
       "version_major": 2,
       "version_minor": 0
      },
      "text/plain": [
       "HBox(children=(IntProgress(value=0, max=10), HTML(value='')))"
      ]
     },
     "metadata": {},
     "output_type": "display_data"
    },
    {
     "name": "stdout",
     "output_type": "stream",
     "text": [
      "\n"
     ]
    },
    {
     "data": {
      "application/vnd.jupyter.widget-view+json": {
       "model_id": "c22e675ed5c44b92ac3e25818c960ebb",
       "version_major": 2,
       "version_minor": 0
      },
      "text/plain": [
       "HBox(children=(IntProgress(value=0, max=10), HTML(value='')))"
      ]
     },
     "metadata": {},
     "output_type": "display_data"
    },
    {
     "name": "stdout",
     "output_type": "stream",
     "text": [
      "\n",
      "********************\n",
      "数据尺寸:(1399, 37)\n",
      "文件名:PC4.arff\n",
      "SVM--->0.6732729130569994:\n",
      "决策树--->0.7281487851482501:\n",
      "贝叶斯--->0.48318126453122445\n",
      "use time:32.1379567999993\n",
      "====================\n"
     ]
    },
    {
     "data": {
      "application/vnd.jupyter.widget-view+json": {
       "model_id": "920e73bd7a064c43963b55f793456c5b",
       "version_major": 2,
       "version_minor": 0
      },
      "text/plain": [
       "HBox(children=(IntProgress(value=0, max=10), HTML(value='')))"
      ]
     },
     "metadata": {},
     "output_type": "display_data"
    },
    {
     "name": "stdout",
     "output_type": "stream",
     "text": [
      "\n"
     ]
    },
    {
     "data": {
      "application/vnd.jupyter.widget-view+json": {
       "model_id": "f9476b1f4c4049c8897bb0055ba5a79d",
       "version_major": 2,
       "version_minor": 0
      },
      "text/plain": [
       "HBox(children=(IntProgress(value=0, max=10), HTML(value='')))"
      ]
     },
     "metadata": {},
     "output_type": "display_data"
    },
    {
     "name": "stdout",
     "output_type": "stream",
     "text": [
      "\n"
     ]
    },
    {
     "data": {
      "application/vnd.jupyter.widget-view+json": {
       "model_id": "f2c19c2e99b54fbe8bc7b6de5da29d57",
       "version_major": 2,
       "version_minor": 0
      },
      "text/plain": [
       "HBox(children=(IntProgress(value=0, max=10), HTML(value='')))"
      ]
     },
     "metadata": {},
     "output_type": "display_data"
    },
    {
     "name": "stdout",
     "output_type": "stream",
     "text": [
      "\n",
      "********************\n",
      "数据尺寸:(17001, 38)\n",
      "文件名:PC5.arff\n",
      "SVM--->0.9700597660902537:\n",
      "决策树--->0.7348987016679838:\n",
      "贝叶斯--->0.20430969628363688\n",
      "use time:452.0760570000002\n",
      "====================\n",
      "总共耗时: 2013.5443666999995\n",
      "[{'size': (344, 37), 'name': 'CM1.arff', 'SVM': 0.5864274193548387, 'tree': 0.5657876344086022, 'nb': 0.44510080645161293}, {'size': (9593, 21), 'name': 'JM1.arff', 'SVM': 0.6903996352548769, 'tree': 0.5949248742094146, 'nb': 0.3791161399818766}, {'size': (2096, 21), 'name': 'KC1.arff', 'SVM': 0.8114974089831855, 'tree': 0.6210018585324777, 'nb': 0.44940302015585293}, {'size': (200, 39), 'name': 'KC3.arff', 'SVM': 0.5381112132352941, 'tree': 0.6256066176470588, 'nb': 0.4711917892156863}, {'size': (9277, 38), 'name': 'MC1.arff', 'SVM': 0.9171829506421366, 'tree': 0.8045451827948288, 'nb': 0.3041561729362944}, {'size': (127, 39), 'name': 'MC2.arff', 'SVM': 0.5342777777777777, 'tree': 0.6195416666666667, 'nb': 0.5764201388888889}, {'size': (264, 37), 'name': 'MW1.arff', 'SVM': 0.523052536231884, 'tree': 0.589453502415459, 'nb': 0.4882820048309179}, {'size': (759, 37), 'name': 'PC1.arff', 'SVM': 0.6272077541161392, 'tree': 0.6252457359755497, 'nb': 0.34929791481810113}, {'size': (1585, 36), 'name': 'PC2.arff', 'SVM': 0.8965047770700636, 'tree': 0.5322111301649518, 'nb': 0.4852966274701943}, {'size': (1125, 37), 'name': 'PC3.arff', 'SVM': 0.7005988455988457, 'tree': 0.6468022425420384, 'nb': 0.49431435344700647}, {'size': (1399, 37), 'name': 'PC4.arff', 'SVM': 0.6732729130569994, 'tree': 0.7281487851482501, 'nb': 0.48318126453122445}, {'size': (17001, 38), 'name': 'PC5.arff', 'SVM': 0.9700597660902537, 'tree': 0.7348987016679838, 'nb': 0.20430969628363688}]\n"
     ]
    }
   ],
   "source": [
    "real_start = time.clock()\n",
    "res_list = []\n",
    "for each in file_list:\n",
    "    data = arff.loadarff('./data/{}'.format(each))\n",
    "    df = pd.DataFrame(data[0])\n",
    "    if df.columns[-1] == \"label\":\n",
    "        df.rename(columns={'label': 'Defective'}, inplace=True)\n",
    "    defective = df.Defective.copy()\n",
    "    defective[defective == b'N'] = 0\n",
    "    defective[defective == b'Y'] = 1\n",
    "\n",
    "    start = time.clock()\n",
    "    # #分为数据和标签\n",
    "    label = defective.astype(int)\n",
    "    data = df.iloc[:, :-1]\n",
    "\n",
    "    svm_auc = SVM(data.copy(), label)\n",
    "    destree_auc = DT(data.copy(), label)\n",
    "    nb_auc = NB(data.copy(), label)\n",
    "    print(\"*\" * 20)\n",
    "    print(\"数据尺寸:{}\".format(data.shape))\n",
    "    print(\"文件名:{}\".format(each))\n",
    "    print(\"SVM--->{}:\".format(svm_auc))\n",
    "    print(\"决策树--->{}:\".format(destree_auc))\n",
    "    print(\"贝叶斯--->{}\".format(nb_auc))\n",
    "    spend = (time.clock() - start)\n",
    "    print(\"use time:{}\".format(spend))\n",
    "    print(\"=\" * 20)\n",
    "    make_dic = {\n",
    "        \"size\": data.shape,\n",
    "        \"name\":each,\n",
    "        \"SVM\": svm_auc,\n",
    "        \"tree\": destree_auc,\n",
    "        \"nb\": nb_auc\n",
    "    }\n",
    "    res_list.append(make_dic)\n",
    "print(\"总共耗时:\", (time.clock() - real_start))\n",
    "print(res_list)"
   ]
  },
  {
   "cell_type": "code",
   "execution_count": 19,
   "metadata": {
    "collapsed": true
   },
   "outputs": [],
   "source": [
    "data = {key:[]for key in res_list[0].keys()}\n",
    "for one in res_list:\n",
    "    for key,value in one.items():\n",
    "        data[key].append(value)\n",
    "data.pop(\"size\")\n",
    "data = pd.DataFrame(data,index=range(1,13))\n",
    "data.to_csv(\"all_feature.csv\")"
   ]
  },
  {
   "cell_type": "code",
   "execution_count": null,
   "metadata": {
    "collapsed": true
   },
   "outputs": [],
   "source": []
  },
  {
   "cell_type": "code",
   "execution_count": null,
   "metadata": {
    "collapsed": true
   },
   "outputs": [],
   "source": []
  }
 ],
 "metadata": {
  "kernelspec": {
   "display_name": "Python 3",
   "language": "python",
   "name": "python3"
  },
  "language_info": {
   "codemirror_mode": {
    "name": "ipython",
    "version": 3
   },
   "file_extension": ".py",
   "mimetype": "text/x-python",
   "name": "python",
   "nbconvert_exporter": "python",
   "pygments_lexer": "ipython3",
   "version": "3.6.2"
  },
  "toc": {
   "base_numbering": 1,
   "nav_menu": {},
   "number_sections": true,
   "sideBar": true,
   "skip_h1_title": false,
   "title_cell": "Table of Contents",
   "title_sidebar": "Contents",
   "toc_cell": false,
   "toc_position": {},
   "toc_section_display": true,
   "toc_window_display": false
  },
  "varInspector": {
   "cols": {
    "lenName": 16,
    "lenType": 16,
    "lenVar": 40
   },
   "kernels_config": {
    "python": {
     "delete_cmd_postfix": "",
     "delete_cmd_prefix": "del ",
     "library": "var_list.py",
     "varRefreshCmd": "print(var_dic_list())"
    },
    "r": {
     "delete_cmd_postfix": ") ",
     "delete_cmd_prefix": "rm(",
     "library": "var_list.r",
     "varRefreshCmd": "cat(var_dic_list()) "
    }
   },
   "types_to_exclude": [
    "module",
    "function",
    "builtin_function_or_method",
    "instance",
    "_Feature"
   ],
   "window_display": false
  }
 },
 "nbformat": 4,
 "nbformat_minor": 2
}
