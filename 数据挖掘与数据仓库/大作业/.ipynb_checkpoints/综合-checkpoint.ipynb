{
 "cells": [
  {
   "cell_type": "code",
   "execution_count": 1,
   "metadata": {
    "ExecuteTime": {
     "end_time": "2019-12-11T05:35:25.365591Z",
     "start_time": "2019-12-11T05:35:24.951690Z"
    },
    "collapsed": true
   },
   "outputs": [],
   "source": [
    "from IPython.core.interactiveshell import InteractiveShell\n",
    "InteractiveShell.ast_node_interactivity = 'all'  #默认为'last'\n",
    "import warnings \n",
    "warnings.filterwarnings('ignore')\n",
    "%matplotlib inline\n"
   ]
  },
  {
   "cell_type": "markdown",
   "metadata": {},
   "source": [
    "## 数据分析及可视化\n",
    "\n",
    "### 数据来源介绍\n",
    "本数据集由和鲸（Kesci）竞赛平台提供，选自UCI机器学习库中的【银行营销数据集（Bank Marketing Data Set）】\n",
    "> [数据来源](https://www.kesci.com/home/competition/5c234c6626ba91002bfdfdd3/content/1)\n",
    "\n",
    "这些数据与**葡萄牙**银行机构的营销活动相关。这些营销活动以电话为基础，银行客服人员需要联系客户来确认客户是否将购买这个银行的产品（定期存款产品）\n",
    "\n",
    "本文首先将通过可视化的方式简单分析数据的各种情况\n",
    "\n"
   ]
  },
  {
   "cell_type": "markdown",
   "metadata": {},
   "source": [
    "### 数据总体分析\n",
    "\n",
    "首先导入相关工具包，使用的工具包有`Numpy`,`pandas`,`seaborn`和`matplotlib`。`Numpy`,`pandas`主要用来读取、筛选和处理数据,`seaborn`和`matplotlib`用来完成数据的可视化"
   ]
  },
  {
   "cell_type": "code",
   "execution_count": 2,
   "metadata": {
    "ExecuteTime": {
     "end_time": "2019-12-11T05:35:29.265151Z",
     "start_time": "2019-12-11T05:35:25.412459Z"
    },
    "collapsed": true
   },
   "outputs": [],
   "source": [
    "import numpy as np # linear algebra\n",
    "import pandas as pd # data processing, CSV file I/O (e.g. pd.read_csv)\n",
    "import seaborn as sns\n",
    "import matplotlib.pyplot as plt\n",
    "plt.rcParams['font.sans-serif'] = ['SimHei']  # 用来正常显示中文标签\n",
    "plt.rcParams['axes.unicode_minus'] = False  # 用来正常显示负号\n",
    "from collections import Counter"
   ]
  },
  {
   "cell_type": "code",
   "execution_count": 3,
   "metadata": {
    "ExecuteTime": {
     "end_time": "2019-12-11T05:35:29.409766Z",
     "start_time": "2019-12-11T05:35:29.300060Z"
    },
    "collapsed": true
   },
   "outputs": [],
   "source": [
    "#读入数据\n",
    "data = pd.read_csv(\"./train_set.csv\")\n",
    "data = pd.DataFrame(data)"
   ]
  },
  {
   "cell_type": "code",
   "execution_count": 4,
   "metadata": {
    "ExecuteTime": {
     "end_time": "2019-12-11T05:35:29.508502Z",
     "start_time": "2019-12-11T05:35:29.485567Z"
    }
   },
   "outputs": [
    {
     "name": "stdout",
     "output_type": "stream",
     "text": [
      "这个数据集的大小为(25317, 18)\n",
      "<class 'pandas.core.frame.DataFrame'>\n",
      "RangeIndex: 25317 entries, 0 to 25316\n",
      "Data columns (total 18 columns):\n",
      "ID           25317 non-null int64\n",
      "age          25317 non-null int64\n",
      "job          25317 non-null object\n",
      "marital      25317 non-null object\n",
      "education    25317 non-null object\n",
      "default      25317 non-null object\n",
      "balance      25317 non-null int64\n",
      "housing      25317 non-null object\n",
      "loan         25317 non-null object\n",
      "contact      25317 non-null object\n",
      "day          25317 non-null int64\n",
      "month        25317 non-null object\n",
      "duration     25317 non-null int64\n",
      "campaign     25317 non-null int64\n",
      "pdays        25317 non-null int64\n",
      "previous     25317 non-null int64\n",
      "poutcome     25317 non-null object\n",
      "y            25317 non-null int64\n",
      "dtypes: int64(9), object(9)\n",
      "memory usage: 3.5+ MB\n"
     ]
    }
   ],
   "source": [
    "print(f'这个数据集的大小为{data.shape}')\n",
    "data.info()"
   ]
  },
  {
   "cell_type": "markdown",
   "metadata": {},
   "source": [
    "首先通过`data.info`可以简单了解数据集的信息，比如数据集的尺寸，数据集占用的内存大小，每个特征的属性包括名字和数值类型等。具体的字段说明见下图\n",
    "![字段说明](./statement.jpg)"
   ]
  },
  {
   "cell_type": "markdown",
   "metadata": {},
   "source": [
    "+ 可以发现，这个数据集一共有25317条数据，每条数据包含18个特征，每条数据都不存在缺失值\n",
    "+ 原本为String字段的数值，通过pandas读取后变成了object类型的格式"
   ]
  },
  {
   "cell_type": "code",
   "execution_count": 5,
   "metadata": {
    "ExecuteTime": {
     "end_time": "2019-12-11T05:35:29.666093Z",
     "start_time": "2019-12-11T05:35:29.575324Z"
    }
   },
   "outputs": [
    {
     "data": {
      "text/html": [
       "<div>\n",
       "<style scoped>\n",
       "    .dataframe tbody tr th:only-of-type {\n",
       "        vertical-align: middle;\n",
       "    }\n",
       "\n",
       "    .dataframe tbody tr th {\n",
       "        vertical-align: top;\n",
       "    }\n",
       "\n",
       "    .dataframe thead th {\n",
       "        text-align: right;\n",
       "    }\n",
       "</style>\n",
       "<table border=\"1\" class=\"dataframe\">\n",
       "  <thead>\n",
       "    <tr style=\"text-align: right;\">\n",
       "      <th></th>\n",
       "      <th>ID</th>\n",
       "      <th>age</th>\n",
       "      <th>balance</th>\n",
       "      <th>day</th>\n",
       "      <th>duration</th>\n",
       "      <th>campaign</th>\n",
       "      <th>pdays</th>\n",
       "      <th>previous</th>\n",
       "      <th>y</th>\n",
       "    </tr>\n",
       "  </thead>\n",
       "  <tbody>\n",
       "    <tr>\n",
       "      <th>count</th>\n",
       "      <td>25317.000000</td>\n",
       "      <td>25317.000000</td>\n",
       "      <td>25317.000000</td>\n",
       "      <td>25317.000000</td>\n",
       "      <td>25317.000000</td>\n",
       "      <td>25317.000000</td>\n",
       "      <td>25317.000000</td>\n",
       "      <td>25317.000000</td>\n",
       "      <td>25317.000000</td>\n",
       "    </tr>\n",
       "    <tr>\n",
       "      <th>mean</th>\n",
       "      <td>12659.000000</td>\n",
       "      <td>40.935379</td>\n",
       "      <td>1357.555082</td>\n",
       "      <td>15.835289</td>\n",
       "      <td>257.732393</td>\n",
       "      <td>2.772050</td>\n",
       "      <td>40.248766</td>\n",
       "      <td>0.591737</td>\n",
       "      <td>0.116957</td>\n",
       "    </tr>\n",
       "    <tr>\n",
       "      <th>std</th>\n",
       "      <td>7308.532719</td>\n",
       "      <td>10.634289</td>\n",
       "      <td>2999.822811</td>\n",
       "      <td>8.319480</td>\n",
       "      <td>256.975151</td>\n",
       "      <td>3.136097</td>\n",
       "      <td>100.213541</td>\n",
       "      <td>2.568313</td>\n",
       "      <td>0.321375</td>\n",
       "    </tr>\n",
       "    <tr>\n",
       "      <th>min</th>\n",
       "      <td>1.000000</td>\n",
       "      <td>18.000000</td>\n",
       "      <td>-8019.000000</td>\n",
       "      <td>1.000000</td>\n",
       "      <td>0.000000</td>\n",
       "      <td>1.000000</td>\n",
       "      <td>-1.000000</td>\n",
       "      <td>0.000000</td>\n",
       "      <td>0.000000</td>\n",
       "    </tr>\n",
       "    <tr>\n",
       "      <th>25%</th>\n",
       "      <td>6330.000000</td>\n",
       "      <td>33.000000</td>\n",
       "      <td>73.000000</td>\n",
       "      <td>8.000000</td>\n",
       "      <td>103.000000</td>\n",
       "      <td>1.000000</td>\n",
       "      <td>-1.000000</td>\n",
       "      <td>0.000000</td>\n",
       "      <td>0.000000</td>\n",
       "    </tr>\n",
       "    <tr>\n",
       "      <th>50%</th>\n",
       "      <td>12659.000000</td>\n",
       "      <td>39.000000</td>\n",
       "      <td>448.000000</td>\n",
       "      <td>16.000000</td>\n",
       "      <td>181.000000</td>\n",
       "      <td>2.000000</td>\n",
       "      <td>-1.000000</td>\n",
       "      <td>0.000000</td>\n",
       "      <td>0.000000</td>\n",
       "    </tr>\n",
       "    <tr>\n",
       "      <th>75%</th>\n",
       "      <td>18988.000000</td>\n",
       "      <td>48.000000</td>\n",
       "      <td>1435.000000</td>\n",
       "      <td>21.000000</td>\n",
       "      <td>317.000000</td>\n",
       "      <td>3.000000</td>\n",
       "      <td>-1.000000</td>\n",
       "      <td>0.000000</td>\n",
       "      <td>0.000000</td>\n",
       "    </tr>\n",
       "    <tr>\n",
       "      <th>max</th>\n",
       "      <td>25317.000000</td>\n",
       "      <td>95.000000</td>\n",
       "      <td>102127.000000</td>\n",
       "      <td>31.000000</td>\n",
       "      <td>3881.000000</td>\n",
       "      <td>55.000000</td>\n",
       "      <td>854.000000</td>\n",
       "      <td>275.000000</td>\n",
       "      <td>1.000000</td>\n",
       "    </tr>\n",
       "  </tbody>\n",
       "</table>\n",
       "</div>"
      ],
      "text/plain": [
       "                 ID           age        balance           day      duration  \\\n",
       "count  25317.000000  25317.000000   25317.000000  25317.000000  25317.000000   \n",
       "mean   12659.000000     40.935379    1357.555082     15.835289    257.732393   \n",
       "std     7308.532719     10.634289    2999.822811      8.319480    256.975151   \n",
       "min        1.000000     18.000000   -8019.000000      1.000000      0.000000   \n",
       "25%     6330.000000     33.000000      73.000000      8.000000    103.000000   \n",
       "50%    12659.000000     39.000000     448.000000     16.000000    181.000000   \n",
       "75%    18988.000000     48.000000    1435.000000     21.000000    317.000000   \n",
       "max    25317.000000     95.000000  102127.000000     31.000000   3881.000000   \n",
       "\n",
       "           campaign         pdays      previous             y  \n",
       "count  25317.000000  25317.000000  25317.000000  25317.000000  \n",
       "mean       2.772050     40.248766      0.591737      0.116957  \n",
       "std        3.136097    100.213541      2.568313      0.321375  \n",
       "min        1.000000     -1.000000      0.000000      0.000000  \n",
       "25%        1.000000     -1.000000      0.000000      0.000000  \n",
       "50%        2.000000     -1.000000      0.000000      0.000000  \n",
       "75%        3.000000     -1.000000      0.000000      0.000000  \n",
       "max       55.000000    854.000000    275.000000      1.000000  "
      ]
     },
     "execution_count": 5,
     "metadata": {},
     "output_type": "execute_result"
    }
   ],
   "source": [
    "data.describe()"
   ]
  },
  {
   "cell_type": "markdown",
   "metadata": {},
   "source": [
    "通过`describe`函数发现\n",
    "\n",
    "`balance`,`duration`,和`pdays`的std较大，说明值的分布范围较广，后期可能需要进行处理。年龄从最低18岁到最大95岁，跨度也比较大"
   ]
  },
  {
   "cell_type": "code",
   "execution_count": 6,
   "metadata": {
    "ExecuteTime": {
     "end_time": "2019-12-11T05:35:30.255505Z",
     "start_time": "2019-12-11T05:35:29.741879Z"
    }
   },
   "outputs": [
    {
     "data": {
      "text/plain": [
       "<Figure size 1440x720 with 0 Axes>"
      ]
     },
     "execution_count": 6,
     "metadata": {},
     "output_type": "execute_result"
    },
    {
     "data": {
      "image/png": "[encoded data removed]",
      "text/plain": [
       "<Figure size 1440x720 with 1 Axes>"
      ]
     },
     "metadata": {},
     "output_type": "display_data"
    }
   ],
   "source": [
    "plt.figure(figsize=(20,10))\n",
    "# sns.barplot(\"job\",\"y\",data=data)\n",
    "pic = data.groupby(\"job\")[\"ID\"].count()\n",
    "g = sns.barplot(pic.index,pic.values)\n",
    "for i in range(len(pic)):\n",
    "    a = g.text(i,pic[i],pic[i],color=\"black\",ha=\"center\")"
   ]
  },
  {
   "cell_type": "code",
   "execution_count": 7,
   "metadata": {
    "ExecuteTime": {
     "end_time": "2019-12-11T05:35:31.411422Z",
     "start_time": "2019-12-11T05:35:30.337287Z"
    }
   },
   "outputs": [
    {
     "data": {
      "text/plain": [
       "<Figure size 720x936 with 0 Axes>"
      ]
     },
     "execution_count": 7,
     "metadata": {},
     "output_type": "execute_result"
    },
    {
     "data": {
      "image/png": "[encoded data removed]",
      "text/plain": [
       "<Figure size 720x936 with 6 Axes>"
      ]
     },
     "metadata": {},
     "output_type": "display_data"
    }
   ],
   "source": [
    "plt.figure(figsize=(10,13))\n",
    "name_list = [\"marital\",\"housing\",\"default\",\"education\",\"loan\",\"y\"]\n",
    "for i in range(len(name_list)):\n",
    "    b = plt.subplot(3,2,i+1)\n",
    "    pic = data.groupby(name_list[i])[\"ID\"].count()\n",
    "    g = sns.barplot(pic.index,pic.values)\n",
    "    for i in range(len(pic)):\n",
    "        a = g.text(i,pic[i],pic[i],color=\"black\",ha=\"center\")\n"
   ]
  },
  {
   "cell_type": "markdown",
   "metadata": {},
   "source": [
    "统计了样本中职业、教育情况、婚姻、住房贷款、个人贷款、违约记录六个字段的值的分布情况，以下是我从这个样本中了解到的相关信息\n",
    "\n",
    "+ 大部分人的职业为蓝领、部门经理和技术人员。大部分人都接受了中学及以上的教育。样本中多数人结过婚，有一定的住房贷款和个人贷款，他们大都信用较好，很少有违约的行为。可以了解到这个样本的人群大多是一群教育程度高、有家庭有事业但是受背负一定数量贷款的人群，这群人需要一定的理财产品来管理他们的收入。\n",
    "\n",
    "+ 最后一个图是这个样本的标签，0表示最终不会购买产品，1表示购买。可以看到这是个不均衡样本，之后再数据预处理的时候要对这种情况做一定的处理。\n",
    "\n",
    "+ 数据中有大量unknown的样本，在数据预处理的时候需要特殊处理"
   ]
  },
  {
   "cell_type": "markdown",
   "metadata": {
    "collapsed": true
   },
   "source": [
    "### 数据特征联系\n"
   ]
  },
  {
   "cell_type": "code",
   "execution_count": 8,
   "metadata": {
    "ExecuteTime": {
     "end_time": "2019-12-11T05:35:31.819322Z",
     "start_time": "2019-12-11T05:35:31.533092Z"
    }
   },
   "outputs": [
    {
     "data": {
      "text/plain": [
       "(<Figure size 560x640 with 1 Axes>,\n",
       " <matplotlib.axes._subplots.AxesSubplot at 0x1b92c918908>)"
      ]
     },
     "execution_count": 8,
     "metadata": {},
     "output_type": "execute_result"
    },
    {
     "data": {
      "image/png": "[encoded data removed]",
      "text/plain": [
       "<Figure size 560x640 with 1 Axes>"
      ]
     },
     "metadata": {},
     "output_type": "display_data"
    }
   ],
   "source": [
    "plt.subplots(figsize=(7,8), dpi= 80)\n",
    "housing_loan = data.loc[:,\"housing\":\"loan\"]\n",
    "housing_loan[housing_loan==\"yes\"]= 1\n",
    "housing_loan[housing_loan==\"no\"]= 0\n",
    "res = housing_loan.groupby(\"housing\")[\"loan\"].value_counts()\n",
    "total = len(housing_loan)\n",
    "neigher = res[0,0]/total\n",
    "housing = res[1,0]/total\n",
    "loan = res[0,1]/total\n",
    "hl = res[1,1]/total\n",
    "categories=[\"无贷款\",\"仅有个人贷款\",\"仅有住房贷款\",\"两者都有\"]\n",
    "X = [neigher,loan,housing,hl]\n",
    "a = plt.pie(X,labels=categories)"
   ]
  },
  {
   "cell_type": "markdown",
   "metadata": {},
   "source": [
    "有部分人不仅有住房贷款还有个人贷款的压力，在后续做分类的时候这两个特征可能会对结果有影响"
   ]
  },
  {
   "cell_type": "code",
   "execution_count": 9,
   "metadata": {
    "ExecuteTime": {
     "end_time": "2019-12-11T05:35:33.016119Z",
     "start_time": "2019-12-11T05:35:31.936013Z"
    }
   },
   "outputs": [
    {
     "data": {
      "text/plain": [
       "<matplotlib.axes._subplots.AxesSubplot at 0x1b92bf20d68>"
      ]
     },
     "execution_count": 9,
     "metadata": {},
     "output_type": "execute_result"
    },
    {
     "data": {
      "image/png": "[encoded data removed]",
      "text/plain": [
       "<Figure size 560x640 with 1 Axes>"
      ]
     },
     "metadata": {},
     "output_type": "display_data"
    }
   ],
   "source": [
    "day_month = data.loc[:,\"day\":\"month\"]\n",
    "fig, ax = plt.subplots(figsize=(7,8), dpi= 80)    \n",
    "sns.stripplot(x=\"month\", y=\"day\",size=5,data=day_month,ax=ax)"
   ]
  },
  {
   "cell_type": "markdown",
   "metadata": {},
   "source": [
    "上图显示的是最后一次联系某用户的日期，可以看到这个银行几乎全年每天都在联系客户，而节假日像是十二月二十五日圣诞节到一月的假期，几乎没什么数据，可以看到这份数据是真实的"
   ]
  },
  {
   "cell_type": "markdown",
   "metadata": {
    "ExecuteTime": {
     "end_time": "2019-12-10T10:54:30.132610Z",
     "start_time": "2019-12-10T10:54:30.127661Z"
    }
   },
   "source": [
    "### 与y标签的联系"
   ]
  },
  {
   "cell_type": "markdown",
   "metadata": {},
   "source": [
    "以上的可视化大概了解了各个特征在所有样本中的分布情况，接下来我会筛选几个特征去寻找与y标签之间的联系，希望挖掘出与购买产品这个结果相关的信息"
   ]
  },
  {
   "cell_type": "code",
   "execution_count": 10,
   "metadata": {
    "ExecuteTime": {
     "end_time": "2019-12-11T05:35:35.045701Z",
     "start_time": "2019-12-11T05:35:33.132808Z"
    }
   },
   "outputs": [
    {
     "data": {
      "text/plain": [
       "<Figure size 1008x360 with 0 Axes>"
      ]
     },
     "execution_count": 10,
     "metadata": {},
     "output_type": "execute_result"
    },
    {
     "data": {
      "text/plain": [
       "<matplotlib.axes._subplots.AxesSubplot at 0x1b928619f28>"
      ]
     },
     "execution_count": 10,
     "metadata": {},
     "output_type": "execute_result"
    },
    {
     "data": {
      "image/png": "[encoded data removed]",
      "text/plain": [
       "<Figure size 1008x360 with 1 Axes>"
      ]
     },
     "metadata": {},
     "output_type": "display_data"
    }
   ],
   "source": [
    "plt.figure(figsize=(14,5))\n",
    "feature = [\"job\"]\n",
    "for i in range(len(feature)):\n",
    "    sns.barplot(feature[i],\"y\",data=data)"
   ]
  },
  {
   "cell_type": "code",
   "execution_count": 11,
   "metadata": {
    "ExecuteTime": {
     "end_time": "2019-12-11T05:35:39.408025Z",
     "start_time": "2019-12-11T05:35:35.187314Z"
    }
   },
   "outputs": [
    {
     "data": {
      "text/plain": [
       "<Figure size 1368x504 with 0 Axes>"
      ]
     },
     "execution_count": 11,
     "metadata": {},
     "output_type": "execute_result"
    },
    {
     "data": {
      "image/png": "[encoded data removed]",
      "text/plain": [
       "<Figure size 1368x504 with 6 Axes>"
      ]
     },
     "metadata": {},
     "output_type": "display_data"
    }
   ],
   "source": [
    "plt.figure(figsize=(19,7))\n",
    "feature = [\"marital\",\"education\",\"housing\",\"loan\",\"poutcome\",\"default\"]\n",
    "for i in range(len(feature)):\n",
    "    a = plt.subplot(2,3,i+1)\n",
    "    c = sns.barplot(feature[i],\"y\",data=data)"
   ]
  },
  {
   "cell_type": "markdown",
   "metadata": {
    "collapsed": true
   },
   "source": [
    "上图筛选了职业、婚姻、教育、有无贷款、上次活动结果和违约记录这几个特征后，分析了最终是否会购买产品之间的关联性，得到如下分析：\n",
    "+ 虽然样本中蓝领、部门经理、技术人员这三种职业最多，但其大部分人最终不会购买产品。反而是退休人员和学生更加可能购买产品\n",
    "+ 没有负债的人相比有负债的人更加容易购买产品\n",
    "+ 上一次活动成功的人有很大概率会再次购买产品\n",
    "+ 受过高等教育的人以及单身人士有相对较高的概率会购买产品"
   ]
  },
  {
   "cell_type": "markdown",
   "metadata": {
    "ExecuteTime": {
     "end_time": "2019-12-10T14:50:05.052215Z",
     "start_time": "2019-12-10T14:50:05.047265Z"
    }
   },
   "source": [
    "## 数据分类与预测\n",
    "\n",
    "这个数据来源为和鲸{Kesci}练习赛赛题，除了分析数据特征外，更重要的是需要完成一个分类任务，其目标是预测客户是(' 1 ')或者否(' 0 ')购买该银行的产品。最终需要预测测试数据中样本为1的概率，将结果打包成csv文件上传到平台，平台以AUC为评判标准评判最终结果\n"
   ]
  },
  {
   "cell_type": "markdown",
   "metadata": {
    "ExecuteTime": {
     "end_time": "2019-12-11T05:52:46.969143Z",
     "start_time": "2019-12-11T05:52:46.964156Z"
    }
   },
   "source": [
    "### 数据读入与简单处理\n",
    "分别读入训练数据集合测试是数据及。训练数据集带有标签，而测试数据集不带标签，部分数据展示如下"
   ]
  },
  {
   "cell_type": "code",
   "execution_count": 42,
   "metadata": {
    "ExecuteTime": {
     "end_time": "2019-12-11T07:03:55.402725Z",
     "start_time": "2019-12-11T07:03:55.193285Z"
    }
   },
   "outputs": [
    {
     "data": {
      "text/html": [
       "<div>\n",
       "<style scoped>\n",
       "    .dataframe tbody tr th:only-of-type {\n",
       "        vertical-align: middle;\n",
       "    }\n",
       "\n",
       "    .dataframe tbody tr th {\n",
       "        vertical-align: top;\n",
       "    }\n",
       "\n",
       "    .dataframe thead th {\n",
       "        text-align: right;\n",
       "    }\n",
       "</style>\n",
       "<table border=\"1\" class=\"dataframe\">\n",
       "  <thead>\n",
       "    <tr style=\"text-align: right;\">\n",
       "      <th></th>\n",
       "      <th>age</th>\n",
       "      <th>job</th>\n",
       "      <th>marital</th>\n",
       "      <th>education</th>\n",
       "      <th>default</th>\n",
       "      <th>balance</th>\n",
       "      <th>housing</th>\n",
       "      <th>loan</th>\n",
       "      <th>contact</th>\n",
       "      <th>day</th>\n",
       "      <th>month</th>\n",
       "      <th>duration</th>\n",
       "      <th>campaign</th>\n",
       "      <th>pdays</th>\n",
       "      <th>previous</th>\n",
       "      <th>poutcome</th>\n",
       "      <th>y</th>\n",
       "    </tr>\n",
       "  </thead>\n",
       "  <tbody>\n",
       "    <tr>\n",
       "      <th>0</th>\n",
       "      <td>43</td>\n",
       "      <td>management</td>\n",
       "      <td>married</td>\n",
       "      <td>tertiary</td>\n",
       "      <td>no</td>\n",
       "      <td>291</td>\n",
       "      <td>yes</td>\n",
       "      <td>no</td>\n",
       "      <td>unknown</td>\n",
       "      <td>9</td>\n",
       "      <td>may</td>\n",
       "      <td>150</td>\n",
       "      <td>2</td>\n",
       "      <td>-1</td>\n",
       "      <td>0</td>\n",
       "      <td>unknown</td>\n",
       "      <td>0</td>\n",
       "    </tr>\n",
       "    <tr>\n",
       "      <th>1</th>\n",
       "      <td>42</td>\n",
       "      <td>technician</td>\n",
       "      <td>divorced</td>\n",
       "      <td>primary</td>\n",
       "      <td>no</td>\n",
       "      <td>5076</td>\n",
       "      <td>yes</td>\n",
       "      <td>no</td>\n",
       "      <td>cellular</td>\n",
       "      <td>7</td>\n",
       "      <td>apr</td>\n",
       "      <td>99</td>\n",
       "      <td>1</td>\n",
       "      <td>251</td>\n",
       "      <td>2</td>\n",
       "      <td>other</td>\n",
       "      <td>0</td>\n",
       "    </tr>\n",
       "    <tr>\n",
       "      <th>2</th>\n",
       "      <td>47</td>\n",
       "      <td>admin.</td>\n",
       "      <td>married</td>\n",
       "      <td>secondary</td>\n",
       "      <td>no</td>\n",
       "      <td>104</td>\n",
       "      <td>yes</td>\n",
       "      <td>yes</td>\n",
       "      <td>cellular</td>\n",
       "      <td>14</td>\n",
       "      <td>jul</td>\n",
       "      <td>77</td>\n",
       "      <td>2</td>\n",
       "      <td>-1</td>\n",
       "      <td>0</td>\n",
       "      <td>unknown</td>\n",
       "      <td>0</td>\n",
       "    </tr>\n",
       "    <tr>\n",
       "      <th>3</th>\n",
       "      <td>28</td>\n",
       "      <td>management</td>\n",
       "      <td>single</td>\n",
       "      <td>secondary</td>\n",
       "      <td>no</td>\n",
       "      <td>-994</td>\n",
       "      <td>yes</td>\n",
       "      <td>yes</td>\n",
       "      <td>cellular</td>\n",
       "      <td>18</td>\n",
       "      <td>jul</td>\n",
       "      <td>174</td>\n",
       "      <td>2</td>\n",
       "      <td>-1</td>\n",
       "      <td>0</td>\n",
       "      <td>unknown</td>\n",
       "      <td>0</td>\n",
       "    </tr>\n",
       "    <tr>\n",
       "      <th>4</th>\n",
       "      <td>42</td>\n",
       "      <td>technician</td>\n",
       "      <td>divorced</td>\n",
       "      <td>secondary</td>\n",
       "      <td>no</td>\n",
       "      <td>2974</td>\n",
       "      <td>yes</td>\n",
       "      <td>no</td>\n",
       "      <td>unknown</td>\n",
       "      <td>21</td>\n",
       "      <td>may</td>\n",
       "      <td>187</td>\n",
       "      <td>5</td>\n",
       "      <td>-1</td>\n",
       "      <td>0</td>\n",
       "      <td>unknown</td>\n",
       "      <td>0</td>\n",
       "    </tr>\n",
       "  </tbody>\n",
       "</table>\n",
       "</div>"
      ],
      "text/plain": [
       "   age         job   marital  education default  balance housing loan  \\\n",
       "0   43  management   married   tertiary      no      291     yes   no   \n",
       "1   42  technician  divorced    primary      no     5076     yes   no   \n",
       "2   47      admin.   married  secondary      no      104     yes  yes   \n",
       "3   28  management    single  secondary      no     -994     yes  yes   \n",
       "4   42  technician  divorced  secondary      no     2974     yes   no   \n",
       "\n",
       "    contact  day month  duration  campaign  pdays  previous poutcome  y  \n",
       "0   unknown    9   may       150         2     -1         0  unknown  0  \n",
       "1  cellular    7   apr        99         1    251         2    other  0  \n",
       "2  cellular   14   jul        77         2     -1         0  unknown  0  \n",
       "3  cellular   18   jul       174         2     -1         0  unknown  0  \n",
       "4   unknown   21   may       187         5     -1         0  unknown  0  "
      ]
     },
     "execution_count": 42,
     "metadata": {},
     "output_type": "execute_result"
    },
    {
     "data": {
      "text/html": [
       "<div>\n",
       "<style scoped>\n",
       "    .dataframe tbody tr th:only-of-type {\n",
       "        vertical-align: middle;\n",
       "    }\n",
       "\n",
       "    .dataframe tbody tr th {\n",
       "        vertical-align: top;\n",
       "    }\n",
       "\n",
       "    .dataframe thead th {\n",
       "        text-align: right;\n",
       "    }\n",
       "</style>\n",
       "<table border=\"1\" class=\"dataframe\">\n",
       "  <thead>\n",
       "    <tr style=\"text-align: right;\">\n",
       "      <th></th>\n",
       "      <th>ID</th>\n",
       "      <th>age</th>\n",
       "      <th>job</th>\n",
       "      <th>marital</th>\n",
       "      <th>education</th>\n",
       "      <th>default</th>\n",
       "      <th>balance</th>\n",
       "      <th>housing</th>\n",
       "      <th>loan</th>\n",
       "      <th>contact</th>\n",
       "      <th>day</th>\n",
       "      <th>month</th>\n",
       "      <th>duration</th>\n",
       "      <th>campaign</th>\n",
       "      <th>pdays</th>\n",
       "      <th>previous</th>\n",
       "      <th>poutcome</th>\n",
       "    </tr>\n",
       "  </thead>\n",
       "  <tbody>\n",
       "    <tr>\n",
       "      <th>0</th>\n",
       "      <td>25318</td>\n",
       "      <td>51</td>\n",
       "      <td>housemaid</td>\n",
       "      <td>married</td>\n",
       "      <td>unknown</td>\n",
       "      <td>no</td>\n",
       "      <td>174</td>\n",
       "      <td>no</td>\n",
       "      <td>no</td>\n",
       "      <td>telephone</td>\n",
       "      <td>29</td>\n",
       "      <td>jul</td>\n",
       "      <td>308</td>\n",
       "      <td>3</td>\n",
       "      <td>-1</td>\n",
       "      <td>0</td>\n",
       "      <td>unknown</td>\n",
       "    </tr>\n",
       "    <tr>\n",
       "      <th>1</th>\n",
       "      <td>25319</td>\n",
       "      <td>32</td>\n",
       "      <td>management</td>\n",
       "      <td>married</td>\n",
       "      <td>tertiary</td>\n",
       "      <td>no</td>\n",
       "      <td>6059</td>\n",
       "      <td>yes</td>\n",
       "      <td>no</td>\n",
       "      <td>cellular</td>\n",
       "      <td>20</td>\n",
       "      <td>nov</td>\n",
       "      <td>110</td>\n",
       "      <td>2</td>\n",
       "      <td>-1</td>\n",
       "      <td>0</td>\n",
       "      <td>unknown</td>\n",
       "    </tr>\n",
       "    <tr>\n",
       "      <th>2</th>\n",
       "      <td>25320</td>\n",
       "      <td>60</td>\n",
       "      <td>retired</td>\n",
       "      <td>married</td>\n",
       "      <td>primary</td>\n",
       "      <td>no</td>\n",
       "      <td>0</td>\n",
       "      <td>no</td>\n",
       "      <td>no</td>\n",
       "      <td>telephone</td>\n",
       "      <td>30</td>\n",
       "      <td>jul</td>\n",
       "      <td>130</td>\n",
       "      <td>3</td>\n",
       "      <td>-1</td>\n",
       "      <td>0</td>\n",
       "      <td>unknown</td>\n",
       "    </tr>\n",
       "    <tr>\n",
       "      <th>3</th>\n",
       "      <td>25321</td>\n",
       "      <td>32</td>\n",
       "      <td>student</td>\n",
       "      <td>single</td>\n",
       "      <td>tertiary</td>\n",
       "      <td>no</td>\n",
       "      <td>64</td>\n",
       "      <td>no</td>\n",
       "      <td>no</td>\n",
       "      <td>cellular</td>\n",
       "      <td>30</td>\n",
       "      <td>jun</td>\n",
       "      <td>598</td>\n",
       "      <td>4</td>\n",
       "      <td>105</td>\n",
       "      <td>5</td>\n",
       "      <td>failure</td>\n",
       "    </tr>\n",
       "    <tr>\n",
       "      <th>4</th>\n",
       "      <td>25322</td>\n",
       "      <td>41</td>\n",
       "      <td>housemaid</td>\n",
       "      <td>married</td>\n",
       "      <td>secondary</td>\n",
       "      <td>no</td>\n",
       "      <td>0</td>\n",
       "      <td>yes</td>\n",
       "      <td>yes</td>\n",
       "      <td>cellular</td>\n",
       "      <td>15</td>\n",
       "      <td>jul</td>\n",
       "      <td>368</td>\n",
       "      <td>4</td>\n",
       "      <td>-1</td>\n",
       "      <td>0</td>\n",
       "      <td>unknown</td>\n",
       "    </tr>\n",
       "  </tbody>\n",
       "</table>\n",
       "</div>"
      ],
      "text/plain": [
       "      ID  age         job  marital  education default  balance housing loan  \\\n",
       "0  25318   51   housemaid  married    unknown      no      174      no   no   \n",
       "1  25319   32  management  married   tertiary      no     6059     yes   no   \n",
       "2  25320   60     retired  married    primary      no        0      no   no   \n",
       "3  25321   32     student   single   tertiary      no       64      no   no   \n",
       "4  25322   41   housemaid  married  secondary      no        0     yes  yes   \n",
       "\n",
       "     contact  day month  duration  campaign  pdays  previous poutcome  \n",
       "0  telephone   29   jul       308         3     -1         0  unknown  \n",
       "1   cellular   20   nov       110         2     -1         0  unknown  \n",
       "2  telephone   30   jul       130         3     -1         0  unknown  \n",
       "3   cellular   30   jun       598         4    105         5  failure  \n",
       "4   cellular   15   jul       368         4     -1         0  unknown  "
      ]
     },
     "execution_count": 42,
     "metadata": {},
     "output_type": "execute_result"
    }
   ],
   "source": [
    "train_set = pd.read_csv(\"./train_set.csv\")\n",
    "test_set = pd.read_csv(\"./test_set.csv\")\n",
    "train_set = pd.DataFrame(train_set)\n",
    "test_set = pd.DataFrame(test_set)\n",
    "train_set = train_set.drop(columns=\"ID\")\n",
    "train_set.head()\n",
    "test_set.head()"
   ]
  },
  {
   "cell_type": "markdown",
   "metadata": {},
   "source": [
    "如前一节分析所讲，这个数据集大部分数据都是离散数据，很多特征的值都是文本的形式，这样的特征无法训练，需要将其编码，具体方式为讲特征的所有可能出现的值转成新的特征，用0或1来表示某一个样本是否具有这个特征，这种方式叫做One-Hot编码。以下是经过One-Hot编码后的数据结果,最终数据集有原来的变为(25317, 18)扩展为(25317, 53)"
   ]
  },
  {
   "cell_type": "code",
   "execution_count": 43,
   "metadata": {
    "ExecuteTime": {
     "end_time": "2019-12-11T07:04:06.294595Z",
     "start_time": "2019-12-11T07:04:04.318877Z"
    }
   },
   "outputs": [
    {
     "data": {
      "text/html": [
       "<div>\n",
       "<style scoped>\n",
       "    .dataframe tbody tr th:only-of-type {\n",
       "        vertical-align: middle;\n",
       "    }\n",
       "\n",
       "    .dataframe tbody tr th {\n",
       "        vertical-align: top;\n",
       "    }\n",
       "\n",
       "    .dataframe thead th {\n",
       "        text-align: right;\n",
       "    }\n",
       "</style>\n",
       "<table border=\"1\" class=\"dataframe\">\n",
       "  <thead>\n",
       "    <tr style=\"text-align: right;\">\n",
       "      <th></th>\n",
       "      <th>age</th>\n",
       "      <th>balance</th>\n",
       "      <th>campaign</th>\n",
       "      <th>contact=cellular</th>\n",
       "      <th>contact=telephone</th>\n",
       "      <th>contact=unknown</th>\n",
       "      <th>day</th>\n",
       "      <th>default=no</th>\n",
       "      <th>default=yes</th>\n",
       "      <th>duration</th>\n",
       "      <th>...</th>\n",
       "      <th>month=nov</th>\n",
       "      <th>month=oct</th>\n",
       "      <th>month=sep</th>\n",
       "      <th>pdays</th>\n",
       "      <th>poutcome=failure</th>\n",
       "      <th>poutcome=other</th>\n",
       "      <th>poutcome=success</th>\n",
       "      <th>poutcome=unknown</th>\n",
       "      <th>previous</th>\n",
       "      <th>y</th>\n",
       "    </tr>\n",
       "  </thead>\n",
       "  <tbody>\n",
       "    <tr>\n",
       "      <th>0</th>\n",
       "      <td>43.0</td>\n",
       "      <td>291.0</td>\n",
       "      <td>2.0</td>\n",
       "      <td>0.0</td>\n",
       "      <td>0.0</td>\n",
       "      <td>1.0</td>\n",
       "      <td>9.0</td>\n",
       "      <td>1.0</td>\n",
       "      <td>0.0</td>\n",
       "      <td>150.0</td>\n",
       "      <td>...</td>\n",
       "      <td>0.0</td>\n",
       "      <td>0.0</td>\n",
       "      <td>0.0</td>\n",
       "      <td>-1.0</td>\n",
       "      <td>0.0</td>\n",
       "      <td>0.0</td>\n",
       "      <td>0.0</td>\n",
       "      <td>1.0</td>\n",
       "      <td>0.0</td>\n",
       "      <td>0.0</td>\n",
       "    </tr>\n",
       "    <tr>\n",
       "      <th>1</th>\n",
       "      <td>42.0</td>\n",
       "      <td>5076.0</td>\n",
       "      <td>1.0</td>\n",
       "      <td>1.0</td>\n",
       "      <td>0.0</td>\n",
       "      <td>0.0</td>\n",
       "      <td>7.0</td>\n",
       "      <td>1.0</td>\n",
       "      <td>0.0</td>\n",
       "      <td>99.0</td>\n",
       "      <td>...</td>\n",
       "      <td>0.0</td>\n",
       "      <td>0.0</td>\n",
       "      <td>0.0</td>\n",
       "      <td>251.0</td>\n",
       "      <td>0.0</td>\n",
       "      <td>1.0</td>\n",
       "      <td>0.0</td>\n",
       "      <td>0.0</td>\n",
       "      <td>2.0</td>\n",
       "      <td>0.0</td>\n",
       "    </tr>\n",
       "    <tr>\n",
       "      <th>2</th>\n",
       "      <td>47.0</td>\n",
       "      <td>104.0</td>\n",
       "      <td>2.0</td>\n",
       "      <td>1.0</td>\n",
       "      <td>0.0</td>\n",
       "      <td>0.0</td>\n",
       "      <td>14.0</td>\n",
       "      <td>1.0</td>\n",
       "      <td>0.0</td>\n",
       "      <td>77.0</td>\n",
       "      <td>...</td>\n",
       "      <td>0.0</td>\n",
       "      <td>0.0</td>\n",
       "      <td>0.0</td>\n",
       "      <td>-1.0</td>\n",
       "      <td>0.0</td>\n",
       "      <td>0.0</td>\n",
       "      <td>0.0</td>\n",
       "      <td>1.0</td>\n",
       "      <td>0.0</td>\n",
       "      <td>0.0</td>\n",
       "    </tr>\n",
       "    <tr>\n",
       "      <th>3</th>\n",
       "      <td>28.0</td>\n",
       "      <td>-994.0</td>\n",
       "      <td>2.0</td>\n",
       "      <td>1.0</td>\n",
       "      <td>0.0</td>\n",
       "      <td>0.0</td>\n",
       "      <td>18.0</td>\n",
       "      <td>1.0</td>\n",
       "      <td>0.0</td>\n",
       "      <td>174.0</td>\n",
       "      <td>...</td>\n",
       "      <td>0.0</td>\n",
       "      <td>0.0</td>\n",
       "      <td>0.0</td>\n",
       "      <td>-1.0</td>\n",
       "      <td>0.0</td>\n",
       "      <td>0.0</td>\n",
       "      <td>0.0</td>\n",
       "      <td>1.0</td>\n",
       "      <td>0.0</td>\n",
       "      <td>0.0</td>\n",
       "    </tr>\n",
       "    <tr>\n",
       "      <th>4</th>\n",
       "      <td>42.0</td>\n",
       "      <td>2974.0</td>\n",
       "      <td>5.0</td>\n",
       "      <td>0.0</td>\n",
       "      <td>0.0</td>\n",
       "      <td>1.0</td>\n",
       "      <td>21.0</td>\n",
       "      <td>1.0</td>\n",
       "      <td>0.0</td>\n",
       "      <td>187.0</td>\n",
       "      <td>...</td>\n",
       "      <td>0.0</td>\n",
       "      <td>0.0</td>\n",
       "      <td>0.0</td>\n",
       "      <td>-1.0</td>\n",
       "      <td>0.0</td>\n",
       "      <td>0.0</td>\n",
       "      <td>0.0</td>\n",
       "      <td>1.0</td>\n",
       "      <td>0.0</td>\n",
       "      <td>0.0</td>\n",
       "    </tr>\n",
       "  </tbody>\n",
       "</table>\n",
       "<p>5 rows × 52 columns</p>\n",
       "</div>"
      ],
      "text/plain": [
       "    age  balance  campaign  contact=cellular  contact=telephone  \\\n",
       "0  43.0    291.0       2.0               0.0                0.0   \n",
       "1  42.0   5076.0       1.0               1.0                0.0   \n",
       "2  47.0    104.0       2.0               1.0                0.0   \n",
       "3  28.0   -994.0       2.0               1.0                0.0   \n",
       "4  42.0   2974.0       5.0               0.0                0.0   \n",
       "\n",
       "   contact=unknown   day  default=no  default=yes  duration  ...  month=nov  \\\n",
       "0              1.0   9.0         1.0          0.0     150.0  ...        0.0   \n",
       "1              0.0   7.0         1.0          0.0      99.0  ...        0.0   \n",
       "2              0.0  14.0         1.0          0.0      77.0  ...        0.0   \n",
       "3              0.0  18.0         1.0          0.0     174.0  ...        0.0   \n",
       "4              1.0  21.0         1.0          0.0     187.0  ...        0.0   \n",
       "\n",
       "   month=oct  month=sep  pdays  poutcome=failure  poutcome=other  \\\n",
       "0        0.0        0.0   -1.0               0.0             0.0   \n",
       "1        0.0        0.0  251.0               0.0             1.0   \n",
       "2        0.0        0.0   -1.0               0.0             0.0   \n",
       "3        0.0        0.0   -1.0               0.0             0.0   \n",
       "4        0.0        0.0   -1.0               0.0             0.0   \n",
       "\n",
       "   poutcome=success  poutcome=unknown  previous    y  \n",
       "0               0.0               1.0       0.0  0.0  \n",
       "1               0.0               0.0       2.0  0.0  \n",
       "2               0.0               1.0       0.0  0.0  \n",
       "3               0.0               1.0       0.0  0.0  \n",
       "4               0.0               1.0       0.0  0.0  \n",
       "\n",
       "[5 rows x 52 columns]"
      ]
     },
     "execution_count": 43,
     "metadata": {},
     "output_type": "execute_result"
    },
    {
     "data": {
      "text/plain": [
       "(25317, 52)"
      ]
     },
     "execution_count": 43,
     "metadata": {},
     "output_type": "execute_result"
    }
   ],
   "source": [
    "from sklearn.feature_extraction import DictVectorizer\n",
    "\n",
    "vec = DictVectorizer(sparse=False)\n",
    "train_set = vec.fit_transform(train_set.to_dict(orient=\"record\"))\n",
    "train_set = pd.DataFrame(train_set)\n",
    "train_set.columns = vec.feature_names_\n",
    "train_set.head()\n",
    "train_set.shape"
   ]
  },
  {
   "cell_type": "markdown",
   "metadata": {},
   "source": [
    "### 模型选择\n",
    "\n",
    "常用的分类模型在Sklearn中有很多，如何选择一个合适的模型其实是需要自己不断尝试的，我在前期尝试了很多不同的模型，比如**逻辑回归、KNN、决策树、高斯贝叶斯、神经网络、SVM**还有集成学习的一些模型比如**随机森林、Adaboost**等。我将数据集分成训练集和验证集，采用对不同的模型使用十折交叉验证的方式，筛选出一个较合适的模型，为方便起见，各个模型的参数均使用默认值。"
   ]
  },
  {
   "cell_type": "code",
   "execution_count": 83,
   "metadata": {
    "ExecuteTime": {
     "end_time": "2019-12-11T08:39:22.124419Z",
     "start_time": "2019-12-11T08:39:22.095496Z"
    },
    "collapsed": true
   },
   "outputs": [],
   "source": [
    "from sklearn.tree import DecisionTreeClassifier\n",
    "from sklearn.linear_model import LogisticRegression\n",
    "from sklearn.discriminant_analysis import LinearDiscriminantAnalysis\n",
    "from sklearn.ensemble import RandomForestClassifier\n",
    "from sklearn.neighbors import KNeighborsClassifier\n",
    "from sklearn.ensemble import AdaBoostClassifier\n",
    "from sklearn.naive_bayes import GaussianNB\n",
    "from sklearn.svm import SVC\n",
    "import xgboost as xgb\n",
    "from xgboost.sklearn import XGBClassifier\n",
    "from sklearn.preprocessing import StandardScaler\n",
    "from sklearn.neural_network import MLPClassifier\n",
    "from sklearn.ensemble import BaggingClassifier\n",
    "from tqdm.notebook import tqdm\n",
    "from sklearn.feature_extraction import DictVectorizer\n",
    "from sklearn.model_selection import train_test_split, KFold, cross_val_score, GridSearchCV"
   ]
  },
  {
   "cell_type": "code",
   "execution_count": 64,
   "metadata": {
    "ExecuteTime": {
     "end_time": "2019-12-11T07:41:14.140983Z",
     "start_time": "2019-12-11T07:41:14.049229Z"
    }
   },
   "outputs": [
    {
     "data": {
      "text/html": [
       "<div>\n",
       "<style scoped>\n",
       "    .dataframe tbody tr th:only-of-type {\n",
       "        vertical-align: middle;\n",
       "    }\n",
       "\n",
       "    .dataframe tbody tr th {\n",
       "        vertical-align: top;\n",
       "    }\n",
       "\n",
       "    .dataframe thead th {\n",
       "        text-align: right;\n",
       "    }\n",
       "</style>\n",
       "<table border=\"1\" class=\"dataframe\">\n",
       "  <thead>\n",
       "    <tr style=\"text-align: right;\">\n",
       "      <th></th>\n",
       "      <th>age</th>\n",
       "      <th>balance</th>\n",
       "      <th>campaign</th>\n",
       "      <th>contact=cellular</th>\n",
       "      <th>contact=telephone</th>\n",
       "      <th>contact=unknown</th>\n",
       "      <th>day</th>\n",
       "      <th>default=no</th>\n",
       "      <th>default=yes</th>\n",
       "      <th>duration</th>\n",
       "      <th>...</th>\n",
       "      <th>month=may</th>\n",
       "      <th>month=nov</th>\n",
       "      <th>month=oct</th>\n",
       "      <th>month=sep</th>\n",
       "      <th>pdays</th>\n",
       "      <th>poutcome=failure</th>\n",
       "      <th>poutcome=other</th>\n",
       "      <th>poutcome=success</th>\n",
       "      <th>poutcome=unknown</th>\n",
       "      <th>previous</th>\n",
       "    </tr>\n",
       "  </thead>\n",
       "  <tbody>\n",
       "    <tr>\n",
       "      <th>22236</th>\n",
       "      <td>34.0</td>\n",
       "      <td>97.0</td>\n",
       "      <td>3.0</td>\n",
       "      <td>1.0</td>\n",
       "      <td>0.0</td>\n",
       "      <td>0.0</td>\n",
       "      <td>14.0</td>\n",
       "      <td>1.0</td>\n",
       "      <td>0.0</td>\n",
       "      <td>67.0</td>\n",
       "      <td>...</td>\n",
       "      <td>1.0</td>\n",
       "      <td>0.0</td>\n",
       "      <td>0.0</td>\n",
       "      <td>0.0</td>\n",
       "      <td>-1.0</td>\n",
       "      <td>0.0</td>\n",
       "      <td>0.0</td>\n",
       "      <td>0.0</td>\n",
       "      <td>1.0</td>\n",
       "      <td>0.0</td>\n",
       "    </tr>\n",
       "    <tr>\n",
       "      <th>5153</th>\n",
       "      <td>21.0</td>\n",
       "      <td>557.0</td>\n",
       "      <td>2.0</td>\n",
       "      <td>1.0</td>\n",
       "      <td>0.0</td>\n",
       "      <td>0.0</td>\n",
       "      <td>31.0</td>\n",
       "      <td>1.0</td>\n",
       "      <td>0.0</td>\n",
       "      <td>197.0</td>\n",
       "      <td>...</td>\n",
       "      <td>0.0</td>\n",
       "      <td>0.0</td>\n",
       "      <td>0.0</td>\n",
       "      <td>0.0</td>\n",
       "      <td>-1.0</td>\n",
       "      <td>0.0</td>\n",
       "      <td>0.0</td>\n",
       "      <td>0.0</td>\n",
       "      <td>1.0</td>\n",
       "      <td>0.0</td>\n",
       "    </tr>\n",
       "    <tr>\n",
       "      <th>17452</th>\n",
       "      <td>44.0</td>\n",
       "      <td>1286.0</td>\n",
       "      <td>3.0</td>\n",
       "      <td>0.0</td>\n",
       "      <td>0.0</td>\n",
       "      <td>1.0</td>\n",
       "      <td>20.0</td>\n",
       "      <td>1.0</td>\n",
       "      <td>0.0</td>\n",
       "      <td>268.0</td>\n",
       "      <td>...</td>\n",
       "      <td>0.0</td>\n",
       "      <td>0.0</td>\n",
       "      <td>0.0</td>\n",
       "      <td>0.0</td>\n",
       "      <td>-1.0</td>\n",
       "      <td>0.0</td>\n",
       "      <td>0.0</td>\n",
       "      <td>0.0</td>\n",
       "      <td>1.0</td>\n",
       "      <td>0.0</td>\n",
       "    </tr>\n",
       "    <tr>\n",
       "      <th>1246</th>\n",
       "      <td>26.0</td>\n",
       "      <td>761.0</td>\n",
       "      <td>1.0</td>\n",
       "      <td>1.0</td>\n",
       "      <td>0.0</td>\n",
       "      <td>0.0</td>\n",
       "      <td>2.0</td>\n",
       "      <td>1.0</td>\n",
       "      <td>0.0</td>\n",
       "      <td>362.0</td>\n",
       "      <td>...</td>\n",
       "      <td>0.0</td>\n",
       "      <td>0.0</td>\n",
       "      <td>0.0</td>\n",
       "      <td>0.0</td>\n",
       "      <td>-1.0</td>\n",
       "      <td>0.0</td>\n",
       "      <td>0.0</td>\n",
       "      <td>0.0</td>\n",
       "      <td>1.0</td>\n",
       "      <td>0.0</td>\n",
       "    </tr>\n",
       "    <tr>\n",
       "      <th>8308</th>\n",
       "      <td>36.0</td>\n",
       "      <td>219.0</td>\n",
       "      <td>2.0</td>\n",
       "      <td>1.0</td>\n",
       "      <td>0.0</td>\n",
       "      <td>0.0</td>\n",
       "      <td>11.0</td>\n",
       "      <td>1.0</td>\n",
       "      <td>0.0</td>\n",
       "      <td>270.0</td>\n",
       "      <td>...</td>\n",
       "      <td>1.0</td>\n",
       "      <td>0.0</td>\n",
       "      <td>0.0</td>\n",
       "      <td>0.0</td>\n",
       "      <td>347.0</td>\n",
       "      <td>1.0</td>\n",
       "      <td>0.0</td>\n",
       "      <td>0.0</td>\n",
       "      <td>0.0</td>\n",
       "      <td>1.0</td>\n",
       "    </tr>\n",
       "  </tbody>\n",
       "</table>\n",
       "<p>5 rows × 51 columns</p>\n",
       "</div>"
      ],
      "text/plain": [
       "        age  balance  campaign  contact=cellular  contact=telephone  \\\n",
       "22236  34.0     97.0       3.0               1.0                0.0   \n",
       "5153   21.0    557.0       2.0               1.0                0.0   \n",
       "17452  44.0   1286.0       3.0               0.0                0.0   \n",
       "1246   26.0    761.0       1.0               1.0                0.0   \n",
       "8308   36.0    219.0       2.0               1.0                0.0   \n",
       "\n",
       "       contact=unknown   day  default=no  default=yes  duration  ...  \\\n",
       "22236              0.0  14.0         1.0          0.0      67.0  ...   \n",
       "5153               0.0  31.0         1.0          0.0     197.0  ...   \n",
       "17452              1.0  20.0         1.0          0.0     268.0  ...   \n",
       "1246               0.0   2.0         1.0          0.0     362.0  ...   \n",
       "8308               0.0  11.0         1.0          0.0     270.0  ...   \n",
       "\n",
       "       month=may  month=nov  month=oct  month=sep  pdays  poutcome=failure  \\\n",
       "22236        1.0        0.0        0.0        0.0   -1.0               0.0   \n",
       "5153         0.0        0.0        0.0        0.0   -1.0               0.0   \n",
       "17452        0.0        0.0        0.0        0.0   -1.0               0.0   \n",
       "1246         0.0        0.0        0.0        0.0   -1.0               0.0   \n",
       "8308         1.0        0.0        0.0        0.0  347.0               1.0   \n",
       "\n",
       "       poutcome=other  poutcome=success  poutcome=unknown  previous  \n",
       "22236             0.0               0.0               1.0       0.0  \n",
       "5153              0.0               0.0               1.0       0.0  \n",
       "17452             0.0               0.0               1.0       0.0  \n",
       "1246              0.0               0.0               1.0       0.0  \n",
       "8308              0.0               0.0               0.0       1.0  \n",
       "\n",
       "[5 rows x 51 columns]"
      ]
     },
     "execution_count": 64,
     "metadata": {},
     "output_type": "execute_result"
    }
   ],
   "source": [
    "# 将训练集的一部分拿出来作为测试集,用来最后评判模型在为训练数据上的表现\n",
    "X = train_set.iloc[:, :-1]\n",
    "Y = train_set.iloc[:, -1]\n",
    "x_train, x_test, y_train, y_test = train_test_split(X,\n",
    "                                                    Y,\n",
    "                                                    test_size=0.1,\n",
    "                                                    random_state=33)\n",
    "x_train.head()"
   ]
  },
  {
   "cell_type": "code",
   "execution_count": 67,
   "metadata": {
    "ExecuteTime": {
     "end_time": "2019-12-11T07:43:40.280109Z",
     "start_time": "2019-12-11T07:43:40.257169Z"
    }
   },
   "outputs": [],
   "source": [
    "#定义好不同的模型\n",
    "models = {}\n",
    "models['LR'] = LogisticRegression()\n",
    "models['LDA'] = LinearDiscriminantAnalysis()\n",
    "models['KNN'] = KNeighborsClassifier()\n",
    "models['DTC'] = DecisionTreeClassifier()\n",
    "models['NB'] = GaussianNB()\n",
    "models[\"NN\"] = MLPClassifier()\n",
    "models[\"RF\"] = RandomForestClassifier()\n",
    "models[\"AdaBoost\"] = AdaBoostClassifier(DecisionTreeClassifier())\n",
    "models[\"Bagging\"] = BaggingClassifier(DecisionTreeClassifier())\n",
    "models[\"Xgboost\"] = XGBClassifier()\n",
    "models['SVM'] = SVC()"
   ]
  },
  {
   "cell_type": "code",
   "execution_count": 68,
   "metadata": {
    "ExecuteTime": {
     "end_time": "2019-12-11T08:29:16.821192Z",
     "start_time": "2019-12-11T07:43:42.049376Z"
    }
   },
   "outputs": [
    {
     "data": {
      "application/vnd.jupyter.widget-view+json": {
       "model_id": "9add091334ff460590968ab366e158c7",
       "version_major": 2,
       "version_minor": 0
      },
      "text/plain": [
       "HBox(children=(IntProgress(value=0, max=11), HTML(value='')))"
      ]
     },
     "metadata": {},
     "output_type": "display_data"
    },
    {
     "name": "stdout",
     "output_type": "stream",
     "text": [
      "LR::0.902963(0.005162)\n",
      "LDA::0.901822(0.004328)\n",
      "KNN::0.880317(0.006124)\n",
      "DTC::0.872504(0.006043)\n",
      "NB::0.850296(0.006954)\n",
      "NN::0.893351(0.003964)\n",
      "RF::0.899364(0.004568)\n",
      "AdaBoost::0.874040(0.004680)\n",
      "Bagging::0.900812(0.005079)\n",
      "Xgboost::0.906430(0.004832)\n",
      "SVM::0.882687(0.007327)\n",
      "\n"
     ]
    }
   ],
   "source": [
    "#使用十折交叉验证\n",
    "results = []\n",
    "num_folds = 10\n",
    "seed = 7\n",
    "#使用准确度进行评估\n",
    "kfold = KFold(n_splits=num_folds, random_state=seed)\n",
    "for key in tqdm(models):\n",
    "    #交叉验证每次运行的评分数组\n",
    "    cv_results = cross_val_score(\n",
    "        models[key],\n",
    "        x_train,\n",
    "        y_train,\n",
    "        cv=kfold,\n",
    "    )\n",
    "    results.append(cv_results)\n",
    "    print('%s::%f(%f)' % (key, cv_results.mean(), cv_results.std()))\n"
   ]
  },
  {
   "cell_type": "code",
   "execution_count": 74,
   "metadata": {
    "ExecuteTime": {
     "end_time": "2019-12-11T08:32:05.731340Z",
     "start_time": "2019-12-11T08:32:05.229684Z"
    }
   },
   "outputs": [
    {
     "data": {
      "image/png": "[encoded data removed]",
      "text/plain": [
       "<Figure size 720x400 with 1 Axes>"
      ]
     },
     "metadata": {},
     "output_type": "display_data"
    }
   ],
   "source": [
    "#正态化-箱线图\n",
    "b = plt.figure(figsize=(9,5),dpi=80)\n",
    "b = plt.suptitle('Scaled Algorithm Comparison')\n",
    "b = plt.boxplot(results)\n",
    "b = plt.xticks(range(1,len(models.keys())+1),models.keys())\n",
    "b = plt.show()"
   ]
  },
  {
   "cell_type": "markdown",
   "metadata": {},
   "source": [
    "我一共使用了**逻辑回归、LDA、KNN、决策树、贝叶斯、神经网络、随机森林、Adaboost、Bagging、Xgboost和SVM**共十一种模型，在全部使用默认参数（Adaboost和Bagging的使用的弱分类器为决策树）的情况下，使用十折交叉验证。最后结果显示在这十一种模型中，贝叶斯的效果最不尽如人意，**Xgboost的效果最优**，通过我网上提交成绩的排名显示也是Xgboost模型要优于其他分类模型。我将这个模型作为我的核心模型，使用一定的方式调整参数，使之达到最优的效果"
   ]
  },
  {
   "cell_type": "markdown",
   "metadata": {},
   "source": [
    "### 网格搜索\n",
    "\n",
    "关于Xgboost中的网格搜索，主要参考了这篇文章[XGBoost参数调优完全指南](https://blog.csdn.net/han_xiaoyang/article/details/52665396)\n",
    "> 如果你的预测模型表现得有些不尽如人意，那就用XGBoost吧。XGBoost算法现在已经成为很多数据工程师的重要武器。它是一种十分精致的算法，可以处理各种不规则的数据。\n",
    "构造一个使用XGBoost的模型十分简单。但是，提高这个模型的表现就有些困难(至少我觉得十分纠结)。这个算法使用了好几个参数。所以为了提高模型的表现，参数的调整十分必要。在解决实际问题的时候，有些问题是很难回答的——你需要调整哪些参数？这些参数要调到什么值，才能达到理想的输出？\n",
    "\n",
    "我通过网格搜索，主要调整如下几个参数\n",
    "+ 学习率（learning rate）<=通过交叉验证得到\n",
    "+ 决策树数量（n_estimators）\n",
    "+ 决策树相关参数（max_depth,min_child_weight,gamma,subsample,colsample_bytree）\n",
    "+ 正则化参数（lambda,alpha）<=正则化参数可以降低模型复杂度"
   ]
  },
  {
   "cell_type": "code",
   "execution_count": 77,
   "metadata": {
    "ExecuteTime": {
     "end_time": "2019-12-11T08:34:46.236227Z",
     "start_time": "2019-12-11T08:34:46.230245Z"
    },
    "collapsed": true
   },
   "outputs": [],
   "source": [
    "from xgboost import plot_importance\n",
    "from sklearn import metrics"
   ]
  },
  {
   "cell_type": "markdown",
   "metadata": {
    "ExecuteTime": {
     "end_time": "2019-12-11T08:29:17.422584Z",
     "start_time": "2019-12-11T08:29:17.411614Z"
    }
   },
   "source": [
    "#### n_estimators"
   ]
  },
  {
   "cell_type": "code",
   "execution_count": 84,
   "metadata": {
    "ExecuteTime": {
     "end_time": "2019-12-11T08:40:22.436965Z",
     "start_time": "2019-12-11T08:40:22.382113Z"
    },
    "collapsed": true
   },
   "outputs": [],
   "source": [
    "def modelfit(alg, X, Y, useTrainCV=True, cv_folds=10, early_stopping_rounds=50):\n",
    "    if useTrainCV:\n",
    "        xgb_param = alg.get_xgb_params()\n",
    "        xgtrain = xgb.DMatrix(X.values, label=Y.values)\n",
    "        cvresult = xgb.cv(xgb_param,\n",
    "                          xgtrain,\n",
    "                          num_boost_round=alg.get_params()['n_estimators'],\n",
    "                          nfold=cv_folds,\n",
    "                          metrics='auc',\n",
    "                          early_stopping_rounds=early_stopping_rounds,\n",
    "                          verbose_eval=False)\n",
    "        alg.set_params(n_estimators=cvresult.shape[0])\n",
    "\n",
    "    #Fit the algorithm on the data\n",
    "    alg.fit(X, Y, eval_metric='auc')\n",
    "\n",
    "    #Predict training set:\n",
    "    dtrain_predictions = alg.predict(X)\n",
    "    dtrain_predprob = alg.predict_proba(X)[:, 1]\n",
    "\n",
    "    #Print model report:\n",
    "    print(\"\\nModel Report\")\n",
    "    print(\"Best Num Of Tree:{}\".format(cvresult.shape[0]))\n",
    "    print(\"Accuracy : %.4g\" %\n",
    "          metrics.accuracy_score(Y.values, dtrain_predictions))\n",
    "    print(\"AUC Score (Train): %f\" % metrics.roc_auc_score(Y, dtrain_predprob))\n",
    "\n",
    "    feat_imp = pd.Series(\n",
    "        alg.get_booster().get_fscore()).sort_values(ascending=False)\n",
    "    b = plt.figure(figsize=(14,5),dpi=80)\n",
    "    feat_imp.plot(kind='bar', title='Feature Importances')\n",
    "    plt.ylabel('Feature Importance Score')"
   ]
  },
  {
   "cell_type": "markdown",
   "metadata": {},
   "source": [
    "首先我给Xgboost中的各个参数调整一个合适的默认值，其次我定义了一个函数`modelfit`，这个函数会使用xgb自带的交叉验证库调整决策树的数量，根据最后的预测结果，选择一个最优的数量，并且打印`Feature Importances`图，其表示的是数据集中各个特征的重要程度"
   ]
  },
  {
   "cell_type": "code",
   "execution_count": 85,
   "metadata": {
    "ExecuteTime": {
     "end_time": "2019-12-11T08:41:25.050638Z",
     "start_time": "2019-12-11T08:40:24.373931Z"
    }
   },
   "outputs": [
    {
     "name": "stdout",
     "output_type": "stream",
     "text": [
      "\n",
      "Model Report\n",
      "Best Num Of Tree:179\n",
      "Accuracy : 0.9395\n",
      "AUC Score (Train): 0.967925\n"
     ]
    },
    {
     "data": {
      "image/png": "[encoded data removed]",
      "text/plain": [
       "<Figure size 1120x400 with 1 Axes>"
      ]
     },
     "metadata": {},
     "output_type": "display_data"
    }
   ],
   "source": [
    "xgb1 = XGBClassifier(learning_rate=0.1,\n",
    "                     n_estimators=1000,\n",
    "                     max_depth=5,\n",
    "                     min_child_weight=1,\n",
    "                     gamma=0,\n",
    "                     subsample=0.8,\n",
    "                     colsample_bytree=0.8,\n",
    "                     objective='binary:logistic',\n",
    "                     nthread=4,\n",
    "                     scale_pos_weight=1,\n",
    "                     seed=27)\n",
    "# 得到Best Num Of Tree\n",
    "modelfit(xgb1, x_train, y_train)"
   ]
  },
  {
   "cell_type": "markdown",
   "metadata": {},
   "source": [
    "得到在学习率为0.1的情况下，最好的数量为179。通过Xgb分析，我了解到对于最后结果影响最大的几个特征为最后一次联系的交流时长和每年账户的平均余额"
   ]
  },
  {
   "cell_type": "markdown",
   "metadata": {},
   "source": [
    "#### max_depth 和 min_child_weight\n",
    "\n",
    "接下来使用网格搜索调整`max_depth`和 `min_child_weight`，并打印最佳的参数。为方便展示，网格搜索的其余信息我存在了txt文件中"
   ]
  },
  {
   "cell_type": "code",
   "execution_count": 87,
   "metadata": {
    "ExecuteTime": {
     "end_time": "2019-12-11T09:07:05.419387Z",
     "start_time": "2019-12-11T09:02:42.272410Z"
    }
   },
   "outputs": [
    {
     "data": {
      "text/plain": [
       "GridSearchCV(cv=5, error_score='raise-deprecating',\n",
       "             estimator=XGBClassifier(base_score=0.5, booster='gbtree',\n",
       "                                     colsample_bylevel=1, colsample_bynode=1,\n",
       "                                     colsample_bytree=0.8, gamma=0,\n",
       "                                     learning_rate=0.1, max_delta_step=0,\n",
       "                                     max_depth=5, min_child_weight=2,\n",
       "                                     missing=None, n_estimators=186, n_jobs=1,\n",
       "                                     nthread=4, objective='binary:logistic',\n",
       "                                     random_state=0, reg_alpha=0, reg_lambda=1,\n",
       "                                     scale_pos_weight=1, seed=27, silent=None,\n",
       "                                     subsample=0.8, verbosity=1),\n",
       "             iid=False, n_jobs=4,\n",
       "             param_grid={'max_depth': range(3, 10, 2),\n",
       "                         'min_child_weight': range(1, 6, 2)},\n",
       "             pre_dispatch='2*n_jobs', refit=True, return_train_score=False,\n",
       "             scoring='roc_auc', verbose=0)"
      ]
     },
     "execution_count": 87,
     "metadata": {},
     "output_type": "execute_result"
    },
    {
     "name": "stdout",
     "output_type": "stream",
     "text": [
      "{'max_depth': 5, 'min_child_weight': 3}\n"
     ]
    },
    {
     "data": {
      "text/plain": [
       "3243"
      ]
     },
     "execution_count": 87,
     "metadata": {},
     "output_type": "execute_result"
    }
   ],
   "source": [
    "param_test1 = {\n",
    "    'max_depth': range(3, 10, 2),\n",
    "    'min_child_weight': range(1, 6, 2)\n",
    "}\n",
    "gsearch1 = GridSearchCV(estimator=XGBClassifier(learning_rate=0.1,\n",
    "                                                n_estimators=186,\n",
    "                                                max_depth=5,\n",
    "                                                min_child_weight=2,\n",
    "                                                gamma=0,\n",
    "                                                subsample=0.8,\n",
    "                                                colsample_bytree=0.8,\n",
    "                                                objective='binary:logistic',\n",
    "                                                nthread=4,\n",
    "                                                scale_pos_weight=1,\n",
    "                                                seed=27),\n",
    "                        param_grid=param_test1,\n",
    "                        scoring='roc_auc',\n",
    "                        n_jobs=4,\n",
    "                        iid=False,\n",
    "                        cv=5)\n",
    "gsearch1.fit(x_train, y_train)\n",
    "res1 = gsearch1.cv_results_\n",
    "res2 = gsearch1.best_params_\n",
    "res3 = gsearch1.best_score_\n",
    "print(res2)\n",
    "with open(\"./max_depth_min_child_weight.txt\", \"w\") as f:\n",
    "    ans = \"grid_scores_:\" + str(res1) + \"\\n best_params_:\" + str(\n",
    "        res2) + \"\\n best_score_:\" + str(res3)\n",
    "    f.write(ans)"
   ]
  },
  {
   "cell_type": "markdown",
   "metadata": {},
   "source": [
    "得到最优的结果为`max_depth`: 5，`min_child_weight`: 3。进一步在5和3的附近寻找最优的参数"
   ]
  },
  {
   "cell_type": "code",
   "execution_count": 88,
   "metadata": {
    "ExecuteTime": {
     "end_time": "2019-12-11T09:12:34.099060Z",
     "start_time": "2019-12-11T09:07:06.067654Z"
    }
   },
   "outputs": [
    {
     "data": {
      "text/plain": [
       "GridSearchCV(cv=5, error_score='raise-deprecating',\n",
       "             estimator=XGBClassifier(base_score=0.5, booster='gbtree',\n",
       "                                     colsample_bylevel=1, colsample_bynode=1,\n",
       "                                     colsample_bytree=0.8, gamma=0,\n",
       "                                     learning_rate=0.1, max_delta_step=0,\n",
       "                                     max_depth=5, min_child_weight=3,\n",
       "                                     missing=None, n_estimators=179, n_jobs=1,\n",
       "                                     nthread=4, objective='binary:logistic',\n",
       "                                     random_state=0, reg_alpha=0, reg_lambda=1,\n",
       "                                     scale_pos_weight=1, seed=27, silent=None,\n",
       "                                     subsample=0.8, verbosity=1),\n",
       "             iid=False, n_jobs=4,\n",
       "             param_grid={'max_depth': [5, 6, 7, 8],\n",
       "                         'min_child_weight': [2, 3, 4, 5]},\n",
       "             pre_dispatch='2*n_jobs', refit=True, return_train_score=False,\n",
       "             scoring='roc_auc', verbose=0)"
      ]
     },
     "execution_count": 88,
     "metadata": {},
     "output_type": "execute_result"
    },
    {
     "name": "stdout",
     "output_type": "stream",
     "text": [
      "{'max_depth': 5, 'min_child_weight': 3}\n"
     ]
    },
    {
     "data": {
      "text/plain": [
       "4112"
      ]
     },
     "execution_count": 88,
     "metadata": {},
     "output_type": "execute_result"
    }
   ],
   "source": [
    "param_test2 = {'max_depth': [5, 6, 7, 8], 'min_child_weight': [2, 3, 4, 5]}\n",
    "gsearch2 = GridSearchCV(estimator=XGBClassifier(learning_rate=0.1,\n",
    "                                                n_estimators=179,\n",
    "                                                max_depth=5,\n",
    "                                                min_child_weight=3,\n",
    "                                                gamma=0,\n",
    "                                                subsample=0.8,\n",
    "                                                colsample_bytree=0.8,\n",
    "                                                objective='binary:logistic',\n",
    "                                                nthread=4,\n",
    "                                                scale_pos_weight=1,\n",
    "                                                seed=27),\n",
    "                        param_grid=param_test2,\n",
    "                        scoring='roc_auc',\n",
    "                        n_jobs=4,\n",
    "                        iid=False,\n",
    "                        cv=5)\n",
    "gsearch2.fit(x_train, y_train)\n",
    "res1 = gsearch2.cv_results_\n",
    "res2 = gsearch2.best_params_\n",
    "res3 = gsearch2.best_score_\n",
    "print(res2)\n",
    "with open(\"./max_depth_min_child_weight.txt\", \"w\") as f:\n",
    "    ans = \"grid_scores_:\" + str(res1) + \"\\n best_params_:\" + str(\n",
    "        res2) + \"\\n best_score_:\" + str(res3)\n",
    "    f.write(ans)"
   ]
  },
  {
   "cell_type": "markdown",
   "metadata": {},
   "source": [
    "网格搜索结果仍然为5和3，那么就确定`max_depth`的值为5,`min_child_weight`为3"
   ]
  },
  {
   "cell_type": "markdown",
   "metadata": {},
   "source": [
    "#### gamma\n",
    "\n",
    "同理，带入上面已经确定的参数，来确定gamma的值"
   ]
  },
  {
   "cell_type": "code",
   "execution_count": 93,
   "metadata": {
    "ExecuteTime": {
     "end_time": "2019-12-11T09:18:35.102005Z",
     "start_time": "2019-12-11T09:17:14.256728Z"
    }
   },
   "outputs": [
    {
     "data": {
      "text/plain": [
       "GridSearchCV(cv=5, error_score='raise-deprecating',\n",
       "             estimator=XGBClassifier(base_score=0.5, booster='gbtree',\n",
       "                                     colsample_bylevel=1, colsample_bynode=1,\n",
       "                                     colsample_bytree=0.8, gamma=0,\n",
       "                                     learning_rate=0.1, max_delta_step=0,\n",
       "                                     max_depth=5, min_child_weight=3,\n",
       "                                     missing=None, n_estimators=179, n_jobs=1,\n",
       "                                     nthread=4, objective='binary:logistic',\n",
       "                                     random_state=0, reg_alpha=0, reg_lambda=1,\n",
       "                                     scale_pos_weight=1, seed=27, silent=None,\n",
       "                                     subsample=0.8, verbosity=1),\n",
       "             iid=False, n_jobs=4,\n",
       "             param_grid={'gamma': [0.0, 0.1, 0.2, 0.3, 0.4]},\n",
       "             pre_dispatch='2*n_jobs', refit=True, return_train_score=False,\n",
       "             scoring='roc_auc', verbose=0)"
      ]
     },
     "execution_count": 93,
     "metadata": {},
     "output_type": "execute_result"
    },
    {
     "name": "stdout",
     "output_type": "stream",
     "text": [
      "{'gamma': 0.3}\n"
     ]
    },
    {
     "data": {
      "text/plain": [
       "1350"
      ]
     },
     "execution_count": 93,
     "metadata": {},
     "output_type": "execute_result"
    }
   ],
   "source": [
    "param_test3 = {'gamma': [i / 10.0 for i in range(0, 5)]}\n",
    "gsearch3 = GridSearchCV(estimator=XGBClassifier(learning_rate=0.1,\n",
    "                                                n_estimators=179,\n",
    "                                                max_depth=5,\n",
    "                                                min_child_weight=3,\n",
    "                                                gamma=0,\n",
    "                                                subsample=0.8,\n",
    "                                                colsample_bytree=0.8,\n",
    "                                                objective='binary:logistic',\n",
    "                                                nthread=4,\n",
    "                                                scale_pos_weight=1,\n",
    "                                                seed=27),\n",
    "                        param_grid=param_test3,\n",
    "                        scoring='roc_auc',\n",
    "                        n_jobs=4,\n",
    "                        iid=False,\n",
    "                        cv=5)\n",
    "\n",
    "gsearch3.fit(x_train, y_train)\n",
    "res1 = gsearch3.cv_results_\n",
    "res2 = gsearch3.best_params_\n",
    "res3 = gsearch3.best_score_\n",
    "print(res2)\n",
    "with open(\"./gamma.txt\", \"w\") as f:\n",
    "    ans = \"grid_scores_:\" + str(res1) + \"\\n best_params_:\" + str(\n",
    "        res2) + \"\\n best_score_:\" + str(res3)\n",
    "    f.write(ans)"
   ]
  },
  {
   "cell_type": "markdown",
   "metadata": {},
   "source": [
    "确认`gamma`值为0.3"
   ]
  },
  {
   "cell_type": "markdown",
   "metadata": {},
   "source": [
    "#### subsample和colsample_bytree"
   ]
  },
  {
   "cell_type": "code",
   "execution_count": 94,
   "metadata": {
    "ExecuteTime": {
     "end_time": "2019-12-11T09:24:22.086151Z",
     "start_time": "2019-12-11T09:19:41.350014Z"
    }
   },
   "outputs": [
    {
     "data": {
      "text/plain": [
       "GridSearchCV(cv=5, error_score='raise-deprecating',\n",
       "             estimator=XGBClassifier(base_score=0.5, booster='gbtree',\n",
       "                                     colsample_bylevel=1, colsample_bynode=1,\n",
       "                                     colsample_bytree=0.8, gamma=0.3,\n",
       "                                     learning_rate=0.1, max_delta_step=0,\n",
       "                                     max_depth=6, min_child_weight=6,\n",
       "                                     missing=None, n_estimators=186, n_jobs=1,\n",
       "                                     nthread=4, objective='binary:logistic',\n",
       "                                     random_state=0, reg_alpha=0, reg_lambda=1,\n",
       "                                     scale_pos_weight=1, seed=27, silent=None,\n",
       "                                     subsample=0.8, verbosity=1),\n",
       "             iid=False, n_jobs=4,\n",
       "             param_grid={'colsample_bytree': [0.6, 0.7, 0.8, 0.9],\n",
       "                         'subsample': [0.6, 0.7, 0.8, 0.9]},\n",
       "             pre_dispatch='2*n_jobs', refit=True, return_train_score=False,\n",
       "             scoring='roc_auc', verbose=0)"
      ]
     },
     "execution_count": 94,
     "metadata": {},
     "output_type": "execute_result"
    },
    {
     "name": "stdout",
     "output_type": "stream",
     "text": [
      "{'colsample_bytree': 0.8, 'subsample': 0.9}\n"
     ]
    },
    {
     "data": {
      "text/plain": [
       "4282"
      ]
     },
     "execution_count": 94,
     "metadata": {},
     "output_type": "execute_result"
    }
   ],
   "source": [
    "param_test4 = {\n",
    "    'subsample': [i / 10.0 for i in range(6, 10)],\n",
    "    'colsample_bytree': [i / 10.0 for i in range(6, 10)]\n",
    "}\n",
    "\n",
    "gsearch4 = GridSearchCV(estimator=XGBClassifier(learning_rate=0.1,\n",
    "                                                n_estimators=186,\n",
    "                                                max_depth=6,\n",
    "                                                min_child_weight=6,\n",
    "                                                gamma=0.3,\n",
    "                                                subsample=0.8,\n",
    "                                                colsample_bytree=0.9,\n",
    "                                                objective='binary:logistic',\n",
    "                                                nthread=4,\n",
    "                                                scale_pos_weight=1,\n",
    "                                                seed=27),\n",
    "                        param_grid=param_test4,\n",
    "                        scoring='roc_auc',\n",
    "                        n_jobs=4,\n",
    "                        iid=False,\n",
    "                        cv=5)\n",
    "\n",
    "gsearch4.fit(x_train, y_train)\n",
    "\n",
    "res1 = gsearch4.cv_results_\n",
    "res2 = gsearch4.best_params_\n",
    "res3 = gsearch4.best_score_\n",
    "print(res2)\n",
    "with open(\"./subsample_colsample_bytree.txt\", \"w\") as f:\n",
    "    ans = \"grid_scores_:\" + str(res1) + \"\\n best_params_:\" + str(\n",
    "        res2) + \"\\n best_score_:\" + str(res3)\n",
    "    f.write(ans)"
   ]
  },
  {
   "cell_type": "markdown",
   "metadata": {},
   "source": [
    "最终确定为：`colsample_bytree`为0.8 `subsample`为0.9"
   ]
  },
  {
   "cell_type": "markdown",
   "metadata": {},
   "source": [
    "#### Learning Rate\n",
    "前面的参数基本都调完了就轮到学习率了，将xbg模型的参数换上刚才调好的，将学习率减小，并增加决策树的数量，重新做交叉验证，寻找一个最合适的树的数量"
   ]
  },
  {
   "cell_type": "code",
   "execution_count": 95,
   "metadata": {
    "ExecuteTime": {
     "end_time": "2019-12-11T09:36:00.742808Z",
     "start_time": "2019-12-11T09:28:26.205415Z"
    }
   },
   "outputs": [
    {
     "name": "stdout",
     "output_type": "stream",
     "text": [
      "\n",
      "Model Report\n",
      "Best Num Of Tree:1605\n",
      "Accuracy : 0.9381\n",
      "AUC Score (Train): 0.968239\n"
     ]
    },
    {
     "data": {
      "image/png": "[encoded data removed]",
      "text/plain": [
       "<Figure size 1120x400 with 1 Axes>"
      ]
     },
     "metadata": {},
     "output_type": "display_data"
    }
   ],
   "source": [
    "xgb1 = XGBClassifier(learning_rate=0.01,\n",
    "                     n_estimators=2000,\n",
    "                     max_depth=6,\n",
    "                     min_child_weight=6,\n",
    "                     gamma=0.3,\n",
    "                     subsample=0.9,\n",
    "                     colsample_bytree=0.8,\n",
    "                     objective='binary:logistic',\n",
    "                     nthread=4,\n",
    "                     scale_pos_weight=1,\n",
    "                     seed=27)\n",
    "# 得到Best Num Of Tree\n",
    "modelfit(xgb1, x_train, y_train)"
   ]
  },
  {
   "cell_type": "markdown",
   "metadata": {},
   "source": [
    "最终得到的树的数量为1650"
   ]
  },
  {
   "cell_type": "code",
   "execution_count": 96,
   "metadata": {
    "ExecuteTime": {
     "end_time": "2019-12-11T09:40:33.001111Z",
     "start_time": "2019-12-11T09:39:48.271282Z"
    }
   },
   "outputs": [
    {
     "data": {
      "text/plain": [
       "XGBClassifier(base_score=0.5, booster='gbtree', colsample_bylevel=1,\n",
       "              colsample_bynode=1, colsample_bytree=0.8, gamma=0.3,\n",
       "              learning_rate=0.01, max_delta_step=0, max_depth=6,\n",
       "              min_child_weight=6, missing=None, n_estimators=1605, n_jobs=1,\n",
       "              nthread=4, objective='binary:logistic', random_state=0,\n",
       "              reg_alpha=0, reg_lambda=1, scale_pos_weight=1, seed=27,\n",
       "              silent=None, subsample=0.9, verbosity=1)"
      ]
     },
     "execution_count": 96,
     "metadata": {},
     "output_type": "execute_result"
    },
    {
     "data": {
      "text/plain": [
       "0.910347551342812"
      ]
     },
     "execution_count": 96,
     "metadata": {},
     "output_type": "execute_result"
    }
   ],
   "source": [
    "xgb1 = XGBClassifier(learning_rate=0.01,\n",
    "                     n_estimators=1605,\n",
    "                     max_depth=6,\n",
    "                     min_child_weight=6,\n",
    "                     gamma=0.3,\n",
    "                     subsample=0.9,\n",
    "                     colsample_bytree=0.8,\n",
    "                     objective='binary:logistic',\n",
    "                     nthread=4,\n",
    "                     scale_pos_weight=1,\n",
    "                     seed=27)\n",
    "xgb1.fit(x_train, y_train)\n",
    "xgb1.score(x_test,y_test)"
   ]
  },
  {
   "cell_type": "markdown",
   "metadata": {},
   "source": [
    "至此我的xgboost模型已经调完，在测试集的预测结果为91%左右。直接可以用此模型去预测结果了，最终结果为0.93473540，但排名一般，排在280+/745\n",
    "![排名](res_xgboost.jpg)"
   ]
  },
  {
   "cell_type": "markdown",
   "metadata": {},
   "source": [
    "## 特征工程提分\n",
    "\n",
    "300多的排名总是不让人满意，查资料的时候了解到特征工程相关的知识\n",
    "> 有这么一句话在业界广泛流传，数据和特征决定了机器学习的上限，而模型和算法只是逼近这个上限而已。那特征工程到底是什么呢？顾名思义，其本质是一项工程活动，目的是最大限度地从原始数据中提取特征以供算法和模型使用。\n",
    "\n",
    "> [手把手教你用sklearn做特征工程](https://blog.csdn.net/fuqiuai/article/details/79496005)"
   ]
  },
  {
   "cell_type": "markdown",
   "metadata": {
    "ExecuteTime": {
     "end_time": "2019-12-11T09:44:51.798877Z",
     "start_time": "2019-12-11T09:44:51.794886Z"
    }
   },
   "source": [
    "### 分离连续特征和离散特征"
   ]
  },
  {
   "cell_type": "code",
   "execution_count": 117,
   "metadata": {
    "ExecuteTime": {
     "end_time": "2019-12-11T09:58:08.283995Z",
     "start_time": "2019-12-11T09:58:08.093505Z"
    }
   },
   "outputs": [
    {
     "data": {
      "text/html": [
       "<div>\n",
       "<style scoped>\n",
       "    .dataframe tbody tr th:only-of-type {\n",
       "        vertical-align: middle;\n",
       "    }\n",
       "\n",
       "    .dataframe tbody tr th {\n",
       "        vertical-align: top;\n",
       "    }\n",
       "\n",
       "    .dataframe thead th {\n",
       "        text-align: right;\n",
       "    }\n",
       "</style>\n",
       "<table border=\"1\" class=\"dataframe\">\n",
       "  <thead>\n",
       "    <tr style=\"text-align: right;\">\n",
       "      <th></th>\n",
       "      <th>ID</th>\n",
       "      <th>age</th>\n",
       "      <th>balance</th>\n",
       "      <th>campaign</th>\n",
       "      <th>contact</th>\n",
       "      <th>day</th>\n",
       "      <th>default</th>\n",
       "      <th>duration</th>\n",
       "      <th>education</th>\n",
       "      <th>housing</th>\n",
       "      <th>job</th>\n",
       "      <th>loan</th>\n",
       "      <th>marital</th>\n",
       "      <th>month</th>\n",
       "      <th>pdays</th>\n",
       "      <th>poutcome</th>\n",
       "      <th>previous</th>\n",
       "      <th>y</th>\n",
       "    </tr>\n",
       "  </thead>\n",
       "  <tbody>\n",
       "    <tr>\n",
       "      <th>0</th>\n",
       "      <td>1</td>\n",
       "      <td>43</td>\n",
       "      <td>291</td>\n",
       "      <td>2</td>\n",
       "      <td>unknown</td>\n",
       "      <td>9</td>\n",
       "      <td>no</td>\n",
       "      <td>150</td>\n",
       "      <td>tertiary</td>\n",
       "      <td>yes</td>\n",
       "      <td>management</td>\n",
       "      <td>no</td>\n",
       "      <td>married</td>\n",
       "      <td>may</td>\n",
       "      <td>-1</td>\n",
       "      <td>unknown</td>\n",
       "      <td>0</td>\n",
       "      <td>0.0</td>\n",
       "    </tr>\n",
       "    <tr>\n",
       "      <th>1</th>\n",
       "      <td>2</td>\n",
       "      <td>42</td>\n",
       "      <td>5076</td>\n",
       "      <td>1</td>\n",
       "      <td>cellular</td>\n",
       "      <td>7</td>\n",
       "      <td>no</td>\n",
       "      <td>99</td>\n",
       "      <td>primary</td>\n",
       "      <td>yes</td>\n",
       "      <td>technician</td>\n",
       "      <td>no</td>\n",
       "      <td>divorced</td>\n",
       "      <td>apr</td>\n",
       "      <td>251</td>\n",
       "      <td>other</td>\n",
       "      <td>2</td>\n",
       "      <td>0.0</td>\n",
       "    </tr>\n",
       "    <tr>\n",
       "      <th>2</th>\n",
       "      <td>3</td>\n",
       "      <td>47</td>\n",
       "      <td>104</td>\n",
       "      <td>2</td>\n",
       "      <td>cellular</td>\n",
       "      <td>14</td>\n",
       "      <td>no</td>\n",
       "      <td>77</td>\n",
       "      <td>secondary</td>\n",
       "      <td>yes</td>\n",
       "      <td>admin.</td>\n",
       "      <td>yes</td>\n",
       "      <td>married</td>\n",
       "      <td>jul</td>\n",
       "      <td>-1</td>\n",
       "      <td>unknown</td>\n",
       "      <td>0</td>\n",
       "      <td>0.0</td>\n",
       "    </tr>\n",
       "    <tr>\n",
       "      <th>3</th>\n",
       "      <td>4</td>\n",
       "      <td>28</td>\n",
       "      <td>-994</td>\n",
       "      <td>2</td>\n",
       "      <td>cellular</td>\n",
       "      <td>18</td>\n",
       "      <td>no</td>\n",
       "      <td>174</td>\n",
       "      <td>secondary</td>\n",
       "      <td>yes</td>\n",
       "      <td>management</td>\n",
       "      <td>yes</td>\n",
       "      <td>single</td>\n",
       "      <td>jul</td>\n",
       "      <td>-1</td>\n",
       "      <td>unknown</td>\n",
       "      <td>0</td>\n",
       "      <td>0.0</td>\n",
       "    </tr>\n",
       "    <tr>\n",
       "      <th>4</th>\n",
       "      <td>5</td>\n",
       "      <td>42</td>\n",
       "      <td>2974</td>\n",
       "      <td>5</td>\n",
       "      <td>unknown</td>\n",
       "      <td>21</td>\n",
       "      <td>no</td>\n",
       "      <td>187</td>\n",
       "      <td>secondary</td>\n",
       "      <td>yes</td>\n",
       "      <td>technician</td>\n",
       "      <td>no</td>\n",
       "      <td>divorced</td>\n",
       "      <td>may</td>\n",
       "      <td>-1</td>\n",
       "      <td>unknown</td>\n",
       "      <td>0</td>\n",
       "      <td>0.0</td>\n",
       "    </tr>\n",
       "  </tbody>\n",
       "</table>\n",
       "</div>"
      ],
      "text/plain": [
       "   ID  age  balance  campaign   contact  day default  duration  education  \\\n",
       "0   1   43      291         2   unknown    9      no       150   tertiary   \n",
       "1   2   42     5076         1  cellular    7      no        99    primary   \n",
       "2   3   47      104         2  cellular   14      no        77  secondary   \n",
       "3   4   28     -994         2  cellular   18      no       174  secondary   \n",
       "4   5   42     2974         5   unknown   21      no       187  secondary   \n",
       "\n",
       "  housing         job loan   marital month  pdays poutcome  previous    y  \n",
       "0     yes  management   no   married   may     -1  unknown         0  0.0  \n",
       "1     yes  technician   no  divorced   apr    251    other         2  0.0  \n",
       "2     yes      admin.  yes   married   jul     -1  unknown         0  0.0  \n",
       "3     yes  management  yes    single   jul     -1  unknown         0  0.0  \n",
       "4     yes  technician   no  divorced   may     -1  unknown         0  0.0  "
      ]
     },
     "execution_count": 117,
     "metadata": {},
     "output_type": "execute_result"
    }
   ],
   "source": [
    "train_set = pd.read_csv(\"./train_set.csv\")\n",
    "train_set = pd.DataFrame(train_set)\n",
    "\n",
    "test_set = pd.read_csv(\"./test_set.csv\")\n",
    "test_set = pd.DataFrame(test_set)\n",
    "\n",
    "data = pd.concat([train_set,test_set])\n",
    "data.head()"
   ]
  },
  {
   "cell_type": "code",
   "execution_count": 119,
   "metadata": {
    "ExecuteTime": {
     "end_time": "2019-12-11T09:58:27.902531Z",
     "start_time": "2019-12-11T09:58:27.882616Z"
    }
   },
   "outputs": [
    {
     "data": {
      "text/plain": [
       "['campaign',\n",
       " 'contact',\n",
       " 'default',\n",
       " 'education',\n",
       " 'housing',\n",
       " 'job',\n",
       " 'loan',\n",
       " 'marital',\n",
       " 'month',\n",
       " 'poutcome']"
      ]
     },
     "execution_count": 119,
     "metadata": {},
     "output_type": "execute_result"
    },
    {
     "data": {
      "text/plain": [
       "['age', 'pdays', 'day', 'balance', 'duration', 'previous']"
      ]
     },
     "execution_count": 119,
     "metadata": {},
     "output_type": "execute_result"
    }
   ],
   "source": [
    "feature=data.columns.tolist()\n",
    "feature.remove('ID')\n",
    "feature.remove('y')\n",
    "#离散值和连续值分开处理\n",
    "sparse_feature= ['campaign','contact','default','education','housing','job','loan','marital','month','poutcome']\n",
    "dense_feature=list(set(feature)-set(sparse_feature))\n",
    "sparse_feature\n",
    "dense_feature"
   ]
  },
  {
   "cell_type": "markdown",
   "metadata": {},
   "source": [
    "### 离散特征和时间一起统计"
   ]
  },
  {
   "cell_type": "code",
   "execution_count": 120,
   "metadata": {
    "ExecuteTime": {
     "end_time": "2019-12-11T09:58:45.700917Z",
     "start_time": "2019-12-11T09:58:45.685960Z"
    },
    "collapsed": true
   },
   "outputs": [],
   "source": [
    "def feature_count(data, features):\n",
    "    feature_name = 'count'\n",
    "    for i in features:\n",
    "        feature_name += '_' + i\n",
    "    temp = data.groupby(features).size().reset_index().rename(columns={0: feature_name})\n",
    "    data = data.merge(temp, 'left', on=features)\n",
    "    return data,feature_name"
   ]
  },
  {
   "cell_type": "code",
   "execution_count": 121,
   "metadata": {
    "ExecuteTime": {
     "end_time": "2019-12-11T09:58:48.257080Z",
     "start_time": "2019-12-11T09:58:47.056295Z"
    }
   },
   "outputs": [
    {
     "data": {
      "text/html": [
       "<div>\n",
       "<style scoped>\n",
       "    .dataframe tbody tr th:only-of-type {\n",
       "        vertical-align: middle;\n",
       "    }\n",
       "\n",
       "    .dataframe tbody tr th {\n",
       "        vertical-align: top;\n",
       "    }\n",
       "\n",
       "    .dataframe thead th {\n",
       "        text-align: right;\n",
       "    }\n",
       "</style>\n",
       "<table border=\"1\" class=\"dataframe\">\n",
       "  <thead>\n",
       "    <tr style=\"text-align: right;\">\n",
       "      <th></th>\n",
       "      <th>ID</th>\n",
       "      <th>age</th>\n",
       "      <th>balance</th>\n",
       "      <th>campaign</th>\n",
       "      <th>contact</th>\n",
       "      <th>day</th>\n",
       "      <th>default</th>\n",
       "      <th>duration</th>\n",
       "      <th>education</th>\n",
       "      <th>housing</th>\n",
       "      <th>...</th>\n",
       "      <th>y</th>\n",
       "      <th>count_day_month_campaign</th>\n",
       "      <th>count_day_month_contact</th>\n",
       "      <th>count_day_month_default</th>\n",
       "      <th>count_day_month_education</th>\n",
       "      <th>count_day_month_housing</th>\n",
       "      <th>count_day_month_job</th>\n",
       "      <th>count_day_month_loan</th>\n",
       "      <th>count_day_month_marital</th>\n",
       "      <th>count_day_month_poutcome</th>\n",
       "    </tr>\n",
       "  </thead>\n",
       "  <tbody>\n",
       "    <tr>\n",
       "      <th>0</th>\n",
       "      <td>1</td>\n",
       "      <td>43</td>\n",
       "      <td>291</td>\n",
       "      <td>2</td>\n",
       "      <td>unknown</td>\n",
       "      <td>9</td>\n",
       "      <td>no</td>\n",
       "      <td>150</td>\n",
       "      <td>tertiary</td>\n",
       "      <td>yes</td>\n",
       "      <td>...</td>\n",
       "      <td>0.0</td>\n",
       "      <td>112</td>\n",
       "      <td>338</td>\n",
       "      <td>326</td>\n",
       "      <td>67</td>\n",
       "      <td>303</td>\n",
       "      <td>46</td>\n",
       "      <td>292</td>\n",
       "      <td>180</td>\n",
       "      <td>338</td>\n",
       "    </tr>\n",
       "    <tr>\n",
       "      <th>1</th>\n",
       "      <td>2</td>\n",
       "      <td>42</td>\n",
       "      <td>5076</td>\n",
       "      <td>1</td>\n",
       "      <td>cellular</td>\n",
       "      <td>7</td>\n",
       "      <td>no</td>\n",
       "      <td>99</td>\n",
       "      <td>primary</td>\n",
       "      <td>yes</td>\n",
       "      <td>...</td>\n",
       "      <td>0.0</td>\n",
       "      <td>41</td>\n",
       "      <td>68</td>\n",
       "      <td>71</td>\n",
       "      <td>9</td>\n",
       "      <td>54</td>\n",
       "      <td>12</td>\n",
       "      <td>62</td>\n",
       "      <td>9</td>\n",
       "      <td>7</td>\n",
       "    </tr>\n",
       "    <tr>\n",
       "      <th>2</th>\n",
       "      <td>3</td>\n",
       "      <td>47</td>\n",
       "      <td>104</td>\n",
       "      <td>2</td>\n",
       "      <td>cellular</td>\n",
       "      <td>14</td>\n",
       "      <td>no</td>\n",
       "      <td>77</td>\n",
       "      <td>secondary</td>\n",
       "      <td>yes</td>\n",
       "      <td>...</td>\n",
       "      <td>0.0</td>\n",
       "      <td>78</td>\n",
       "      <td>204</td>\n",
       "      <td>230</td>\n",
       "      <td>147</td>\n",
       "      <td>138</td>\n",
       "      <td>30</td>\n",
       "      <td>64</td>\n",
       "      <td>166</td>\n",
       "      <td>235</td>\n",
       "    </tr>\n",
       "    <tr>\n",
       "      <th>3</th>\n",
       "      <td>4</td>\n",
       "      <td>28</td>\n",
       "      <td>-994</td>\n",
       "      <td>2</td>\n",
       "      <td>cellular</td>\n",
       "      <td>18</td>\n",
       "      <td>no</td>\n",
       "      <td>174</td>\n",
       "      <td>secondary</td>\n",
       "      <td>yes</td>\n",
       "      <td>...</td>\n",
       "      <td>0.0</td>\n",
       "      <td>49</td>\n",
       "      <td>194</td>\n",
       "      <td>194</td>\n",
       "      <td>110</td>\n",
       "      <td>130</td>\n",
       "      <td>60</td>\n",
       "      <td>72</td>\n",
       "      <td>53</td>\n",
       "      <td>206</td>\n",
       "    </tr>\n",
       "    <tr>\n",
       "      <th>4</th>\n",
       "      <td>5</td>\n",
       "      <td>42</td>\n",
       "      <td>2974</td>\n",
       "      <td>5</td>\n",
       "      <td>unknown</td>\n",
       "      <td>21</td>\n",
       "      <td>no</td>\n",
       "      <td>187</td>\n",
       "      <td>secondary</td>\n",
       "      <td>yes</td>\n",
       "      <td>...</td>\n",
       "      <td>0.0</td>\n",
       "      <td>15</td>\n",
       "      <td>357</td>\n",
       "      <td>361</td>\n",
       "      <td>213</td>\n",
       "      <td>326</td>\n",
       "      <td>63</td>\n",
       "      <td>313</td>\n",
       "      <td>24</td>\n",
       "      <td>358</td>\n",
       "    </tr>\n",
       "  </tbody>\n",
       "</table>\n",
       "<p>5 rows × 27 columns</p>\n",
       "</div>"
      ],
      "text/plain": [
       "   ID  age  balance  campaign   contact  day default  duration  education  \\\n",
       "0   1   43      291         2   unknown    9      no       150   tertiary   \n",
       "1   2   42     5076         1  cellular    7      no        99    primary   \n",
       "2   3   47      104         2  cellular   14      no        77  secondary   \n",
       "3   4   28     -994         2  cellular   18      no       174  secondary   \n",
       "4   5   42     2974         5   unknown   21      no       187  secondary   \n",
       "\n",
       "  housing  ...    y count_day_month_campaign count_day_month_contact  \\\n",
       "0     yes  ...  0.0                      112                     338   \n",
       "1     yes  ...  0.0                       41                      68   \n",
       "2     yes  ...  0.0                       78                     204   \n",
       "3     yes  ...  0.0                       49                     194   \n",
       "4     yes  ...  0.0                       15                     357   \n",
       "\n",
       "  count_day_month_default  count_day_month_education count_day_month_housing  \\\n",
       "0                     326                         67                     303   \n",
       "1                      71                          9                      54   \n",
       "2                     230                        147                     138   \n",
       "3                     194                        110                     130   \n",
       "4                     361                        213                     326   \n",
       "\n",
       "   count_day_month_job  count_day_month_loan  count_day_month_marital  \\\n",
       "0                   46                   292                      180   \n",
       "1                   12                    62                        9   \n",
       "2                   30                    64                      166   \n",
       "3                   60                    72                       53   \n",
       "4                   63                   313                       24   \n",
       "\n",
       "   count_day_month_poutcome  \n",
       "0                       338  \n",
       "1                         7  \n",
       "2                       235  \n",
       "3                       206  \n",
       "4                       358  \n",
       "\n",
       "[5 rows x 27 columns]"
      ]
     },
     "execution_count": 121,
     "metadata": {},
     "output_type": "execute_result"
    }
   ],
   "source": [
    "ll=[]\n",
    "# 离散特征和时间一起统计\n",
    "for f in['campaign', 'contact','default','education','housing','job','loan','marital','poutcome']:\n",
    "    data,_=feature_count(data,['day','month',f])\n",
    "    ll.append(_)\n",
    "data.head()"
   ]
  },
  {
   "cell_type": "markdown",
   "metadata": {},
   "source": [
    "### 特征交叉\n",
    "\n",
    "首先按照一个离散特征分组,计算一个离散特征和其他所有特征的关系,如果其他特征是离散特征,计算count和nunique,如果是连续特征,计算mean等"
   ]
  },
  {
   "cell_type": "code",
   "execution_count": 122,
   "metadata": {
    "ExecuteTime": {
     "end_time": "2019-12-11T09:58:59.689505Z",
     "start_time": "2019-12-11T09:58:59.675542Z"
    },
    "collapsed": true
   },
   "outputs": [],
   "source": [
    "def get_new_columns(name,aggs):\n",
    "    l=[]\n",
    "    for k in aggs.keys():\n",
    "        for agg in aggs[k]:\n",
    "            if str(type(agg))==\"<class 'function'>\":\n",
    "                l.append(name + '_' + k + '_' + 'other')\n",
    "            else:\n",
    "                l.append(name + '_' + k + '_' + agg)\n",
    "    return l"
   ]
  },
  {
   "cell_type": "code",
   "execution_count": 123,
   "metadata": {
    "ExecuteTime": {
     "end_time": "2019-12-11T09:59:40.365709Z",
     "start_time": "2019-12-11T09:59:05.634602Z"
    }
   },
   "outputs": [
    {
     "data": {
      "application/vnd.jupyter.widget-view+json": {
       "model_id": "0071d1b1cefb4898913b7e246d5306ad",
       "version_major": 2,
       "version_minor": 0
      },
      "text/plain": [
       "HBox(children=(IntProgress(value=0, max=10), HTML(value='')))"
      ]
     },
     "metadata": {},
     "output_type": "display_data"
    },
    {
     "name": "stdout",
     "output_type": "stream",
     "text": [
      "\n"
     ]
    },
    {
     "data": {
      "text/html": [
       "<div>\n",
       "<style scoped>\n",
       "    .dataframe tbody tr th:only-of-type {\n",
       "        vertical-align: middle;\n",
       "    }\n",
       "\n",
       "    .dataframe tbody tr th {\n",
       "        vertical-align: top;\n",
       "    }\n",
       "\n",
       "    .dataframe thead th {\n",
       "        text-align: right;\n",
       "    }\n",
       "</style>\n",
       "<table border=\"1\" class=\"dataframe\">\n",
       "  <thead>\n",
       "    <tr style=\"text-align: right;\">\n",
       "      <th></th>\n",
       "      <th>ID</th>\n",
       "      <th>age</th>\n",
       "      <th>balance</th>\n",
       "      <th>campaign</th>\n",
       "      <th>contact</th>\n",
       "      <th>day</th>\n",
       "      <th>default</th>\n",
       "      <th>duration</th>\n",
       "      <th>education</th>\n",
       "      <th>housing</th>\n",
       "      <th>...</th>\n",
       "      <th>poutcome_balance_min</th>\n",
       "      <th>poutcome_balance_std</th>\n",
       "      <th>poutcome_duration_mean</th>\n",
       "      <th>poutcome_duration_max</th>\n",
       "      <th>poutcome_duration_min</th>\n",
       "      <th>poutcome_duration_std</th>\n",
       "      <th>poutcome_previous_mean</th>\n",
       "      <th>poutcome_previous_max</th>\n",
       "      <th>poutcome_previous_min</th>\n",
       "      <th>poutcome_previous_std</th>\n",
       "    </tr>\n",
       "  </thead>\n",
       "  <tbody>\n",
       "    <tr>\n",
       "      <th>0</th>\n",
       "      <td>1</td>\n",
       "      <td>43</td>\n",
       "      <td>291</td>\n",
       "      <td>2</td>\n",
       "      <td>unknown</td>\n",
       "      <td>9</td>\n",
       "      <td>no</td>\n",
       "      <td>150</td>\n",
       "      <td>tertiary</td>\n",
       "      <td>yes</td>\n",
       "      <td>...</td>\n",
       "      <td>-8019</td>\n",
       "      <td>3110.872628</td>\n",
       "      <td>257.193138</td>\n",
       "      <td>3881</td>\n",
       "      <td>0</td>\n",
       "      <td>260.008036</td>\n",
       "      <td>0.000575</td>\n",
       "      <td>7</td>\n",
       "      <td>0</td>\n",
       "      <td>0.052992</td>\n",
       "    </tr>\n",
       "    <tr>\n",
       "      <th>1</th>\n",
       "      <td>2</td>\n",
       "      <td>42</td>\n",
       "      <td>5076</td>\n",
       "      <td>1</td>\n",
       "      <td>cellular</td>\n",
       "      <td>7</td>\n",
       "      <td>no</td>\n",
       "      <td>99</td>\n",
       "      <td>primary</td>\n",
       "      <td>yes</td>\n",
       "      <td>...</td>\n",
       "      <td>-1882</td>\n",
       "      <td>3520.820623</td>\n",
       "      <td>256.676610</td>\n",
       "      <td>2053</td>\n",
       "      <td>4</td>\n",
       "      <td>241.741093</td>\n",
       "      <td>4.019661</td>\n",
       "      <td>275</td>\n",
       "      <td>1</td>\n",
       "      <td>8.374317</td>\n",
       "    </tr>\n",
       "    <tr>\n",
       "      <th>2</th>\n",
       "      <td>3</td>\n",
       "      <td>47</td>\n",
       "      <td>104</td>\n",
       "      <td>2</td>\n",
       "      <td>cellular</td>\n",
       "      <td>14</td>\n",
       "      <td>no</td>\n",
       "      <td>77</td>\n",
       "      <td>secondary</td>\n",
       "      <td>yes</td>\n",
       "      <td>...</td>\n",
       "      <td>-8019</td>\n",
       "      <td>3110.872628</td>\n",
       "      <td>257.193138</td>\n",
       "      <td>3881</td>\n",
       "      <td>0</td>\n",
       "      <td>260.008036</td>\n",
       "      <td>0.000575</td>\n",
       "      <td>7</td>\n",
       "      <td>0</td>\n",
       "      <td>0.052992</td>\n",
       "    </tr>\n",
       "    <tr>\n",
       "      <th>3</th>\n",
       "      <td>4</td>\n",
       "      <td>28</td>\n",
       "      <td>-994</td>\n",
       "      <td>2</td>\n",
       "      <td>cellular</td>\n",
       "      <td>18</td>\n",
       "      <td>no</td>\n",
       "      <td>174</td>\n",
       "      <td>secondary</td>\n",
       "      <td>yes</td>\n",
       "      <td>...</td>\n",
       "      <td>-8019</td>\n",
       "      <td>3110.872628</td>\n",
       "      <td>257.193138</td>\n",
       "      <td>3881</td>\n",
       "      <td>0</td>\n",
       "      <td>260.008036</td>\n",
       "      <td>0.000575</td>\n",
       "      <td>7</td>\n",
       "      <td>0</td>\n",
       "      <td>0.052992</td>\n",
       "    </tr>\n",
       "    <tr>\n",
       "      <th>4</th>\n",
       "      <td>5</td>\n",
       "      <td>42</td>\n",
       "      <td>2974</td>\n",
       "      <td>5</td>\n",
       "      <td>unknown</td>\n",
       "      <td>21</td>\n",
       "      <td>no</td>\n",
       "      <td>187</td>\n",
       "      <td>secondary</td>\n",
       "      <td>yes</td>\n",
       "      <td>...</td>\n",
       "      <td>-8019</td>\n",
       "      <td>3110.872628</td>\n",
       "      <td>257.193138</td>\n",
       "      <td>3881</td>\n",
       "      <td>0</td>\n",
       "      <td>260.008036</td>\n",
       "      <td>0.000575</td>\n",
       "      <td>7</td>\n",
       "      <td>0</td>\n",
       "      <td>0.052992</td>\n",
       "    </tr>\n",
       "  </tbody>\n",
       "</table>\n",
       "<p>5 rows × 447 columns</p>\n",
       "</div>"
      ],
      "text/plain": [
       "   ID  age  balance  campaign   contact  day default  duration  education  \\\n",
       "0   1   43      291         2   unknown    9      no       150   tertiary   \n",
       "1   2   42     5076         1  cellular    7      no        99    primary   \n",
       "2   3   47      104         2  cellular   14      no        77  secondary   \n",
       "3   4   28     -994         2  cellular   18      no       174  secondary   \n",
       "4   5   42     2974         5   unknown   21      no       187  secondary   \n",
       "\n",
       "  housing  ... poutcome_balance_min poutcome_balance_std  \\\n",
       "0     yes  ...                -8019          3110.872628   \n",
       "1     yes  ...                -1882          3520.820623   \n",
       "2     yes  ...                -8019          3110.872628   \n",
       "3     yes  ...                -8019          3110.872628   \n",
       "4     yes  ...                -8019          3110.872628   \n",
       "\n",
       "  poutcome_duration_mean poutcome_duration_max  poutcome_duration_min  \\\n",
       "0             257.193138                  3881                      0   \n",
       "1             256.676610                  2053                      4   \n",
       "2             257.193138                  3881                      0   \n",
       "3             257.193138                  3881                      0   \n",
       "4             257.193138                  3881                      0   \n",
       "\n",
       "  poutcome_duration_std  poutcome_previous_mean  poutcome_previous_max  \\\n",
       "0            260.008036                0.000575                      7   \n",
       "1            241.741093                4.019661                    275   \n",
       "2            260.008036                0.000575                      7   \n",
       "3            260.008036                0.000575                      7   \n",
       "4            260.008036                0.000575                      7   \n",
       "\n",
       "   poutcome_previous_min  poutcome_previous_std  \n",
       "0                      0               0.052992  \n",
       "1                      1               8.374317  \n",
       "2                      0               0.052992  \n",
       "3                      0               0.052992  \n",
       "4                      0               0.052992  \n",
       "\n",
       "[5 rows x 447 columns]"
      ]
     },
     "execution_count": 123,
     "metadata": {},
     "output_type": "execute_result"
    }
   ],
   "source": [
    "for d in tqdm(sparse_feature):\n",
    "    aggs={}\n",
    "    for s in sparse_feature:\n",
    "        aggs[s]=['count','nunique']\n",
    "    for den in dense_feature:\n",
    "        aggs[den]=['mean','max','min','std']\n",
    "    t = aggs.pop(d)\n",
    "    temp=data.groupby(d).agg(aggs).reset_index()\n",
    "    temp.columns=[d]+get_new_columns(d,aggs)\n",
    "    data=pd.merge(data,temp,on=d,how='left')\n",
    "data.head()"
   ]
  },
  {
   "cell_type": "markdown",
   "metadata": {},
   "source": [
    "### One-Hot编码离散值\n"
   ]
  },
  {
   "cell_type": "code",
   "execution_count": 124,
   "metadata": {
    "ExecuteTime": {
     "end_time": "2019-12-11T09:59:51.019212Z",
     "start_time": "2019-12-11T09:59:44.737015Z"
    }
   },
   "outputs": [
    {
     "data": {
      "text/html": [
       "<div>\n",
       "<style scoped>\n",
       "    .dataframe tbody tr th:only-of-type {\n",
       "        vertical-align: middle;\n",
       "    }\n",
       "\n",
       "    .dataframe tbody tr th {\n",
       "        vertical-align: top;\n",
       "    }\n",
       "\n",
       "    .dataframe thead th {\n",
       "        text-align: right;\n",
       "    }\n",
       "</style>\n",
       "<table border=\"1\" class=\"dataframe\">\n",
       "  <thead>\n",
       "    <tr style=\"text-align: right;\">\n",
       "      <th></th>\n",
       "      <th>ID</th>\n",
       "      <th>age</th>\n",
       "      <th>balance</th>\n",
       "      <th>day</th>\n",
       "      <th>duration</th>\n",
       "      <th>pdays</th>\n",
       "      <th>previous</th>\n",
       "      <th>y</th>\n",
       "      <th>count_day_month_campaign</th>\n",
       "      <th>count_day_month_contact</th>\n",
       "      <th>...</th>\n",
       "      <th>month__jun</th>\n",
       "      <th>month__mar</th>\n",
       "      <th>month__may</th>\n",
       "      <th>month__nov</th>\n",
       "      <th>month__oct</th>\n",
       "      <th>month__sep</th>\n",
       "      <th>poutcome__failure</th>\n",
       "      <th>poutcome__other</th>\n",
       "      <th>poutcome__success</th>\n",
       "      <th>poutcome__unknown</th>\n",
       "    </tr>\n",
       "  </thead>\n",
       "  <tbody>\n",
       "    <tr>\n",
       "      <th>0</th>\n",
       "      <td>1</td>\n",
       "      <td>43</td>\n",
       "      <td>291</td>\n",
       "      <td>9</td>\n",
       "      <td>150</td>\n",
       "      <td>-1</td>\n",
       "      <td>0</td>\n",
       "      <td>0.0</td>\n",
       "      <td>112</td>\n",
       "      <td>338</td>\n",
       "      <td>...</td>\n",
       "      <td>0</td>\n",
       "      <td>0</td>\n",
       "      <td>1</td>\n",
       "      <td>0</td>\n",
       "      <td>0</td>\n",
       "      <td>0</td>\n",
       "      <td>0</td>\n",
       "      <td>0</td>\n",
       "      <td>0</td>\n",
       "      <td>1</td>\n",
       "    </tr>\n",
       "    <tr>\n",
       "      <th>1</th>\n",
       "      <td>2</td>\n",
       "      <td>42</td>\n",
       "      <td>5076</td>\n",
       "      <td>7</td>\n",
       "      <td>99</td>\n",
       "      <td>251</td>\n",
       "      <td>2</td>\n",
       "      <td>0.0</td>\n",
       "      <td>41</td>\n",
       "      <td>68</td>\n",
       "      <td>...</td>\n",
       "      <td>0</td>\n",
       "      <td>0</td>\n",
       "      <td>0</td>\n",
       "      <td>0</td>\n",
       "      <td>0</td>\n",
       "      <td>0</td>\n",
       "      <td>0</td>\n",
       "      <td>1</td>\n",
       "      <td>0</td>\n",
       "      <td>0</td>\n",
       "    </tr>\n",
       "    <tr>\n",
       "      <th>2</th>\n",
       "      <td>3</td>\n",
       "      <td>47</td>\n",
       "      <td>104</td>\n",
       "      <td>14</td>\n",
       "      <td>77</td>\n",
       "      <td>-1</td>\n",
       "      <td>0</td>\n",
       "      <td>0.0</td>\n",
       "      <td>78</td>\n",
       "      <td>204</td>\n",
       "      <td>...</td>\n",
       "      <td>0</td>\n",
       "      <td>0</td>\n",
       "      <td>0</td>\n",
       "      <td>0</td>\n",
       "      <td>0</td>\n",
       "      <td>0</td>\n",
       "      <td>0</td>\n",
       "      <td>0</td>\n",
       "      <td>0</td>\n",
       "      <td>1</td>\n",
       "    </tr>\n",
       "    <tr>\n",
       "      <th>3</th>\n",
       "      <td>4</td>\n",
       "      <td>28</td>\n",
       "      <td>-994</td>\n",
       "      <td>18</td>\n",
       "      <td>174</td>\n",
       "      <td>-1</td>\n",
       "      <td>0</td>\n",
       "      <td>0.0</td>\n",
       "      <td>49</td>\n",
       "      <td>194</td>\n",
       "      <td>...</td>\n",
       "      <td>0</td>\n",
       "      <td>0</td>\n",
       "      <td>0</td>\n",
       "      <td>0</td>\n",
       "      <td>0</td>\n",
       "      <td>0</td>\n",
       "      <td>0</td>\n",
       "      <td>0</td>\n",
       "      <td>0</td>\n",
       "      <td>1</td>\n",
       "    </tr>\n",
       "    <tr>\n",
       "      <th>4</th>\n",
       "      <td>5</td>\n",
       "      <td>42</td>\n",
       "      <td>2974</td>\n",
       "      <td>21</td>\n",
       "      <td>187</td>\n",
       "      <td>-1</td>\n",
       "      <td>0</td>\n",
       "      <td>0.0</td>\n",
       "      <td>15</td>\n",
       "      <td>357</td>\n",
       "      <td>...</td>\n",
       "      <td>0</td>\n",
       "      <td>0</td>\n",
       "      <td>1</td>\n",
       "      <td>0</td>\n",
       "      <td>0</td>\n",
       "      <td>0</td>\n",
       "      <td>0</td>\n",
       "      <td>0</td>\n",
       "      <td>0</td>\n",
       "      <td>1</td>\n",
       "    </tr>\n",
       "  </tbody>\n",
       "</table>\n",
       "<p>5 rows × 526 columns</p>\n",
       "</div>"
      ],
      "text/plain": [
       "   ID  age  balance  day  duration  pdays  previous    y  \\\n",
       "0   1   43      291    9       150     -1         0  0.0   \n",
       "1   2   42     5076    7        99    251         2  0.0   \n",
       "2   3   47      104   14        77     -1         0  0.0   \n",
       "3   4   28     -994   18       174     -1         0  0.0   \n",
       "4   5   42     2974   21       187     -1         0  0.0   \n",
       "\n",
       "   count_day_month_campaign  count_day_month_contact  ...  month__jun  \\\n",
       "0                       112                      338  ...           0   \n",
       "1                        41                       68  ...           0   \n",
       "2                        78                      204  ...           0   \n",
       "3                        49                      194  ...           0   \n",
       "4                        15                      357  ...           0   \n",
       "\n",
       "   month__mar  month__may  month__nov  month__oct  month__sep  \\\n",
       "0           0           1           0           0           0   \n",
       "1           0           0           0           0           0   \n",
       "2           0           0           0           0           0   \n",
       "3           0           0           0           0           0   \n",
       "4           0           1           0           0           0   \n",
       "\n",
       "   poutcome__failure  poutcome__other  poutcome__success  poutcome__unknown  \n",
       "0                  0                0                  0                  1  \n",
       "1                  0                1                  0                  0  \n",
       "2                  0                0                  0                  1  \n",
       "3                  0                0                  0                  1  \n",
       "4                  0                0                  0                  1  \n",
       "\n",
       "[5 rows x 526 columns]"
      ]
     },
     "execution_count": 124,
     "metadata": {},
     "output_type": "execute_result"
    }
   ],
   "source": [
    "test = data.copy()\n",
    "for s in ['campaign','contact','default','education','housing','job','loan','marital','month','poutcome']:\n",
    "    test=pd.concat([test,pd.get_dummies(data[s],prefix=s+'_')],axis=1)\n",
    "    test.drop(s,axis=1,inplace=True)\n",
    "test.head()"
   ]
  },
  {
   "cell_type": "markdown",
   "metadata": {},
   "source": [
    "至此，原来的数据集已经从(25317, 18)扩展为(25317, 535)！"
   ]
  },
  {
   "cell_type": "markdown",
   "metadata": {},
   "source": [
    "### 分离训练集和测试集"
   ]
  },
  {
   "cell_type": "code",
   "execution_count": 125,
   "metadata": {
    "ExecuteTime": {
     "end_time": "2019-12-11T09:59:57.540768Z",
     "start_time": "2019-12-11T09:59:57.403138Z"
    }
   },
   "outputs": [],
   "source": [
    "train_set = test[test['y'].notnull()]\n",
    "test_set = test[test['y'].isnull()]\n",
    "y_train = train_set['y']\n",
    "\n",
    "chosen_columns=['age',\n",
    " 'balance',\n",
    " 'day',\n",
    " 'duration',\n",
    " 'pdays',\n",
    " 'previous',\n",
    " 'campaign_contact_count',\n",
    " 'campaign_duration_max',\n",
    " 'campaign_duration_std',\n",
    " 'campaign_age_max',\n",
    " 'campaign_day_std',\n",
    " 'campaign_balance_min',\n",
    " 'campaign_previous_std',\n",
    " 'contact_campaign_count',\n",
    " 'contact_duration_max',\n",
    " 'education_campaign_count',\n",
    " 'education_duration_mean',\n",
    " 'housing_campaign_count',\n",
    " 'job_campaign_count',\n",
    " 'job_duration_mean',\n",
    " 'job_duration_max',\n",
    " 'job_age_mean',\n",
    " 'job_age_max',\n",
    " 'job_age_std',\n",
    " 'job_day_mean',\n",
    " 'job_day_std',\n",
    " 'job_pdays_max',\n",
    " 'job_previous_mean',\n",
    " 'loan_campaign_count',\n",
    " 'marital_campaign_count',\n",
    " 'month_campaign_count',\n",
    " 'month_campaign_nunique',\n",
    " 'month_duration_mean',\n",
    " 'month_age_mean',\n",
    " 'month_age_max',\n",
    " 'month_day_mean',\n",
    " 'month_day_std',\n",
    " 'month_pdays_mean',\n",
    " 'month_pdays_max',\n",
    " 'month_pdays_std',\n",
    " 'month_balance_mean',\n",
    " 'month_previous_max',\n",
    " 'month_previous_std',\n",
    " 'poutcome_campaign_count',\n",
    " 'count_day_month_campaign',\n",
    " 'count_day_month_contact',\n",
    " 'count_day_month_default',\n",
    " 'count_day_month_education',\n",
    " 'count_day_month_housing',\n",
    " 'count_day_month_job',\n",
    " 'count_day_month_loan',\n",
    " 'count_day_month_marital',\n",
    " 'count_day_month_poutcome']\n",
    "\n",
    "x_train = train_set[chosen_columns]"
   ]
  },
  {
   "cell_type": "markdown",
   "metadata": {},
   "source": [
    "### 网格搜索调参Xgboost\n",
    "\n",
    "最终调参结果下代码所示"
   ]
  },
  {
   "cell_type": "code",
   "execution_count": null,
   "metadata": {
    "collapsed": true
   },
   "outputs": [],
   "source": [
    "xgb1 = XGBClassifier(learning_rate=0.01,\n",
    "                     n_estimators=1489,\n",
    "                     max_depth=5,\n",
    "                     min_child_weight=6,\n",
    "                     gamma=0,\n",
    "                     subsample=0.8,\n",
    "                     colsample_bytree=0.85,\n",
    "                     objective='binary:logistic',\n",
    "                     nthread=4,\n",
    "                     scale_pos_weight=1,\n",
    "                     seed=27)\n",
    "xgb1.fit(train_set[chosen_columns], y_train)"
   ]
  },
  {
   "cell_type": "markdown",
   "metadata": {},
   "source": [
    "### 提交结果\n",
    "![最终结果](final_result.jpg)"
   ]
  },
  {
   "cell_type": "markdown",
   "metadata": {},
   "source": [
    "## 总结\n",
    "\n",
    "花了两周时间准备了这个比赛，主要的收获有：\n",
    "+ 学习使用Sklearn中各个模型\n",
    "+ 数据的可视化分析\n",
    "+ 特征工程\n",
    "+ 集成学习Xgboost\n",
    "+ 网格搜索调参\n",
    "\n",
    "比赛期间共提交比赛结果22次，下图为比赛分数走势图"
   ]
  },
  {
   "cell_type": "code",
   "execution_count": 98,
   "metadata": {
    "ExecuteTime": {
     "end_time": "2019-12-11T09:43:41.439066Z",
     "start_time": "2019-12-11T09:43:41.106955Z"
    }
   },
   "outputs": [
    {
     "data": {
      "text/plain": [
       "<matplotlib.axes._subplots.AxesSubplot at 0x1b931dc4048>"
      ]
     },
     "execution_count": 98,
     "metadata": {},
     "output_type": "execute_result"
    },
    {
     "data": {
      "image/png": "[encoded data removed]",
      "text/plain": [
       "<Figure size 432x288 with 1 Axes>"
      ]
     },
     "metadata": {},
     "output_type": "display_data"
    }
   ],
   "source": [
    "rank = [\n",
    "    0.70387718, 0.71620665, 0.91942956, 0.91160398, 0.90830749, 0.88349596,\n",
    "    0.92724778, 0.92724778, 0.93098124, 0.93059653, 0.93274964, 0.93473540,\n",
    "    0.93473540, 0.93507051, 0.88280224, 0.89704597, 0.93496533, 0.93507051,\n",
    "    0.93878203, 0.92839708, 0.93927500, 0.93945472\n",
    "]\n",
    "rank = pd.DataFrame(rank)\n",
    "sns.lineplot(data=rank)"
   ]
  }
 ],
 "metadata": {
  "kernelspec": {
   "display_name": "Python 3",
   "language": "python",
   "name": "python3"
  },
  "language_info": {
   "codemirror_mode": {
    "name": "ipython",
    "version": 3
   },
   "file_extension": ".py",
   "mimetype": "text/x-python",
   "name": "python",
   "nbconvert_exporter": "python",
   "pygments_lexer": "ipython3",
   "version": "3.6.2"
  },
  "toc": {
   "base_numbering": 1,
   "nav_menu": {},
   "number_sections": true,
   "sideBar": true,
   "skip_h1_title": false,
   "title_cell": "Table of Contents",
   "title_sidebar": "Contents",
   "toc_cell": false,
   "toc_position": {
    "height": "calc(100% - 180px)",
    "left": "10px",
    "top": "150px",
    "width": "128px"
   },
   "toc_section_display": true,
   "toc_window_display": true
  },
  "varInspector": {
   "cols": {
    "lenName": 16,
    "lenType": 16,
    "lenVar": 40
   },
   "kernels_config": {
    "python": {
     "delete_cmd_postfix": "",
     "delete_cmd_prefix": "del ",
     "library": "var_list.py",
     "varRefreshCmd": "print(var_dic_list())"
    },
    "r": {
     "delete_cmd_postfix": ") ",
     "delete_cmd_prefix": "rm(",
     "library": "var_list.r",
     "varRefreshCmd": "cat(var_dic_list()) "
    }
   },
   "oldHeight": 214.666666,
   "position": {
    "height": "236px",
    "left": "654px",
    "right": "20px",
    "top": "67px",
    "width": "273px"
   },
   "types_to_exclude": [
    "module",
    "function",
    "builtin_function_or_method",
    "instance",
    "_Feature"
   ],
   "varInspector_section_display": "block",
   "window_display": false
  }
 },
 "nbformat": 4,
 "nbformat_minor": 2
}
