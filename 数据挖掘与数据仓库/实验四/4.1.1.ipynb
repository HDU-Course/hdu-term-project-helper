{
 "cells": [
  {
   "cell_type": "code",
   "execution_count": 23,
   "metadata": {
    "ExecuteTime": {
     "end_time": "2019-12-05T16:11:05.680026Z",
     "start_time": "2019-12-05T16:11:05.663436Z"
    },
    "collapsed": true
   },
   "outputs": [],
   "source": [
    "from sklearn.datasets import load_digits\n",
    "from sklearn.cluster import KMeans\n",
    "import numpy as np\n",
    "import matplotlib.pyplot as plt \n",
    "%matplotlib inline"
   ]
  },
  {
   "cell_type": "code",
   "execution_count": 25,
   "metadata": {
    "ExecuteTime": {
     "end_time": "2019-12-05T16:11:22.270801Z",
     "start_time": "2019-12-05T16:11:21.950672Z"
    }
   },
   "outputs": [
    {
     "data": {
      "text/plain": [
       "Text(0.5, 1.0, '0')"
      ]
     },
     "execution_count": 25,
     "metadata": {},
     "output_type": "execute_result"
    },
    {
     "data": {
      "image/png": "[encoded data removed]",
      "text/plain": [
       "<Figure size 432x288 with 1 Axes>"
      ]
     },
     "metadata": {},
     "output_type": "display_data"
    }
   ],
   "source": [
    "digits = load_digits()\n",
    "data = list(zip(digits.images,digits.target))\n",
    "image,label = data[0]\n",
    "plt.imshow(image,cmap=plt.cm.gray_r, interpolation='nearest')\n",
    "plt.title(label)"
   ]
  },
  {
   "cell_type": "code",
   "execution_count": 28,
   "metadata": {
    "ExecuteTime": {
     "end_time": "2019-12-05T16:21:33.967399Z",
     "start_time": "2019-12-05T16:21:33.581377Z"
    }
   },
   "outputs": [
    {
     "data": {
      "text/plain": [
       "KMeans(algorithm='auto', copy_x=True, init='k-means++', max_iter=300,\n",
       "       n_clusters=9, n_init=10, n_jobs=None, precompute_distances='auto',\n",
       "       random_state=None, tol=0.0001, verbose=0)"
      ]
     },
     "execution_count": 28,
     "metadata": {},
     "output_type": "execute_result"
    }
   ],
   "source": [
    "from sklearn.preprocessing import scale\n",
    "\n",
    "data = scale(digits.data) \n",
    "model = KMeans(n_clusters=k)\n",
    "model.fit(data)"
   ]
  },
  {
   "cell_type": "code",
   "execution_count": 37,
   "metadata": {
    "ExecuteTime": {
     "end_time": "2019-12-05T16:27:29.648304Z",
     "start_time": "2019-12-05T16:27:29.630735Z"
    }
   },
   "outputs": [
    {
     "data": {
      "text/plain": [
       "array([[ 0.00000000e+00, -3.35016487e-01, -8.44109685e-01,\n",
       "        -1.32099156e-01, -5.14494333e-01, -7.31617376e-01,\n",
       "        -3.89893230e-01, -1.25022923e-01, -5.90775571e-02,\n",
       "        -6.05093946e-01, -5.78428373e-01,  6.47699369e-01,\n",
       "        -8.69728355e-01, -1.18584066e+00, -4.99666463e-01,\n",
       "        -1.30433381e-01, -4.46250733e-02, -5.07884875e-01,\n",
       "         4.69005210e-01,  4.11366289e-01, -1.01348746e+00,\n",
       "        -1.22007467e+00, -5.47119496e-01, -1.14221844e-01,\n",
       "        -3.33797263e-02, -2.70392781e-02,  7.34389065e-01,\n",
       "        -1.36855035e-01, -9.75310223e-01, -9.32485936e-01,\n",
       "        -5.99078437e-01, -4.72323823e-02,  0.00000000e+00,\n",
       "         3.39863794e-01,  1.10235958e+00,  6.10185670e-01,\n",
       "         3.32630651e-01,  3.02004004e-01, -3.33921132e-02,\n",
       "         0.00000000e+00, -6.13436689e-02,  9.72415283e-02,\n",
       "         1.16644241e+00,  5.13202166e-01, -3.81368664e-01,\n",
       "         3.50243131e-01,  1.33113216e+00,  6.44406637e-01,\n",
       "        -3.54332626e-02, -2.96559620e-01,  4.81721543e-01,\n",
       "         5.67652157e-01, -7.74079044e-01,  4.20968075e-01,\n",
       "         1.43677474e+00,  2.87113139e-01, -2.35964589e-02,\n",
       "        -2.99081347e-01, -7.98588691e-01, -2.86699246e-01,\n",
       "         6.69176695e-01,  1.06550601e+00,  5.93389956e-01,\n",
       "        -1.63506213e-01],\n",
       "       [ 0.00000000e+00,  1.49764117e-02,  4.51466948e-01,\n",
       "         3.33629801e-01,  2.30330650e-01,  1.28667551e-01,\n",
       "        -2.16631050e-01, -1.20420381e-01,  1.69336864e-02,\n",
       "         3.89570965e-01,  5.85134039e-01, -7.24058339e-01,\n",
       "        -4.99402271e-02,  4.37517733e-01, -9.42892645e-02,\n",
       "        -1.21782858e-01, -6.34762379e-03,  2.24255805e-01,\n",
       "        -7.65297054e-02, -4.89570437e-01,  2.66326495e-01,\n",
       "         3.81417174e-01, -1.15998650e-01, -1.14221844e-01,\n",
       "        -3.33797263e-02, -2.92703784e-01, -3.17394457e-01,\n",
       "         3.33099969e-01,  5.89266263e-01,  3.71936314e-01,\n",
       "        -2.00841193e-01, -4.72323823e-02,  0.00000000e+00,\n",
       "        -5.81829234e-01, -8.08349832e-01, -5.45022215e-01,\n",
       "        -2.85010310e-01,  5.31595945e-01,  1.95724072e-01,\n",
       "         0.00000000e+00, -6.13436689e-02, -4.27203608e-01,\n",
       "        -7.58893114e-01, -9.27511334e-01, -8.51510437e-01,\n",
       "         6.11504654e-01,  6.98285191e-01, -5.76727582e-02,\n",
       "        -3.54332626e-02,  5.71634987e-02,  3.23912549e-02,\n",
       "        -7.25714347e-01, -5.98128901e-01,  6.78130067e-01,\n",
       "         4.38299030e-01, -1.39456387e-01, -2.35964589e-02,\n",
       "        -4.61195955e-02,  4.04369090e-01,  4.42946394e-01,\n",
       "         5.07065082e-01,  4.27185388e-01, -7.37957739e-02,\n",
       "        -1.72906135e-01],\n",
       "       [ 0.00000000e+00, -2.60802406e-01, -1.21970205e-01,\n",
       "         2.42379860e-01,  4.71773266e-01,  8.49855327e-01,\n",
       "         8.43947559e-01,  1.16035224e-01, -5.90775571e-02,\n",
       "        -3.81764249e-01,  5.89709162e-02, -9.15456795e-02,\n",
       "        -4.83707685e-02,  7.05051188e-01,  8.68855563e-01,\n",
       "        -6.65387376e-02, -4.46250733e-02, -3.95506883e-01,\n",
       "        -6.74238119e-01, -7.73646216e-01, -2.62556163e-03,\n",
       "         6.96276449e-01,  3.54030225e-01, -9.22927142e-02,\n",
       "        -3.33797263e-02, -3.54108060e-01, -5.53736255e-01,\n",
       "        -2.85982019e-01,  4.82430297e-01,  7.44619451e-01,\n",
       "         5.67342749e-01, -4.72323823e-02,  0.00000000e+00,\n",
       "        -1.68030786e-01,  1.87974022e-01,  6.81314899e-01,\n",
       "         7.42622474e-01,  2.88546289e-01,  2.60848324e-01,\n",
       "         0.00000000e+00, -6.13436689e-02, -1.50666673e-01,\n",
       "        -2.50343167e-01,  6.75317587e-01,  5.60976365e-01,\n",
       "        -7.15329383e-01, -6.69467393e-01, -8.87416172e-02,\n",
       "        -3.54332626e-02, -3.67772051e-01, -8.08063266e-01,\n",
       "         5.56480173e-01, -4.89406317e-01, -1.30430165e+00,\n",
       "        -7.53525557e-01, -2.09785127e-01, -2.35964589e-02,\n",
       "        -2.32167853e-01,  4.14840060e-02,  5.43928351e-02,\n",
       "        -1.73230096e+00, -1.09530221e+00, -5.05669803e-01,\n",
       "        -1.96007519e-01],\n",
       "       [ 0.00000000e+00,  2.77168380e-01,  4.00892484e-01,\n",
       "         3.78062388e-01, -2.49391139e-01, -4.23929040e-01,\n",
       "        -3.64516840e-01, -1.25022923e-01,  1.36313308e-01,\n",
       "         3.85918811e-01,  1.46793000e-01,  2.83659012e-01,\n",
       "         5.19612533e-01, -1.47677962e-01, -3.22488840e-01,\n",
       "        -1.30433381e-01,  1.52163287e-01,  9.17095475e-02,\n",
       "        -3.08644069e-01,  3.78796853e-01,  9.29123030e-01,\n",
       "        -1.17275104e-01, -3.78439982e-01, -1.14221844e-01,\n",
       "         5.86193046e-02, -5.05237429e-01, -6.37623713e-01,\n",
       "         4.39280312e-01,  6.29800476e-01, -6.31573167e-01,\n",
       "        -5.71465288e-01, -4.72323823e-02,  0.00000000e+00,\n",
       "        -5.57762695e-01, -3.40330613e-01,  7.33554241e-01,\n",
       "         2.36673259e-01, -1.18985603e+00, -8.09683093e-01,\n",
       "         0.00000000e+00, -6.13436689e-02, -2.81233054e-01,\n",
       "         2.94559287e-01,  8.21043491e-01,  2.91099492e-01,\n",
       "        -8.73332032e-01, -6.75707358e-01, -6.87755866e-02,\n",
       "         9.64005469e-03,  2.85247124e-01,  6.09228202e-01,\n",
       "         5.35488457e-01,  3.82701260e-01, -1.81249943e-01,\n",
       "        -1.58663324e-01, -1.44328962e-01,  1.06473592e-01,\n",
       "         2.78919874e-01,  3.83750529e-01,  2.77028167e-01,\n",
       "         2.04739354e-01,  6.39183476e-02,  1.74675011e-01,\n",
       "        -1.36624208e-01],\n",
       "       [ 0.00000000e+00, -3.35016487e-01, -1.06905785e+00,\n",
       "        -1.63360838e+00,  1.41500857e-02,  2.30968111e-02,\n",
       "        -7.50977211e-03, -1.05891324e-01, -5.90775571e-02,\n",
       "        -6.19041604e-01, -1.46968914e+00, -3.17458983e-02,\n",
       "         1.10882778e-01, -3.87110992e-01,  6.31377842e-03,\n",
       "        -9.68725580e-02, -4.46250733e-02, -4.92346189e-01,\n",
       "        -9.24891670e-02,  9.12412640e-01,  6.44784731e-02,\n",
       "         7.55870585e-03,  3.94868109e-01,  8.48807300e-02,\n",
       "         8.56348931e-02,  5.02888810e-01,  6.78223892e-01,\n",
       "        -1.13343498e-01, -1.47512728e-01,  5.84687154e-01,\n",
       "         5.30754259e-01,  3.69705849e-02,  0.00000000e+00,\n",
       "         1.11935049e+00,  6.78344989e-01, -7.60451689e-02,\n",
       "         3.63918113e-01,  6.98792052e-01,  2.84866631e-01,\n",
       "         0.00000000e+00,  3.76095113e-01,  1.07279768e+00,\n",
       "         3.13804791e-01,  3.61420417e-01,  9.75674518e-01,\n",
       "         4.72097901e-01, -4.56414152e-01, -8.87416172e-02,\n",
       "         1.58930513e-01,  6.24314686e-02, -8.79562456e-01,\n",
       "        -6.15789437e-01,  7.77922165e-01, -2.60715593e-01,\n",
       "        -6.27528515e-01, -2.09785127e-01, -2.35964589e-02,\n",
       "        -2.82087444e-01, -1.06215851e+00, -1.55195753e+00,\n",
       "         1.01447531e-01, -2.12937583e-01, -3.29061857e-01,\n",
       "        -1.96007519e-01],\n",
       "       [ 0.00000000e+00, -2.72897659e-01,  4.04328080e-01,\n",
       "         4.66389528e-01, -1.02265331e+00, -8.34184177e-01,\n",
       "        -4.09723921e-01, -1.25022923e-01, -5.90775571e-02,\n",
       "        -6.86110195e-02,  1.06171268e-01,  2.88537401e-01,\n",
       "        -1.64471706e-01, -6.83094836e-01, -4.91421184e-01,\n",
       "        -1.30433381e-01, -4.46250733e-02, -6.97689856e-02,\n",
       "        -1.51325486e-01,  2.17332391e-01,  2.44199929e-01,\n",
       "        -4.05218284e-01, -4.62369938e-01, -1.14221844e-01,\n",
       "        -3.33797263e-02, -3.91090038e-01, -6.58638359e-01,\n",
       "        -3.24056958e-01,  5.99432677e-02, -3.93811792e-01,\n",
       "        -5.48640759e-01, -4.72323823e-02,  0.00000000e+00,\n",
       "        -6.11652790e-01, -9.25255258e-01, -5.32883381e-01,\n",
       "         3.71795061e-01, -6.78726354e-01, -7.94814642e-01,\n",
       "         0.00000000e+00, -6.13436689e-02, -5.21834537e-01,\n",
       "        -9.01993818e-01, -1.36040655e-01,  8.53635305e-01,\n",
       "        -5.98095238e-01, -6.68153696e-01,  2.93339637e-03,\n",
       "        -3.54332626e-02, -3.63233651e-01, -1.62222020e-01,\n",
       "         7.10801636e-01,  8.19593290e-01,  3.41392025e-01,\n",
       "         1.12411185e+00,  3.11052384e+00, -2.35964589e-02,\n",
       "        -2.84002250e-01,  1.83346770e-01,  4.82029744e-01,\n",
       "         4.07044061e-01,  1.25290771e+00,  2.97635771e+00,\n",
       "         4.27260987e+00],\n",
       "       [ 0.00000000e+00, -3.35016487e-01, -8.70540934e-01,\n",
       "        -8.71657484e-01,  8.21054277e-02,  7.56386297e-01,\n",
       "         2.69818600e+00,  5.30682066e+00, -5.90775571e-02,\n",
       "        -6.24009262e-01, -8.45451789e-01,  6.08733555e-01,\n",
       "        -2.04828041e-01, -1.22703931e-01,  3.32473705e+00,\n",
       "         6.63542845e+00, -4.46250733e-02, -6.06444536e-01,\n",
       "         4.04559613e-02,  1.67883652e-01, -9.39088384e-01,\n",
       "         3.12570504e-02,  3.56293250e+00,  4.90316302e+00,\n",
       "        -3.33797263e-02, -6.45350139e-02,  3.46035739e-01,\n",
       "        -3.04020506e-01, -4.05465525e-01,  1.16083857e+00,\n",
       "         1.55990338e+00,  2.07468239e+00,  0.00000000e+00,\n",
       "         4.61416273e-02,  1.47522944e-01, -6.46469565e-02,\n",
       "         2.30123046e-01,  8.33072741e-01,  1.29336768e-01,\n",
       "         0.00000000e+00, -6.13436689e-02, -3.74736366e-01,\n",
       "        -6.75445390e-01, -3.61538519e-01,  6.75603100e-01,\n",
       "        -1.11786409e-01, -6.98189395e-01, -8.87416172e-02,\n",
       "        -3.54332626e-02, -4.03574986e-01, -1.26535245e+00,\n",
       "        -4.73173597e-01,  4.81158802e-01, -1.02139660e+00,\n",
       "        -7.57435810e-01, -2.09785127e-01, -2.35964589e-02,\n",
       "        -2.99081347e-01, -8.47628833e-01, -4.01443543e-01,\n",
       "        -7.72239010e-01, -1.01668150e+00, -5.05669803e-01,\n",
       "        -1.96007519e-01],\n",
       "       [ 0.00000000e+00, -3.09957187e-01, -1.96078229e-01,\n",
       "         3.04837127e-01, -1.46164427e-01, -5.05116414e-01,\n",
       "        -3.99470552e-01, -1.25022923e-01, -5.90775571e-02,\n",
       "        -3.43054289e-01,  4.32655322e-01,  3.43820664e-01,\n",
       "         2.30338172e-01,  5.24918099e-01, -2.42415529e-01,\n",
       "        -1.30433381e-01, -4.46250733e-02,  3.32339262e-01,\n",
       "         7.71042262e-01, -3.18052666e-01, -8.07304281e-01,\n",
       "         6.90632919e-01,  5.39103494e-01, -1.14221844e-01,\n",
       "        -3.33797263e-02,  9.23599893e-01,  5.80945713e-01,\n",
       "        -1.16756911e+00, -1.57618633e+00,  2.49632159e-01,\n",
       "         1.13480600e+00, -4.72323823e-02,  0.00000000e+00,\n",
       "         1.03573123e+00,  6.09765688e-01, -1.31616204e+00,\n",
       "        -1.73187517e+00, -4.78934228e-03,  1.21461815e+00,\n",
       "         0.00000000e+00, -6.13436689e-02,  6.65696124e-01,\n",
       "         9.83050195e-01, -8.93052157e-01, -1.00902996e+00,\n",
       "         5.35233029e-01,  5.66493929e-01, -8.87416172e-02,\n",
       "        -3.54332626e-02,  6.51179803e-02,  1.00465273e+00,\n",
       "         6.09937633e-02,  1.58366371e-01,  7.48695386e-01,\n",
       "        -2.61811241e-01, -2.09785127e-01, -2.35964589e-02,\n",
       "        -2.92998302e-01, -2.60765926e-01,  3.46002866e-01,\n",
       "         3.08240491e-01, -2.23914850e-01, -4.37589292e-01,\n",
       "        -1.96007519e-01],\n",
       "       [ 0.00000000e+00,  1.40594542e+00,  1.20649207e+00,\n",
       "         4.63472597e-01,  5.45913063e-01,  1.20518194e+00,\n",
       "         9.42590025e-01, -8.87735779e-02,  2.07437738e-02,\n",
       "         1.05610522e+00,  8.42271083e-01,  1.56445035e-01,\n",
       "        -2.31403731e-01, -6.50926805e-02,  2.33674862e-01,\n",
       "        -8.50127185e-02, -4.46250733e-02,  1.04937179e+00,\n",
       "         6.36847792e-01, -2.00946150e-01, -6.97839390e-01,\n",
       "        -1.05246184e+00, -5.30348554e-01, -1.14221844e-01,\n",
       "        -3.33797263e-02,  7.99607476e-01,  6.43573865e-01,\n",
       "         5.09781891e-01, -3.95237334e-01, -1.00193843e+00,\n",
       "        -6.00333909e-01, -4.72323823e-02,  0.00000000e+00,\n",
       "        -1.77516084e-01, -5.32025857e-02,  2.03311019e-01,\n",
       "         5.30910484e-02, -7.66039672e-01, -7.46152135e-01,\n",
       "         0.00000000e+00, -6.13436689e-02, -4.12738286e-01,\n",
       "        -7.97458430e-01, -1.97725601e-01,  4.92131930e-01,\n",
       "        -4.04671247e-01, -6.88869940e-01, -8.87416172e-02,\n",
       "        -3.54332626e-02,  1.82193333e-01, -2.81708993e-01,\n",
       "         1.39976193e-01,  5.41349958e-01, -6.76973355e-01,\n",
       "        -6.73350670e-01, -2.09785127e-01, -2.35964589e-02,\n",
       "         1.37526532e+00,  1.26429428e+00,  5.48690374e-01,\n",
       "        -9.49059549e-01, -9.87323384e-01, -4.89122384e-01,\n",
       "        -1.96007519e-01]])"
      ]
     },
     "execution_count": 37,
     "metadata": {},
     "output_type": "execute_result"
    }
   ],
   "source": [
    "centers = model.cluster_centers_\n",
    "centers"
   ]
  },
  {
   "cell_type": "code",
   "execution_count": 35,
   "metadata": {
    "ExecuteTime": {
     "end_time": "2019-12-05T16:23:32.730707Z",
     "start_time": "2019-12-05T16:23:32.717042Z"
    }
   },
   "outputs": [
    {
     "data": {
      "text/plain": [
       "array([7, 3, 3, ..., 3, 1, 3])"
      ]
     },
     "execution_count": 35,
     "metadata": {},
     "output_type": "execute_result"
    }
   ],
   "source": [
    "result = model.predict(data)\n",
    "# model.labels_\n",
    "result"
   ]
  }
 ],
 "metadata": {
  "kernelspec": {
   "display_name": "Python 3",
   "language": "python",
   "name": "python3"
  },
  "language_info": {
   "codemirror_mode": {
    "name": "ipython",
    "version": 3
   },
   "file_extension": ".py",
   "mimetype": "text/x-python",
   "name": "python",
   "nbconvert_exporter": "python",
   "pygments_lexer": "ipython3",
   "version": "3.6.2"
  },
  "toc": {
   "base_numbering": 1,
   "nav_menu": {},
   "number_sections": true,
   "sideBar": true,
   "skip_h1_title": false,
   "title_cell": "Table of Contents",
   "title_sidebar": "Contents",
   "toc_cell": false,
   "toc_position": {},
   "toc_section_display": true,
   "toc_window_display": false
  },
  "varInspector": {
   "cols": {
    "lenName": 16,
    "lenType": 16,
    "lenVar": 40
   },
   "kernels_config": {
    "python": {
     "delete_cmd_postfix": "",
     "delete_cmd_prefix": "del ",
     "library": "var_list.py",
     "varRefreshCmd": "print(var_dic_list())"
    },
    "r": {
     "delete_cmd_postfix": ") ",
     "delete_cmd_prefix": "rm(",
     "library": "var_list.r",
     "varRefreshCmd": "cat(var_dic_list()) "
    }
   },
   "types_to_exclude": [
    "module",
    "function",
    "builtin_function_or_method",
    "instance",
    "_Feature"
   ],
   "window_display": false
  }
 },
 "nbformat": 4,
 "nbformat_minor": 2
}
